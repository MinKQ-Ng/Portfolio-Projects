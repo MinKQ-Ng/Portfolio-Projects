{
    "metadata": {
        "kernelspec": {
            "name": "SQL",
            "display_name": "SQL",
            "language": "sql"
        },
        "language_info": {
            "name": "sql",
            "version": ""
        }
    },
    "nbformat_minor": 2,
    "nbformat": 4,
    "cells": [
        {
            "cell_type": "markdown",
            "source": [
                "# Average Piece count on Board\n",
                "\n",
                "Chess pieces such as knight, bishop, queen have different life span in every game. My guess is light pieces including knights, bishops and pawns will be the first piece to be captured, while queen and rooks tend to last untill end game phase. This table shows how many, on average(over all the games), chess pieces survive throughout chess games from the top 12 chess players in the world."
            ],
            "metadata": {
                "azdata_cell_guid": "ed0a01ea-3284-40ef-995a-aecb8d2433f9"
            },
            "attachments": {}
        },
        {
            "cell_type": "code",
            "source": [
                "USE PortfolioDB\n",
                "GO\n",
                "-- Group queen, rook, knight, bishop and pawn columns into piece column\n",
                "DROP TABLE  IF EXISTS pivot_table\n",
                "SELECT \n",
                "        move_num,\n",
                "        piece,\n",
                "        player,\n",
                "        num_of_piece,\n",
                "        file_name\n",
                "INTO pivot_table\n",
                "FROM Player_piece\n",
                "    UNPIVOT\n",
                "    (\n",
                "        num_of_piece for piece IN (queen, rook, knight, bishop, pawn)\n",
                "    ) unpiv;\n",
                "\n",
                "-- Calculate the number of pieces averaged over all games \n",
                "SELECT TOP 100\n",
                "    piece,\n",
                "    move_num,\n",
                "    CAST(CAST(SUM(num_of_piece) AS FLOAT) / CAST(COUNT(*) AS FLOAT) AS DECIMAL(10,2)) AS avg_num_of_piece \n",
                "FROM pivot_table\n",
                "WHERE\n",
                "    move_num < 150\n",
                "GROUP BY \n",
                "    piece,\n",
                "    move_num\n",
                "ORDER BY 1,2\n",
                "GO"
            ],
            "metadata": {
                "azdata_cell_guid": "c31a4e10-001a-41c6-a5c5-9e35f070f1aa",
                "language": "sql",
                "tags": []
            },
            "outputs": [
                {
                    "output_type": "display_data",
                    "data": {
                        "text/html": "Commands completed successfully."
                    },
                    "metadata": {}
                },
                {
                    "output_type": "display_data",
                    "data": {
                        "text/html": "(8935995 rows affected)"
                    },
                    "metadata": {}
                },
                {
                    "output_type": "display_data",
                    "data": {
                        "text/html": "(100 rows affected)"
                    },
                    "metadata": {}
                },
                {
                    "output_type": "display_data",
                    "data": {
                        "text/html": "Total execution time: 00:00:08.382"
                    },
                    "metadata": {}
                },
                {
                    "output_type": "execute_result",
                    "metadata": {},
                    "execution_count": 7,
                    "data": {
                        "application/vnd.dataresource+json": {
                            "schema": {
                                "fields": [
                                    {
                                        "name": "piece"
                                    },
                                    {
                                        "name": "move_num"
                                    },
                                    {
                                        "name": "avg_num_of_piece"
                                    }
                                ]
                            },
                            "data": [
                                {
                                    "0": "bishop",
                                    "1": "1",
                                    "2": "2.00"
                                },
                                {
                                    "0": "bishop",
                                    "1": "2",
                                    "2": "2.00"
                                },
                                {
                                    "0": "bishop",
                                    "1": "3",
                                    "2": "2.00"
                                },
                                {
                                    "0": "bishop",
                                    "1": "4",
                                    "2": "2.00"
                                },
                                {
                                    "0": "bishop",
                                    "1": "5",
                                    "2": "2.00"
                                },
                                {
                                    "0": "bishop",
                                    "1": "6",
                                    "2": "2.00"
                                },
                                {
                                    "0": "bishop",
                                    "1": "7",
                                    "2": "2.00"
                                },
                                {
                                    "0": "bishop",
                                    "1": "8",
                                    "2": "1.99"
                                },
                                {
                                    "0": "bishop",
                                    "1": "9",
                                    "2": "1.99"
                                },
                                {
                                    "0": "bishop",
                                    "1": "10",
                                    "2": "1.98"
                                },
                                {
                                    "0": "bishop",
                                    "1": "11",
                                    "2": "1.97"
                                },
                                {
                                    "0": "bishop",
                                    "1": "12",
                                    "2": "1.95"
                                },
                                {
                                    "0": "bishop",
                                    "1": "13",
                                    "2": "1.94"
                                },
                                {
                                    "0": "bishop",
                                    "1": "14",
                                    "2": "1.93"
                                },
                                {
                                    "0": "bishop",
                                    "1": "15",
                                    "2": "1.91"
                                },
                                {
                                    "0": "bishop",
                                    "1": "16",
                                    "2": "1.90"
                                },
                                {
                                    "0": "bishop",
                                    "1": "17",
                                    "2": "1.89"
                                },
                                {
                                    "0": "bishop",
                                    "1": "18",
                                    "2": "1.87"
                                },
                                {
                                    "0": "bishop",
                                    "1": "19",
                                    "2": "1.85"
                                },
                                {
                                    "0": "bishop",
                                    "1": "20",
                                    "2": "1.82"
                                },
                                {
                                    "0": "bishop",
                                    "1": "21",
                                    "2": "1.80"
                                },
                                {
                                    "0": "bishop",
                                    "1": "22",
                                    "2": "1.78"
                                },
                                {
                                    "0": "bishop",
                                    "1": "23",
                                    "2": "1.76"
                                },
                                {
                                    "0": "bishop",
                                    "1": "24",
                                    "2": "1.73"
                                },
                                {
                                    "0": "bishop",
                                    "1": "25",
                                    "2": "1.71"
                                },
                                {
                                    "0": "bishop",
                                    "1": "26",
                                    "2": "1.68"
                                },
                                {
                                    "0": "bishop",
                                    "1": "27",
                                    "2": "1.66"
                                },
                                {
                                    "0": "bishop",
                                    "1": "28",
                                    "2": "1.63"
                                },
                                {
                                    "0": "bishop",
                                    "1": "29",
                                    "2": "1.60"
                                },
                                {
                                    "0": "bishop",
                                    "1": "30",
                                    "2": "1.57"
                                },
                                {
                                    "0": "bishop",
                                    "1": "31",
                                    "2": "1.54"
                                },
                                {
                                    "0": "bishop",
                                    "1": "32",
                                    "2": "1.51"
                                },
                                {
                                    "0": "bishop",
                                    "1": "33",
                                    "2": "1.48"
                                },
                                {
                                    "0": "bishop",
                                    "1": "34",
                                    "2": "1.45"
                                },
                                {
                                    "0": "bishop",
                                    "1": "35",
                                    "2": "1.42"
                                },
                                {
                                    "0": "bishop",
                                    "1": "36",
                                    "2": "1.39"
                                },
                                {
                                    "0": "bishop",
                                    "1": "37",
                                    "2": "1.36"
                                },
                                {
                                    "0": "bishop",
                                    "1": "38",
                                    "2": "1.33"
                                },
                                {
                                    "0": "bishop",
                                    "1": "39",
                                    "2": "1.30"
                                },
                                {
                                    "0": "bishop",
                                    "1": "40",
                                    "2": "1.27"
                                },
                                {
                                    "0": "bishop",
                                    "1": "41",
                                    "2": "1.24"
                                },
                                {
                                    "0": "bishop",
                                    "1": "42",
                                    "2": "1.21"
                                },
                                {
                                    "0": "bishop",
                                    "1": "43",
                                    "2": "1.18"
                                },
                                {
                                    "0": "bishop",
                                    "1": "44",
                                    "2": "1.16"
                                },
                                {
                                    "0": "bishop",
                                    "1": "45",
                                    "2": "1.13"
                                },
                                {
                                    "0": "bishop",
                                    "1": "46",
                                    "2": "1.11"
                                },
                                {
                                    "0": "bishop",
                                    "1": "47",
                                    "2": "1.08"
                                },
                                {
                                    "0": "bishop",
                                    "1": "48",
                                    "2": "1.06"
                                },
                                {
                                    "0": "bishop",
                                    "1": "49",
                                    "2": "1.04"
                                },
                                {
                                    "0": "bishop",
                                    "1": "50",
                                    "2": "1.01"
                                },
                                {
                                    "0": "bishop",
                                    "1": "51",
                                    "2": "0.99"
                                },
                                {
                                    "0": "bishop",
                                    "1": "52",
                                    "2": "0.96"
                                },
                                {
                                    "0": "bishop",
                                    "1": "53",
                                    "2": "0.94"
                                },
                                {
                                    "0": "bishop",
                                    "1": "54",
                                    "2": "0.92"
                                },
                                {
                                    "0": "bishop",
                                    "1": "55",
                                    "2": "0.90"
                                },
                                {
                                    "0": "bishop",
                                    "1": "56",
                                    "2": "0.89"
                                },
                                {
                                    "0": "bishop",
                                    "1": "57",
                                    "2": "0.87"
                                },
                                {
                                    "0": "bishop",
                                    "1": "58",
                                    "2": "0.85"
                                },
                                {
                                    "0": "bishop",
                                    "1": "59",
                                    "2": "0.83"
                                },
                                {
                                    "0": "bishop",
                                    "1": "60",
                                    "2": "0.82"
                                },
                                {
                                    "0": "bishop",
                                    "1": "61",
                                    "2": "0.80"
                                },
                                {
                                    "0": "bishop",
                                    "1": "62",
                                    "2": "0.79"
                                },
                                {
                                    "0": "bishop",
                                    "1": "63",
                                    "2": "0.77"
                                },
                                {
                                    "0": "bishop",
                                    "1": "64",
                                    "2": "0.75"
                                },
                                {
                                    "0": "bishop",
                                    "1": "65",
                                    "2": "0.74"
                                },
                                {
                                    "0": "bishop",
                                    "1": "66",
                                    "2": "0.73"
                                },
                                {
                                    "0": "bishop",
                                    "1": "67",
                                    "2": "0.72"
                                },
                                {
                                    "0": "bishop",
                                    "1": "68",
                                    "2": "0.70"
                                },
                                {
                                    "0": "bishop",
                                    "1": "69",
                                    "2": "0.69"
                                },
                                {
                                    "0": "bishop",
                                    "1": "70",
                                    "2": "0.68"
                                },
                                {
                                    "0": "bishop",
                                    "1": "71",
                                    "2": "0.67"
                                },
                                {
                                    "0": "bishop",
                                    "1": "72",
                                    "2": "0.66"
                                },
                                {
                                    "0": "bishop",
                                    "1": "73",
                                    "2": "0.65"
                                },
                                {
                                    "0": "bishop",
                                    "1": "74",
                                    "2": "0.64"
                                },
                                {
                                    "0": "bishop",
                                    "1": "75",
                                    "2": "0.63"
                                },
                                {
                                    "0": "bishop",
                                    "1": "76",
                                    "2": "0.61"
                                },
                                {
                                    "0": "bishop",
                                    "1": "77",
                                    "2": "0.60"
                                },
                                {
                                    "0": "bishop",
                                    "1": "78",
                                    "2": "0.59"
                                },
                                {
                                    "0": "bishop",
                                    "1": "79",
                                    "2": "0.58"
                                },
                                {
                                    "0": "bishop",
                                    "1": "80",
                                    "2": "0.58"
                                },
                                {
                                    "0": "bishop",
                                    "1": "81",
                                    "2": "0.57"
                                },
                                {
                                    "0": "bishop",
                                    "1": "82",
                                    "2": "0.56"
                                },
                                {
                                    "0": "bishop",
                                    "1": "83",
                                    "2": "0.55"
                                },
                                {
                                    "0": "bishop",
                                    "1": "84",
                                    "2": "0.54"
                                },
                                {
                                    "0": "bishop",
                                    "1": "85",
                                    "2": "0.53"
                                },
                                {
                                    "0": "bishop",
                                    "1": "86",
                                    "2": "0.53"
                                },
                                {
                                    "0": "bishop",
                                    "1": "87",
                                    "2": "0.52"
                                },
                                {
                                    "0": "bishop",
                                    "1": "88",
                                    "2": "0.51"
                                },
                                {
                                    "0": "bishop",
                                    "1": "89",
                                    "2": "0.50"
                                },
                                {
                                    "0": "bishop",
                                    "1": "90",
                                    "2": "0.50"
                                },
                                {
                                    "0": "bishop",
                                    "1": "91",
                                    "2": "0.49"
                                },
                                {
                                    "0": "bishop",
                                    "1": "92",
                                    "2": "0.49"
                                },
                                {
                                    "0": "bishop",
                                    "1": "93",
                                    "2": "0.48"
                                },
                                {
                                    "0": "bishop",
                                    "1": "94",
                                    "2": "0.48"
                                },
                                {
                                    "0": "bishop",
                                    "1": "95",
                                    "2": "0.47"
                                },
                                {
                                    "0": "bishop",
                                    "1": "96",
                                    "2": "0.47"
                                },
                                {
                                    "0": "bishop",
                                    "1": "97",
                                    "2": "0.46"
                                },
                                {
                                    "0": "bishop",
                                    "1": "98",
                                    "2": "0.45"
                                },
                                {
                                    "0": "bishop",
                                    "1": "99",
                                    "2": "0.45"
                                },
                                {
                                    "0": "bishop",
                                    "1": "100",
                                    "2": "0.45"
                                }
                            ]
                        },
                        "text/html": [
                            "<table>",
                            "<tr><th>piece</th><th>move_num</th><th>avg_num_of_piece</th></tr>",
                            "<tr><td>bishop</td><td>1</td><td>2.00</td></tr>",
                            "<tr><td>bishop</td><td>2</td><td>2.00</td></tr>",
                            "<tr><td>bishop</td><td>3</td><td>2.00</td></tr>",
                            "<tr><td>bishop</td><td>4</td><td>2.00</td></tr>",
                            "<tr><td>bishop</td><td>5</td><td>2.00</td></tr>",
                            "<tr><td>bishop</td><td>6</td><td>2.00</td></tr>",
                            "<tr><td>bishop</td><td>7</td><td>2.00</td></tr>",
                            "<tr><td>bishop</td><td>8</td><td>1.99</td></tr>",
                            "<tr><td>bishop</td><td>9</td><td>1.99</td></tr>",
                            "<tr><td>bishop</td><td>10</td><td>1.98</td></tr>",
                            "<tr><td>bishop</td><td>11</td><td>1.97</td></tr>",
                            "<tr><td>bishop</td><td>12</td><td>1.95</td></tr>",
                            "<tr><td>bishop</td><td>13</td><td>1.94</td></tr>",
                            "<tr><td>bishop</td><td>14</td><td>1.93</td></tr>",
                            "<tr><td>bishop</td><td>15</td><td>1.91</td></tr>",
                            "<tr><td>bishop</td><td>16</td><td>1.90</td></tr>",
                            "<tr><td>bishop</td><td>17</td><td>1.89</td></tr>",
                            "<tr><td>bishop</td><td>18</td><td>1.87</td></tr>",
                            "<tr><td>bishop</td><td>19</td><td>1.85</td></tr>",
                            "<tr><td>bishop</td><td>20</td><td>1.82</td></tr>",
                            "<tr><td>bishop</td><td>21</td><td>1.80</td></tr>",
                            "<tr><td>bishop</td><td>22</td><td>1.78</td></tr>",
                            "<tr><td>bishop</td><td>23</td><td>1.76</td></tr>",
                            "<tr><td>bishop</td><td>24</td><td>1.73</td></tr>",
                            "<tr><td>bishop</td><td>25</td><td>1.71</td></tr>",
                            "<tr><td>bishop</td><td>26</td><td>1.68</td></tr>",
                            "<tr><td>bishop</td><td>27</td><td>1.66</td></tr>",
                            "<tr><td>bishop</td><td>28</td><td>1.63</td></tr>",
                            "<tr><td>bishop</td><td>29</td><td>1.60</td></tr>",
                            "<tr><td>bishop</td><td>30</td><td>1.57</td></tr>",
                            "<tr><td>bishop</td><td>31</td><td>1.54</td></tr>",
                            "<tr><td>bishop</td><td>32</td><td>1.51</td></tr>",
                            "<tr><td>bishop</td><td>33</td><td>1.48</td></tr>",
                            "<tr><td>bishop</td><td>34</td><td>1.45</td></tr>",
                            "<tr><td>bishop</td><td>35</td><td>1.42</td></tr>",
                            "<tr><td>bishop</td><td>36</td><td>1.39</td></tr>",
                            "<tr><td>bishop</td><td>37</td><td>1.36</td></tr>",
                            "<tr><td>bishop</td><td>38</td><td>1.33</td></tr>",
                            "<tr><td>bishop</td><td>39</td><td>1.30</td></tr>",
                            "<tr><td>bishop</td><td>40</td><td>1.27</td></tr>",
                            "<tr><td>bishop</td><td>41</td><td>1.24</td></tr>",
                            "<tr><td>bishop</td><td>42</td><td>1.21</td></tr>",
                            "<tr><td>bishop</td><td>43</td><td>1.18</td></tr>",
                            "<tr><td>bishop</td><td>44</td><td>1.16</td></tr>",
                            "<tr><td>bishop</td><td>45</td><td>1.13</td></tr>",
                            "<tr><td>bishop</td><td>46</td><td>1.11</td></tr>",
                            "<tr><td>bishop</td><td>47</td><td>1.08</td></tr>",
                            "<tr><td>bishop</td><td>48</td><td>1.06</td></tr>",
                            "<tr><td>bishop</td><td>49</td><td>1.04</td></tr>",
                            "<tr><td>bishop</td><td>50</td><td>1.01</td></tr>",
                            "<tr><td>bishop</td><td>51</td><td>0.99</td></tr>",
                            "<tr><td>bishop</td><td>52</td><td>0.96</td></tr>",
                            "<tr><td>bishop</td><td>53</td><td>0.94</td></tr>",
                            "<tr><td>bishop</td><td>54</td><td>0.92</td></tr>",
                            "<tr><td>bishop</td><td>55</td><td>0.90</td></tr>",
                            "<tr><td>bishop</td><td>56</td><td>0.89</td></tr>",
                            "<tr><td>bishop</td><td>57</td><td>0.87</td></tr>",
                            "<tr><td>bishop</td><td>58</td><td>0.85</td></tr>",
                            "<tr><td>bishop</td><td>59</td><td>0.83</td></tr>",
                            "<tr><td>bishop</td><td>60</td><td>0.82</td></tr>",
                            "<tr><td>bishop</td><td>61</td><td>0.80</td></tr>",
                            "<tr><td>bishop</td><td>62</td><td>0.79</td></tr>",
                            "<tr><td>bishop</td><td>63</td><td>0.77</td></tr>",
                            "<tr><td>bishop</td><td>64</td><td>0.75</td></tr>",
                            "<tr><td>bishop</td><td>65</td><td>0.74</td></tr>",
                            "<tr><td>bishop</td><td>66</td><td>0.73</td></tr>",
                            "<tr><td>bishop</td><td>67</td><td>0.72</td></tr>",
                            "<tr><td>bishop</td><td>68</td><td>0.70</td></tr>",
                            "<tr><td>bishop</td><td>69</td><td>0.69</td></tr>",
                            "<tr><td>bishop</td><td>70</td><td>0.68</td></tr>",
                            "<tr><td>bishop</td><td>71</td><td>0.67</td></tr>",
                            "<tr><td>bishop</td><td>72</td><td>0.66</td></tr>",
                            "<tr><td>bishop</td><td>73</td><td>0.65</td></tr>",
                            "<tr><td>bishop</td><td>74</td><td>0.64</td></tr>",
                            "<tr><td>bishop</td><td>75</td><td>0.63</td></tr>",
                            "<tr><td>bishop</td><td>76</td><td>0.61</td></tr>",
                            "<tr><td>bishop</td><td>77</td><td>0.60</td></tr>",
                            "<tr><td>bishop</td><td>78</td><td>0.59</td></tr>",
                            "<tr><td>bishop</td><td>79</td><td>0.58</td></tr>",
                            "<tr><td>bishop</td><td>80</td><td>0.58</td></tr>",
                            "<tr><td>bishop</td><td>81</td><td>0.57</td></tr>",
                            "<tr><td>bishop</td><td>82</td><td>0.56</td></tr>",
                            "<tr><td>bishop</td><td>83</td><td>0.55</td></tr>",
                            "<tr><td>bishop</td><td>84</td><td>0.54</td></tr>",
                            "<tr><td>bishop</td><td>85</td><td>0.53</td></tr>",
                            "<tr><td>bishop</td><td>86</td><td>0.53</td></tr>",
                            "<tr><td>bishop</td><td>87</td><td>0.52</td></tr>",
                            "<tr><td>bishop</td><td>88</td><td>0.51</td></tr>",
                            "<tr><td>bishop</td><td>89</td><td>0.50</td></tr>",
                            "<tr><td>bishop</td><td>90</td><td>0.50</td></tr>",
                            "<tr><td>bishop</td><td>91</td><td>0.49</td></tr>",
                            "<tr><td>bishop</td><td>92</td><td>0.49</td></tr>",
                            "<tr><td>bishop</td><td>93</td><td>0.48</td></tr>",
                            "<tr><td>bishop</td><td>94</td><td>0.48</td></tr>",
                            "<tr><td>bishop</td><td>95</td><td>0.47</td></tr>",
                            "<tr><td>bishop</td><td>96</td><td>0.47</td></tr>",
                            "<tr><td>bishop</td><td>97</td><td>0.46</td></tr>",
                            "<tr><td>bishop</td><td>98</td><td>0.45</td></tr>",
                            "<tr><td>bishop</td><td>99</td><td>0.45</td></tr>",
                            "<tr><td>bishop</td><td>100</td><td>0.45</td></tr>",
                            "</table>"
                        ]
                    }
                }
            ],
            "execution_count": 7
        },
        {
            "cell_type": "markdown",
            "source": [
                "# Average number of Pawn Promotion over all games\n",
                "\n",
                "In a chess game, pawns are the leaset valued piece. However, when they become \"passed pawn\", which means they have passed beyond enymy pawns  and have a clear run to first or eighth rank to be promoted to a queen, their values soar. This table computes the average number of pawns getting promoted to a Queen from Top players' games."
            ],
            "metadata": {
                "azdata_cell_guid": "33e4abb7-7c42-42eb-8b68-1b3ceb303751"
            },
            "attachments": {}
        },
        {
            "cell_type": "code",
            "source": [
                "-- Calculate the average of pawn promtion\n",
                "SELECT\n",
                "    player,\n",
                "    CAST(queen_promotion_with_white + queen_promotion_with_black AS FLOAT) / CAST(total_games AS FLOAT)\n",
                "        AS average_promotion,\n",
                "    total_games\n",
                "FROM\n",
                "    -- Calculate how many queens are promoted in all games. The notation is 8=Q for White and 1=Q for Black\n",
                "    (SELECT\n",
                "        player,\n",
                "        COUNT(*) AS total_games,\n",
                "        SUM(CASE WHEN lines LIKE '%8=Q%' AND color = 'White' THEN 1 END) AS queen_promotion_with_white,\n",
                "        SUM(CASE WHEN lines LIKE '%1=Q%' AND color = 'Black' THEN 1 END) AS queen_promotion_with_black\n",
                "    FROM game_data\n",
                "    GROUP BY player) AS queen_promotion\n",
                "ORDER BY\n",
                "    average_promotion DESC"
            ],
            "metadata": {
                "azdata_cell_guid": "d31e5bde-339c-4676-8614-7df50c2dfe5a",
                "language": "sql"
            },
            "outputs": [
                {
                    "output_type": "display_data",
                    "data": {
                        "text/html": "Warning: Null value is eliminated by an aggregate or other SET operation."
                    },
                    "metadata": {}
                },
                {
                    "output_type": "display_data",
                    "data": {
                        "text/html": "(12 rows affected)"
                    },
                    "metadata": {}
                },
                {
                    "output_type": "display_data",
                    "data": {
                        "text/html": "Total execution time: 00:00:04.268"
                    },
                    "metadata": {}
                },
                {
                    "output_type": "execute_result",
                    "metadata": {},
                    "execution_count": 6,
                    "data": {
                        "application/vnd.dataresource+json": {
                            "schema": {
                                "fields": [
                                    {
                                        "name": "player"
                                    },
                                    {
                                        "name": "average_promotion"
                                    },
                                    {
                                        "name": "total_games"
                                    }
                                ]
                            },
                            "data": [
                                {
                                    "0": "Morphy",
                                    "1": "0.06097560975609756",
                                    "2": "246"
                                },
                                {
                                    "0": "Alekhine",
                                    "1": "0.040031397174254316",
                                    "2": "1274"
                                },
                                {
                                    "0": "Carlsen",
                                    "1": "0.03871987356775978",
                                    "2": "2531"
                                },
                                {
                                    "0": "Fischer",
                                    "1": "0.03817603393425239",
                                    "2": "943"
                                },
                                {
                                    "0": "Polgar",
                                    "1": "0.03758169934640523",
                                    "2": "1836"
                                },
                                {
                                    "0": "Caruana",
                                    "1": "0.035696073431922486",
                                    "2": "1961"
                                },
                                {
                                    "0": "Nakamura",
                                    "1": "0.033496424538953705",
                                    "2": "2657"
                                },
                                {
                                    "0": "Capablanca",
                                    "1": "0.02875816993464052",
                                    "2": "765"
                                },
                                {
                                    "0": "Kasparov",
                                    "1": "0.025712949976624593",
                                    "2": "2139"
                                },
                                {
                                    "0": "Anand",
                                    "1": "0.022836199605300252",
                                    "2": "3547"
                                },
                                {
                                    "0": "Tal",
                                    "1": "0.02245508982035928",
                                    "2": "2672"
                                },
                                {
                                    "0": "Botvinnik",
                                    "1": "0.021653543307086614",
                                    "2": "1016"
                                }
                            ]
                        },
                        "text/html": [
                            "<table>",
                            "<tr><th>player</th><th>average_promotion</th><th>total_games</th></tr>",
                            "<tr><td>Morphy</td><td>0.06097560975609756</td><td>246</td></tr>",
                            "<tr><td>Alekhine</td><td>0.040031397174254316</td><td>1274</td></tr>",
                            "<tr><td>Carlsen</td><td>0.03871987356775978</td><td>2531</td></tr>",
                            "<tr><td>Fischer</td><td>0.03817603393425239</td><td>943</td></tr>",
                            "<tr><td>Polgar</td><td>0.03758169934640523</td><td>1836</td></tr>",
                            "<tr><td>Caruana</td><td>0.035696073431922486</td><td>1961</td></tr>",
                            "<tr><td>Nakamura</td><td>0.033496424538953705</td><td>2657</td></tr>",
                            "<tr><td>Capablanca</td><td>0.02875816993464052</td><td>765</td></tr>",
                            "<tr><td>Kasparov</td><td>0.025712949976624593</td><td>2139</td></tr>",
                            "<tr><td>Anand</td><td>0.022836199605300252</td><td>3547</td></tr>",
                            "<tr><td>Tal</td><td>0.02245508982035928</td><td>2672</td></tr>",
                            "<tr><td>Botvinnik</td><td>0.021653543307086614</td><td>1016</td></tr>",
                            "</table>"
                        ]
                    }
                }
            ],
            "execution_count": 6
        },
        {
            "cell_type": "markdown",
            "source": [
                "# Average attacked enemy square count\n",
                "\n",
                "This table quantifies how aggressive each player is by counting how many enymy squares are under attack for a given moment."
            ],
            "metadata": {
                "azdata_cell_guid": "b79af88b-e80c-4fa6-9c97-88eb1a3fdff6"
            },
            "attachments": {}
        },
        {
            "cell_type": "code",
            "source": [
                "-- Compute the average enemy squares that are under attack\n",
                "SELECT TOP 100\n",
                "    player,\n",
                "    move_num,\n",
                "    CAST(SUM(attacked_square_num) AS FLOAT) / CAST(COUNT(*) AS FLOAT) AS square_count\n",
                "FROM Player_attacked_square_info\n",
                "WHERE\n",
                "    move_num < 60\n",
                "GROUP BY player, move_num\n",
                "ORDER BY 1,2"
            ],
            "metadata": {
                "azdata_cell_guid": "bb7cd31d-a850-4076-9cb7-011cf465d79a",
                "language": "sql"
            },
            "outputs": [
                {
                    "output_type": "display_data",
                    "data": {
                        "text/html": "(100 rows affected)"
                    },
                    "metadata": {}
                },
                {
                    "output_type": "display_data",
                    "data": {
                        "text/html": "Total execution time: 00:00:00.353"
                    },
                    "metadata": {}
                },
                {
                    "output_type": "execute_result",
                    "metadata": {},
                    "execution_count": 3,
                    "data": {
                        "application/vnd.dataresource+json": {
                            "schema": {
                                "fields": [
                                    {
                                        "name": "player"
                                    },
                                    {
                                        "name": "move_num"
                                    },
                                    {
                                        "name": "square_count"
                                    }
                                ]
                            },
                            "data": [
                                {
                                    "0": "Alekhine",
                                    "1": "1",
                                    "2": "2.388540031397174"
                                },
                                {
                                    "0": "Alekhine",
                                    "1": "2",
                                    "2": "3.8540031397174253"
                                },
                                {
                                    "0": "Alekhine",
                                    "1": "3",
                                    "2": "4.97331240188383"
                                },
                                {
                                    "0": "Alekhine",
                                    "1": "4",
                                    "2": "5.63265306122449"
                                },
                                {
                                    "0": "Alekhine",
                                    "1": "5",
                                    "2": "6.450549450549451"
                                },
                                {
                                    "0": "Alekhine",
                                    "1": "6",
                                    "2": "6.827315541601256"
                                },
                                {
                                    "0": "Alekhine",
                                    "1": "7",
                                    "2": "7.2919937205651495"
                                },
                                {
                                    "0": "Alekhine",
                                    "1": "8",
                                    "2": "7.6051805337519625"
                                },
                                {
                                    "0": "Alekhine",
                                    "1": "9",
                                    "2": "7.978806907378336"
                                },
                                {
                                    "0": "Alekhine",
                                    "1": "10",
                                    "2": "8.167974882260596"
                                },
                                {
                                    "0": "Alekhine",
                                    "1": "11",
                                    "2": "8.599686028257457"
                                },
                                {
                                    "0": "Alekhine",
                                    "1": "12",
                                    "2": "8.846938775510203"
                                },
                                {
                                    "0": "Alekhine",
                                    "1": "13",
                                    "2": "9.112244897959183"
                                },
                                {
                                    "0": "Alekhine",
                                    "1": "14",
                                    "2": "9.179748822605966"
                                },
                                {
                                    "0": "Alekhine",
                                    "1": "15",
                                    "2": "9.58712715855573"
                                },
                                {
                                    "0": "Alekhine",
                                    "1": "16",
                                    "2": "9.596546310832025"
                                },
                                {
                                    "0": "Alekhine",
                                    "1": "17",
                                    "2": "9.84850863422292"
                                },
                                {
                                    "0": "Alekhine",
                                    "1": "18",
                                    "2": "9.902668759811617"
                                },
                                {
                                    "0": "Alekhine",
                                    "1": "19",
                                    "2": "10.276512175962294"
                                },
                                {
                                    "0": "Alekhine",
                                    "1": "20",
                                    "2": "10.225451688923801"
                                },
                                {
                                    "0": "Alekhine",
                                    "1": "21",
                                    "2": "10.476415094339623"
                                },
                                {
                                    "0": "Alekhine",
                                    "1": "22",
                                    "2": "10.52714398111723"
                                },
                                {
                                    "0": "Alekhine",
                                    "1": "23",
                                    "2": "10.688976377952756"
                                },
                                {
                                    "0": "Alekhine",
                                    "1": "24",
                                    "2": "10.736593059936908"
                                },
                                {
                                    "0": "Alekhine",
                                    "1": "25",
                                    "2": "10.915481832543444"
                                },
                                {
                                    "0": "Alekhine",
                                    "1": "26",
                                    "2": "10.966034755134281"
                                },
                                {
                                    "0": "Alekhine",
                                    "1": "27",
                                    "2": "11.260663507109005"
                                },
                                {
                                    "0": "Alekhine",
                                    "1": "28",
                                    "2": "11.25494853523357"
                                },
                                {
                                    "0": "Alekhine",
                                    "1": "29",
                                    "2": "11.665079365079364"
                                },
                                {
                                    "0": "Alekhine",
                                    "1": "30",
                                    "2": "11.652866242038217"
                                },
                                {
                                    "0": "Alekhine",
                                    "1": "31",
                                    "2": "11.9129392971246"
                                },
                                {
                                    "0": "Alekhine",
                                    "1": "32",
                                    "2": "11.949559647718175"
                                },
                                {
                                    "0": "Alekhine",
                                    "1": "33",
                                    "2": "12.113162118780096"
                                },
                                {
                                    "0": "Alekhine",
                                    "1": "34",
                                    "2": "12.077294685990339"
                                },
                                {
                                    "0": "Alekhine",
                                    "1": "35",
                                    "2": "12.43042071197411"
                                },
                                {
                                    "0": "Alekhine",
                                    "1": "36",
                                    "2": "12.354759967453214"
                                },
                                {
                                    "0": "Alekhine",
                                    "1": "37",
                                    "2": "12.578303425774878"
                                },
                                {
                                    "0": "Alekhine",
                                    "1": "38",
                                    "2": "12.528301886792454"
                                },
                                {
                                    "0": "Alekhine",
                                    "1": "39",
                                    "2": "12.791254125412541"
                                },
                                {
                                    "0": "Alekhine",
                                    "1": "40",
                                    "2": "12.742285237698082"
                                },
                                {
                                    "0": "Alekhine",
                                    "1": "41",
                                    "2": "13.005897219882055"
                                },
                                {
                                    "0": "Alekhine",
                                    "1": "42",
                                    "2": "12.968697123519458"
                                },
                                {
                                    "0": "Alekhine",
                                    "1": "43",
                                    "2": "13.095238095238095"
                                },
                                {
                                    "0": "Alekhine",
                                    "1": "44",
                                    "2": "13.102564102564102"
                                },
                                {
                                    "0": "Alekhine",
                                    "1": "45",
                                    "2": "13.263112639724849"
                                },
                                {
                                    "0": "Alekhine",
                                    "1": "46",
                                    "2": "13.131348511383537"
                                },
                                {
                                    "0": "Alekhine",
                                    "1": "47",
                                    "2": "13.253533568904594"
                                },
                                {
                                    "0": "Alekhine",
                                    "1": "48",
                                    "2": "13.180679785330948"
                                },
                                {
                                    "0": "Alekhine",
                                    "1": "49",
                                    "2": "13.28054298642534"
                                },
                                {
                                    "0": "Alekhine",
                                    "1": "50",
                                    "2": "13.1691042047532"
                                },
                                {
                                    "0": "Alekhine",
                                    "1": "51",
                                    "2": "13.189063948100094"
                                },
                                {
                                    "0": "Alekhine",
                                    "1": "52",
                                    "2": "13.087735849056603"
                                },
                                {
                                    "0": "Alekhine",
                                    "1": "53",
                                    "2": "13.250236966824644"
                                },
                                {
                                    "0": "Alekhine",
                                    "1": "54",
                                    "2": "13.1944177093359"
                                },
                                {
                                    "0": "Alekhine",
                                    "1": "55",
                                    "2": "13.331372549019608"
                                },
                                {
                                    "0": "Alekhine",
                                    "1": "56",
                                    "2": "13.317048853439681"
                                },
                                {
                                    "0": "Alekhine",
                                    "1": "57",
                                    "2": "13.279755849440487"
                                },
                                {
                                    "0": "Alekhine",
                                    "1": "58",
                                    "2": "13.098969072164948"
                                },
                                {
                                    "0": "Alekhine",
                                    "1": "59",
                                    "2": "13.332985386221294"
                                },
                                {
                                    "0": "Anand",
                                    "1": "1",
                                    "2": "2.3830392714854867"
                                },
                                {
                                    "0": "Anand",
                                    "1": "2",
                                    "2": "3.8269778030734205"
                                },
                                {
                                    "0": "Anand",
                                    "1": "3",
                                    "2": "4.663346613545817"
                                },
                                {
                                    "0": "Anand",
                                    "1": "4",
                                    "2": "5.4704040978941375"
                                },
                                {
                                    "0": "Anand",
                                    "1": "5",
                                    "2": "6.403813318155947"
                                },
                                {
                                    "0": "Anand",
                                    "1": "6",
                                    "2": "6.600455321570859"
                                },
                                {
                                    "0": "Anand",
                                    "1": "7",
                                    "2": "6.986340352874217"
                                },
                                {
                                    "0": "Anand",
                                    "1": "8",
                                    "2": "7.405805350028458"
                                },
                                {
                                    "0": "Anand",
                                    "1": "9",
                                    "2": "7.899544678429141"
                                },
                                {
                                    "0": "Anand",
                                    "1": "10",
                                    "2": "8.215993170176437"
                                },
                                {
                                    "0": "Anand",
                                    "1": "11",
                                    "2": "8.307057484348322"
                                },
                                {
                                    "0": "Anand",
                                    "1": "12",
                                    "2": "8.49501850270424"
                                },
                                {
                                    "0": "Anand",
                                    "1": "13",
                                    "2": "8.735269000853972"
                                },
                                {
                                    "0": "Anand",
                                    "1": "14",
                                    "2": "9.128664958724737"
                                },
                                {
                                    "0": "Anand",
                                    "1": "15",
                                    "2": "9.210076857386849"
                                },
                                {
                                    "0": "Anand",
                                    "1": "16",
                                    "2": "9.336560364464692"
                                },
                                {
                                    "0": "Anand",
                                    "1": "17",
                                    "2": "9.491457858769932"
                                },
                                {
                                    "0": "Anand",
                                    "1": "18",
                                    "2": "9.549544419134396"
                                },
                                {
                                    "0": "Anand",
                                    "1": "19",
                                    "2": "9.753776004559704"
                                },
                                {
                                    "0": "Anand",
                                    "1": "20",
                                    "2": "9.866020524515394"
                                },
                                {
                                    "0": "Anand",
                                    "1": "21",
                                    "2": "9.994582264043341"
                                },
                                {
                                    "0": "Anand",
                                    "1": "22",
                                    "2": "10.149871538681131"
                                },
                                {
                                    "0": "Anand",
                                    "1": "23",
                                    "2": "10.115175764504144"
                                },
                                {
                                    "0": "Anand",
                                    "1": "24",
                                    "2": "10.245418098510882"
                                },
                                {
                                    "0": "Anand",
                                    "1": "25",
                                    "2": "10.287883128043541"
                                },
                                {
                                    "0": "Anand",
                                    "1": "26",
                                    "2": "10.485205400746912"
                                },
                                {
                                    "0": "Anand",
                                    "1": "27",
                                    "2": "10.570730304772859"
                                },
                                {
                                    "0": "Anand",
                                    "1": "28",
                                    "2": "10.679538904899136"
                                },
                                {
                                    "0": "Anand",
                                    "1": "29",
                                    "2": "10.776752235361984"
                                },
                                {
                                    "0": "Anand",
                                    "1": "30",
                                    "2": "10.908591264101823"
                                },
                                {
                                    "0": "Anand",
                                    "1": "31",
                                    "2": "11.003473227206946"
                                },
                                {
                                    "0": "Anand",
                                    "1": "32",
                                    "2": "11.089374090247453"
                                },
                                {
                                    "0": "Anand",
                                    "1": "33",
                                    "2": "11.155575014594278"
                                },
                                {
                                    "0": "Anand",
                                    "1": "34",
                                    "2": "11.24639811820053"
                                },
                                {
                                    "0": "Anand",
                                    "1": "35",
                                    "2": "11.267393867924529"
                                },
                                {
                                    "0": "Anand",
                                    "1": "36",
                                    "2": "11.422037422037421"
                                },
                                {
                                    "0": "Anand",
                                    "1": "37",
                                    "2": "11.541008052490307"
                                },
                                {
                                    "0": "Anand",
                                    "1": "38",
                                    "2": "11.589210367691381"
                                },
                                {
                                    "0": "Anand",
                                    "1": "39",
                                    "2": "11.652660217654171"
                                },
                                {
                                    "0": "Anand",
                                    "1": "40",
                                    "2": "11.749160817821178"
                                },
                                {
                                    "0": "Anand",
                                    "1": "41",
                                    "2": "11.821000921093031"
                                }
                            ]
                        },
                        "text/html": [
                            "<table>",
                            "<tr><th>player</th><th>move_num</th><th>square_count</th></tr>",
                            "<tr><td>Alekhine</td><td>1</td><td>2.388540031397174</td></tr>",
                            "<tr><td>Alekhine</td><td>2</td><td>3.8540031397174253</td></tr>",
                            "<tr><td>Alekhine</td><td>3</td><td>4.97331240188383</td></tr>",
                            "<tr><td>Alekhine</td><td>4</td><td>5.63265306122449</td></tr>",
                            "<tr><td>Alekhine</td><td>5</td><td>6.450549450549451</td></tr>",
                            "<tr><td>Alekhine</td><td>6</td><td>6.827315541601256</td></tr>",
                            "<tr><td>Alekhine</td><td>7</td><td>7.2919937205651495</td></tr>",
                            "<tr><td>Alekhine</td><td>8</td><td>7.6051805337519625</td></tr>",
                            "<tr><td>Alekhine</td><td>9</td><td>7.978806907378336</td></tr>",
                            "<tr><td>Alekhine</td><td>10</td><td>8.167974882260596</td></tr>",
                            "<tr><td>Alekhine</td><td>11</td><td>8.599686028257457</td></tr>",
                            "<tr><td>Alekhine</td><td>12</td><td>8.846938775510203</td></tr>",
                            "<tr><td>Alekhine</td><td>13</td><td>9.112244897959183</td></tr>",
                            "<tr><td>Alekhine</td><td>14</td><td>9.179748822605966</td></tr>",
                            "<tr><td>Alekhine</td><td>15</td><td>9.58712715855573</td></tr>",
                            "<tr><td>Alekhine</td><td>16</td><td>9.596546310832025</td></tr>",
                            "<tr><td>Alekhine</td><td>17</td><td>9.84850863422292</td></tr>",
                            "<tr><td>Alekhine</td><td>18</td><td>9.902668759811617</td></tr>",
                            "<tr><td>Alekhine</td><td>19</td><td>10.276512175962294</td></tr>",
                            "<tr><td>Alekhine</td><td>20</td><td>10.225451688923801</td></tr>",
                            "<tr><td>Alekhine</td><td>21</td><td>10.476415094339623</td></tr>",
                            "<tr><td>Alekhine</td><td>22</td><td>10.52714398111723</td></tr>",
                            "<tr><td>Alekhine</td><td>23</td><td>10.688976377952756</td></tr>",
                            "<tr><td>Alekhine</td><td>24</td><td>10.736593059936908</td></tr>",
                            "<tr><td>Alekhine</td><td>25</td><td>10.915481832543444</td></tr>",
                            "<tr><td>Alekhine</td><td>26</td><td>10.966034755134281</td></tr>",
                            "<tr><td>Alekhine</td><td>27</td><td>11.260663507109005</td></tr>",
                            "<tr><td>Alekhine</td><td>28</td><td>11.25494853523357</td></tr>",
                            "<tr><td>Alekhine</td><td>29</td><td>11.665079365079364</td></tr>",
                            "<tr><td>Alekhine</td><td>30</td><td>11.652866242038217</td></tr>",
                            "<tr><td>Alekhine</td><td>31</td><td>11.9129392971246</td></tr>",
                            "<tr><td>Alekhine</td><td>32</td><td>11.949559647718175</td></tr>",
                            "<tr><td>Alekhine</td><td>33</td><td>12.113162118780096</td></tr>",
                            "<tr><td>Alekhine</td><td>34</td><td>12.077294685990339</td></tr>",
                            "<tr><td>Alekhine</td><td>35</td><td>12.43042071197411</td></tr>",
                            "<tr><td>Alekhine</td><td>36</td><td>12.354759967453214</td></tr>",
                            "<tr><td>Alekhine</td><td>37</td><td>12.578303425774878</td></tr>",
                            "<tr><td>Alekhine</td><td>38</td><td>12.528301886792454</td></tr>",
                            "<tr><td>Alekhine</td><td>39</td><td>12.791254125412541</td></tr>",
                            "<tr><td>Alekhine</td><td>40</td><td>12.742285237698082</td></tr>",
                            "<tr><td>Alekhine</td><td>41</td><td>13.005897219882055</td></tr>",
                            "<tr><td>Alekhine</td><td>42</td><td>12.968697123519458</td></tr>",
                            "<tr><td>Alekhine</td><td>43</td><td>13.095238095238095</td></tr>",
                            "<tr><td>Alekhine</td><td>44</td><td>13.102564102564102</td></tr>",
                            "<tr><td>Alekhine</td><td>45</td><td>13.263112639724849</td></tr>",
                            "<tr><td>Alekhine</td><td>46</td><td>13.131348511383537</td></tr>",
                            "<tr><td>Alekhine</td><td>47</td><td>13.253533568904594</td></tr>",
                            "<tr><td>Alekhine</td><td>48</td><td>13.180679785330948</td></tr>",
                            "<tr><td>Alekhine</td><td>49</td><td>13.28054298642534</td></tr>",
                            "<tr><td>Alekhine</td><td>50</td><td>13.1691042047532</td></tr>",
                            "<tr><td>Alekhine</td><td>51</td><td>13.189063948100094</td></tr>",
                            "<tr><td>Alekhine</td><td>52</td><td>13.087735849056603</td></tr>",
                            "<tr><td>Alekhine</td><td>53</td><td>13.250236966824644</td></tr>",
                            "<tr><td>Alekhine</td><td>54</td><td>13.1944177093359</td></tr>",
                            "<tr><td>Alekhine</td><td>55</td><td>13.331372549019608</td></tr>",
                            "<tr><td>Alekhine</td><td>56</td><td>13.317048853439681</td></tr>",
                            "<tr><td>Alekhine</td><td>57</td><td>13.279755849440487</td></tr>",
                            "<tr><td>Alekhine</td><td>58</td><td>13.098969072164948</td></tr>",
                            "<tr><td>Alekhine</td><td>59</td><td>13.332985386221294</td></tr>",
                            "<tr><td>Anand</td><td>1</td><td>2.3830392714854867</td></tr>",
                            "<tr><td>Anand</td><td>2</td><td>3.8269778030734205</td></tr>",
                            "<tr><td>Anand</td><td>3</td><td>4.663346613545817</td></tr>",
                            "<tr><td>Anand</td><td>4</td><td>5.4704040978941375</td></tr>",
                            "<tr><td>Anand</td><td>5</td><td>6.403813318155947</td></tr>",
                            "<tr><td>Anand</td><td>6</td><td>6.600455321570859</td></tr>",
                            "<tr><td>Anand</td><td>7</td><td>6.986340352874217</td></tr>",
                            "<tr><td>Anand</td><td>8</td><td>7.405805350028458</td></tr>",
                            "<tr><td>Anand</td><td>9</td><td>7.899544678429141</td></tr>",
                            "<tr><td>Anand</td><td>10</td><td>8.215993170176437</td></tr>",
                            "<tr><td>Anand</td><td>11</td><td>8.307057484348322</td></tr>",
                            "<tr><td>Anand</td><td>12</td><td>8.49501850270424</td></tr>",
                            "<tr><td>Anand</td><td>13</td><td>8.735269000853972</td></tr>",
                            "<tr><td>Anand</td><td>14</td><td>9.128664958724737</td></tr>",
                            "<tr><td>Anand</td><td>15</td><td>9.210076857386849</td></tr>",
                            "<tr><td>Anand</td><td>16</td><td>9.336560364464692</td></tr>",
                            "<tr><td>Anand</td><td>17</td><td>9.491457858769932</td></tr>",
                            "<tr><td>Anand</td><td>18</td><td>9.549544419134396</td></tr>",
                            "<tr><td>Anand</td><td>19</td><td>9.753776004559704</td></tr>",
                            "<tr><td>Anand</td><td>20</td><td>9.866020524515394</td></tr>",
                            "<tr><td>Anand</td><td>21</td><td>9.994582264043341</td></tr>",
                            "<tr><td>Anand</td><td>22</td><td>10.149871538681131</td></tr>",
                            "<tr><td>Anand</td><td>23</td><td>10.115175764504144</td></tr>",
                            "<tr><td>Anand</td><td>24</td><td>10.245418098510882</td></tr>",
                            "<tr><td>Anand</td><td>25</td><td>10.287883128043541</td></tr>",
                            "<tr><td>Anand</td><td>26</td><td>10.485205400746912</td></tr>",
                            "<tr><td>Anand</td><td>27</td><td>10.570730304772859</td></tr>",
                            "<tr><td>Anand</td><td>28</td><td>10.679538904899136</td></tr>",
                            "<tr><td>Anand</td><td>29</td><td>10.776752235361984</td></tr>",
                            "<tr><td>Anand</td><td>30</td><td>10.908591264101823</td></tr>",
                            "<tr><td>Anand</td><td>31</td><td>11.003473227206946</td></tr>",
                            "<tr><td>Anand</td><td>32</td><td>11.089374090247453</td></tr>",
                            "<tr><td>Anand</td><td>33</td><td>11.155575014594278</td></tr>",
                            "<tr><td>Anand</td><td>34</td><td>11.24639811820053</td></tr>",
                            "<tr><td>Anand</td><td>35</td><td>11.267393867924529</td></tr>",
                            "<tr><td>Anand</td><td>36</td><td>11.422037422037421</td></tr>",
                            "<tr><td>Anand</td><td>37</td><td>11.541008052490307</td></tr>",
                            "<tr><td>Anand</td><td>38</td><td>11.589210367691381</td></tr>",
                            "<tr><td>Anand</td><td>39</td><td>11.652660217654171</td></tr>",
                            "<tr><td>Anand</td><td>40</td><td>11.749160817821178</td></tr>",
                            "<tr><td>Anand</td><td>41</td><td>11.821000921093031</td></tr>",
                            "</table>"
                        ]
                    }
                }
            ],
            "execution_count": 3
        },
        {
            "cell_type": "markdown",
            "source": [
                "# Which player likes to sacrifice his pieces?\n",
                "\n",
                "Chess pieces are assigned different values: queen worth 10 points, rook worth 5 points each, bishop and knight worth 3.5 points each and pawn worth 1 point each. Piece sacrifice means exchanging your high value piece for low value piece from enemy to gain a better position or tempo regardless of loss of materials. For example, you use your rook to capture enemy knight and your rook get captured in the next move, this sacrifice will be assigned a 5 - 3.5 = 1.5 points."
            ],
            "metadata": {
                "azdata_cell_guid": "7fecae1f-29e3-4ce1-bd50-5a48829ed9c8"
            },
            "attachments": {}
        },
        {
            "cell_type": "code",
            "source": [
                "-- Calculate the average points of material sacrificed by each player over all games\n",
                "SELECT \n",
                "    player,\n",
                "    CAST(CAST(SUM(total_sac) AS FLOAT) / CAST(COUNT(*) AS FLOAT) AS DECIMAL(5,2)) AS avg_sac_per_game\n",
                "FROM player_piece_sac_data\n",
                "GROUP BY player\n",
                "ORDER BY 1"
            ],
            "metadata": {
                "azdata_cell_guid": "2d37be3c-4e4c-4d6f-b5ca-99f60f3a08ae",
                "language": "sql"
            },
            "outputs": [
                {
                    "output_type": "display_data",
                    "data": {
                        "text/html": "(12 rows affected)"
                    },
                    "metadata": {}
                },
                {
                    "output_type": "display_data",
                    "data": {
                        "text/html": "Total execution time: 00:00:00.034"
                    },
                    "metadata": {}
                },
                {
                    "output_type": "execute_result",
                    "metadata": {},
                    "execution_count": 4,
                    "data": {
                        "application/vnd.dataresource+json": {
                            "schema": {
                                "fields": [
                                    {
                                        "name": "player"
                                    },
                                    {
                                        "name": "avg_sac_per_game"
                                    }
                                ]
                            },
                            "data": [
                                {
                                    "0": "Alekhine",
                                    "1": "5.66"
                                },
                                {
                                    "0": "Anand",
                                    "1": "5.35"
                                },
                                {
                                    "0": "Botvinnik",
                                    "1": "5.41"
                                },
                                {
                                    "0": "Capablanca",
                                    "1": "5.24"
                                },
                                {
                                    "0": "Carlsen",
                                    "1": "5.63"
                                },
                                {
                                    "0": "Caruana",
                                    "1": "5.51"
                                },
                                {
                                    "0": "Fischer",
                                    "1": "5.72"
                                },
                                {
                                    "0": "Kasparov",
                                    "1": "4.90"
                                },
                                {
                                    "0": "Morphy",
                                    "1": "5.78"
                                },
                                {
                                    "0": "Nakamura",
                                    "1": "5.80"
                                },
                                {
                                    "0": "Polgar",
                                    "1": "5.37"
                                },
                                {
                                    "0": "Tal",
                                    "1": "4.82"
                                }
                            ]
                        },
                        "text/html": [
                            "<table>",
                            "<tr><th>player</th><th>avg_sac_per_game</th></tr>",
                            "<tr><td>Alekhine</td><td>5.66</td></tr>",
                            "<tr><td>Anand</td><td>5.35</td></tr>",
                            "<tr><td>Botvinnik</td><td>5.41</td></tr>",
                            "<tr><td>Capablanca</td><td>5.24</td></tr>",
                            "<tr><td>Carlsen</td><td>5.63</td></tr>",
                            "<tr><td>Caruana</td><td>5.51</td></tr>",
                            "<tr><td>Fischer</td><td>5.72</td></tr>",
                            "<tr><td>Kasparov</td><td>4.90</td></tr>",
                            "<tr><td>Morphy</td><td>5.78</td></tr>",
                            "<tr><td>Nakamura</td><td>5.80</td></tr>",
                            "<tr><td>Polgar</td><td>5.37</td></tr>",
                            "<tr><td>Tal</td><td>4.82</td></tr>",
                            "</table>"
                        ]
                    }
                }
            ],
            "execution_count": 4
        },
        {
            "cell_type": "markdown",
            "source": [
                "# Average life span of chess pieces\n",
                "\n",
                "Chess players tend to value pieces differently and have a tendency to keep their favourite pieces on the board for as long as they could. The way to calculate life span for bishops works liek this: on one game, if the first bishop survives 20 moves before getting captured and another bishop surveves 30 moves before getting captured, then the average life span for bishops in this game is (20 + 30) /2 = 25. This number is then averaged over all that player's games. These tables show the average life span of pieces from each player."
            ],
            "metadata": {
                "azdata_cell_guid": "327b6102-8ec0-4413-be70-e9e7d8ace094"
            },
            "attachments": {}
        },
        {
            "cell_type": "code",
            "source": [
                "-- Average life span of queen\n",
                "SELECT\n",
                "    player,\n",
                "    AVG(life_span) AS average_life_span_queen\n",
                "FROM\n",
                "    (SELECT\n",
                "        player,\n",
                "        file_name,\n",
                "        COUNT(*) AS life_span\n",
                "    FROM\n",
                "        pivot_table\n",
                "    WHERE\n",
                "        piece = 'queen'\n",
                "    AND num_of_piece = 1\n",
                "    GROUP BY file_name, player) AS queen_life_span\n",
                "GROUP BY\n",
                "    player\n",
                "ORDER BY 2\n",
                "\n",
                "-- Average life span of knight\n",
                "SELECT\n",
                "    player,\n",
                "    AVG(first_knight_life_span + second_knight_life_span) / 2 AS average_life_span_knight\n",
                "FROM\n",
                "    (SELECT\n",
                "        player,\n",
                "        file_name,\n",
                "        COUNT(CASE WHEN num_of_piece = 2 THEN 2 END) AS first_knight_life_span,\n",
                "        SUM(CASE WHEN 1 <= num_of_piece AND num_of_piece <= 2 THEN 1 END) AS second_knight_life_span\n",
                "    FROM\n",
                "        pivot_table\n",
                "    WHERE\n",
                "        piece = 'knight'\n",
                "    GROUP BY player, file_name) AS knight_life_span\n",
                "GROUP BY player\n",
                "ORDER BY 2\n",
                "\n",
                "-- Average life span of bishop\n",
                "SELECT\n",
                "    player,\n",
                "    AVG(first_bishop_life_span + second_bishop_life_span) / 2 AS average_life_span_bishop\n",
                "FROM\n",
                "    (SELECT\n",
                "        player,\n",
                "        file_name,\n",
                "        COUNT(CASE WHEN num_of_piece = 2 THEN 2 END) AS first_bishop_life_span,\n",
                "        SUM(CASE WHEN 1 <= num_of_piece AND num_of_piece <= 2 THEN 1 END) AS second_bishop_life_span\n",
                "    FROM\n",
                "        pivot_table\n",
                "    WHERE\n",
                "        piece = 'bishop'\n",
                "    GROUP BY player, file_name) AS bishop_life_span\n",
                "GROUP BY player\n",
                "ORDER BY 2\n",
                "\n",
                "-- Average life span of rook\n",
                "SELECT\n",
                "    player,\n",
                "    AVG(first_rook_life_span + second_rook_life_span) / 2 AS average_life_span_rook\n",
                "FROM\n",
                "    (SELECT\n",
                "        player,\n",
                "        file_name,\n",
                "        COUNT(CASE WHEN num_of_piece = 2 THEN 2 END) AS first_rook_life_span,\n",
                "        SUM(CASE WHEN 1 <= num_of_piece AND num_of_piece <= 2 THEN 1 END) AS second_rook_life_span\n",
                "    FROM\n",
                "        pivot_table\n",
                "    WHERE\n",
                "        piece = 'rook'\n",
                "    GROUP BY player, file_name) AS rook_life_span\n",
                "GROUP BY player\n",
                "ORDER BY 2\n",
                "\n",
                "-- Average life span of pawn\n",
                "SELECT\n",
                "    player,\n",
                "    AVG(first_pawn_life_span + second_pawn_life_span + third_pawn_life_span + fourth_pawn_life_span +\n",
                "        fifth_pawn_life_span + sixth_pawn_life_span + seventh_pawn_life_span + eigth_pawn_life_span) / 8 AS average_life_span_pawn\n",
                "FROM\n",
                "    (SELECT\n",
                "        player,\n",
                "        file_name,\n",
                "        COUNT(CASE WHEN num_of_piece = 8 THEN 8 END) AS first_pawn_life_span,\n",
                "        COUNT(CASE WHEN 7 <= num_of_piece AND num_of_piece <= 8 THEN 2 END) AS second_pawn_life_span,\n",
                "        COUNT(CASE WHEN 6 <= num_of_piece AND num_of_piece <= 8 THEN 3 END) AS third_pawn_life_span,\n",
                "        COUNT(CASE WHEN 5 <= num_of_piece AND num_of_piece <= 8 THEN 4 END) AS fourth_pawn_life_span,\n",
                "        COUNT(CASE WHEN 4 <= num_of_piece AND num_of_piece <= 8 THEN 5 END) AS fifth_pawn_life_span,\n",
                "        COUNT(CASE WHEN 3 <= num_of_piece AND num_of_piece <= 8 THEN 6 END) AS sixth_pawn_life_span,\n",
                "        COUNT(CASE WHEN 2 <= num_of_piece AND num_of_piece <= 8 THEN 7 END) AS seventh_pawn_life_span,\n",
                "        COUNT(CASE WHEN 1 <= num_of_piece AND num_of_piece <= 8 THEN 8 END) AS eigth_pawn_life_span\n",
                "    FROM\n",
                "        pivot_table\n",
                "    WHERE\n",
                "        piece = 'pawn'\n",
                "    GROUP BY player, file_name) AS pawn_life_span\n",
                "GROUP BY player\n",
                "ORDER BY 2\n",
                "\n",
                "\n",
                ""
            ],
            "metadata": {
                "azdata_cell_guid": "931a89bf-fd2a-4125-b7b2-2c0587dcf57b",
                "language": "sql"
            },
            "outputs": [
                {
                    "output_type": "display_data",
                    "data": {
                        "text/html": "(0 rows affected)"
                    },
                    "metadata": {}
                },
                {
                    "output_type": "display_data",
                    "data": {
                        "text/html": "(0 rows affected)"
                    },
                    "metadata": {}
                },
                {
                    "output_type": "display_data",
                    "data": {
                        "text/html": "(0 rows affected)"
                    },
                    "metadata": {}
                },
                {
                    "output_type": "display_data",
                    "data": {
                        "text/html": "(0 rows affected)"
                    },
                    "metadata": {}
                },
                {
                    "output_type": "display_data",
                    "data": {
                        "text/html": "(0 rows affected)"
                    },
                    "metadata": {}
                },
                {
                    "output_type": "display_data",
                    "data": {
                        "text/html": "Total execution time: 00:00:00.065"
                    },
                    "metadata": {}
                },
                {
                    "output_type": "execute_result",
                    "metadata": {},
                    "execution_count": 5,
                    "data": {
                        "application/vnd.dataresource+json": {
                            "schema": {
                                "fields": [
                                    {
                                        "name": "player"
                                    },
                                    {
                                        "name": "average_life_span_queen"
                                    }
                                ]
                            },
                            "data": []
                        },
                        "text/html": [
                            "<table>",
                            "<tr><th>player</th><th>average_life_span_queen</th></tr>",
                            "</table>"
                        ]
                    }
                },
                {
                    "output_type": "execute_result",
                    "metadata": {},
                    "execution_count": 5,
                    "data": {
                        "application/vnd.dataresource+json": {
                            "schema": {
                                "fields": [
                                    {
                                        "name": "player"
                                    },
                                    {
                                        "name": "average_life_span_knight"
                                    }
                                ]
                            },
                            "data": []
                        },
                        "text/html": [
                            "<table>",
                            "<tr><th>player</th><th>average_life_span_knight</th></tr>",
                            "</table>"
                        ]
                    }
                },
                {
                    "output_type": "execute_result",
                    "metadata": {},
                    "execution_count": 5,
                    "data": {
                        "application/vnd.dataresource+json": {
                            "schema": {
                                "fields": [
                                    {
                                        "name": "player"
                                    },
                                    {
                                        "name": "average_life_span_bishop"
                                    }
                                ]
                            },
                            "data": []
                        },
                        "text/html": [
                            "<table>",
                            "<tr><th>player</th><th>average_life_span_bishop</th></tr>",
                            "</table>"
                        ]
                    }
                },
                {
                    "output_type": "execute_result",
                    "metadata": {},
                    "execution_count": 5,
                    "data": {
                        "application/vnd.dataresource+json": {
                            "schema": {
                                "fields": [
                                    {
                                        "name": "player"
                                    },
                                    {
                                        "name": "average_life_span_rook"
                                    }
                                ]
                            },
                            "data": []
                        },
                        "text/html": [
                            "<table>",
                            "<tr><th>player</th><th>average_life_span_rook</th></tr>",
                            "</table>"
                        ]
                    }
                },
                {
                    "output_type": "execute_result",
                    "metadata": {},
                    "execution_count": 5,
                    "data": {
                        "application/vnd.dataresource+json": {
                            "schema": {
                                "fields": [
                                    {
                                        "name": "player"
                                    },
                                    {
                                        "name": "average_life_span_pawn"
                                    }
                                ]
                            },
                            "data": []
                        },
                        "text/html": [
                            "<table>",
                            "<tr><th>player</th><th>average_life_span_pawn</th></tr>",
                            "</table>"
                        ]
                    }
                }
            ],
            "execution_count": 5
        }
    ]
}