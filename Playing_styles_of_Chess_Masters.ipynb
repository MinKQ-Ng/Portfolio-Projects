{
    "metadata": {
        "kernelspec": {
            "name": "SQL",
            "display_name": "SQL",
            "language": "sql"
        },
        "language_info": {
            "name": "sql",
            "version": ""
        }
    },
    "nbformat_minor": 2,
    "nbformat": 4,
    "cells": [
        {
            "cell_type": "markdown",
            "source": [
                "# Average Piece count on Board\n",
                "\n",
                "Chess pieces such as knight, bishop, queen have different life span in every game. My guess is light pieces including knights, bishops and pawns will be the first piece to be captured, while queen and rooks tend to last untill end game phase. This table shows how many, on average(over all the games), chess pieces survive throughout chess games from the top 12 chess players in the world."
            ],
            "metadata": {
                "azdata_cell_guid": "ed0a01ea-3284-40ef-995a-aecb8d2433f9"
            },
            "attachments": {}
        },
        {
            "cell_type": "code",
            "source": [
                "USE PortfolioDB\n",
                "GO\n",
                "-- Group queen, rook, knight, bishop and pawn columns into piece column\n",
                "DROP TABLE  IF EXISTS pivot_table\n",
                "SELECT \n",
                "        move_num,\n",
                "        piece,\n",
                "        player,\n",
                "        num_of_piece,\n",
                "        file_name\n",
                "INTO pivot_table\n",
                "FROM Player_piece\n",
                "    UNPIVOT\n",
                "    (\n",
                "        num_of_piece for piece IN (queen, rook, knight, bishop, pawn)\n",
                "    ) unpiv;\n",
                "\n",
                "-- Calculate the number of pieces averaged over all games \n",
                "SELECT \n",
                "    piece,\n",
                "    move_num,\n",
                "    CAST(CAST(SUM(num_of_piece) AS FLOAT) / CAST(COUNT(*) AS FLOAT) AS DECIMAL(10,2)) AS avg_num_of_piece \n",
                "FROM pivot_table\n",
                "WHERE\n",
                "    move_num < 150\n",
                "GROUP BY \n",
                "    piece,\n",
                "    move_num\n",
                "ORDER BY 1,2\n",
                "GO"
            ],
            "metadata": {
                "azdata_cell_guid": "c31a4e10-001a-41c6-a5c5-9e35f070f1aa",
                "language": "sql",
                "tags": []
            },
            "outputs": [
                {
                    "output_type": "display_data",
                    "data": {
                        "text/html": "Commands completed successfully."
                    },
                    "metadata": {}
                },
                {
                    "output_type": "display_data",
                    "data": {
                        "text/html": "(8935995 rows affected)"
                    },
                    "metadata": {}
                },
                {
                    "output_type": "display_data",
                    "data": {
                        "text/html": "(745 rows affected)"
                    },
                    "metadata": {}
                },
                {
                    "output_type": "display_data",
                    "data": {
                        "text/html": "Total execution time: 00:00:08.008"
                    },
                    "metadata": {}
                },
                {
                    "output_type": "execute_result",
                    "metadata": {},
                    "execution_count": 1,
                    "data": {
                        "application/vnd.dataresource+json": {
                            "schema": {
                                "fields": [
                                    {
                                        "name": "piece"
                                    },
                                    {
                                        "name": "move_num"
                                    },
                                    {
                                        "name": "avg_num_of_piece"
                                    }
                                ]
                            },
                            "data": [
                                {
                                    "0": "bishop",
                                    "1": "1",
                                    "2": "2.00"
                                },
                                {
                                    "0": "bishop",
                                    "1": "2",
                                    "2": "2.00"
                                },
                                {
                                    "0": "bishop",
                                    "1": "3",
                                    "2": "2.00"
                                },
                                {
                                    "0": "bishop",
                                    "1": "4",
                                    "2": "2.00"
                                },
                                {
                                    "0": "bishop",
                                    "1": "5",
                                    "2": "2.00"
                                },
                                {
                                    "0": "bishop",
                                    "1": "6",
                                    "2": "2.00"
                                },
                                {
                                    "0": "bishop",
                                    "1": "7",
                                    "2": "2.00"
                                },
                                {
                                    "0": "bishop",
                                    "1": "8",
                                    "2": "1.99"
                                },
                                {
                                    "0": "bishop",
                                    "1": "9",
                                    "2": "1.99"
                                },
                                {
                                    "0": "bishop",
                                    "1": "10",
                                    "2": "1.98"
                                },
                                {
                                    "0": "bishop",
                                    "1": "11",
                                    "2": "1.97"
                                },
                                {
                                    "0": "bishop",
                                    "1": "12",
                                    "2": "1.95"
                                },
                                {
                                    "0": "bishop",
                                    "1": "13",
                                    "2": "1.94"
                                },
                                {
                                    "0": "bishop",
                                    "1": "14",
                                    "2": "1.93"
                                },
                                {
                                    "0": "bishop",
                                    "1": "15",
                                    "2": "1.91"
                                },
                                {
                                    "0": "bishop",
                                    "1": "16",
                                    "2": "1.90"
                                },
                                {
                                    "0": "bishop",
                                    "1": "17",
                                    "2": "1.89"
                                },
                                {
                                    "0": "bishop",
                                    "1": "18",
                                    "2": "1.87"
                                },
                                {
                                    "0": "bishop",
                                    "1": "19",
                                    "2": "1.85"
                                },
                                {
                                    "0": "bishop",
                                    "1": "20",
                                    "2": "1.82"
                                },
                                {
                                    "0": "bishop",
                                    "1": "21",
                                    "2": "1.80"
                                },
                                {
                                    "0": "bishop",
                                    "1": "22",
                                    "2": "1.78"
                                },
                                {
                                    "0": "bishop",
                                    "1": "23",
                                    "2": "1.76"
                                },
                                {
                                    "0": "bishop",
                                    "1": "24",
                                    "2": "1.73"
                                },
                                {
                                    "0": "bishop",
                                    "1": "25",
                                    "2": "1.71"
                                },
                                {
                                    "0": "bishop",
                                    "1": "26",
                                    "2": "1.68"
                                },
                                {
                                    "0": "bishop",
                                    "1": "27",
                                    "2": "1.66"
                                },
                                {
                                    "0": "bishop",
                                    "1": "28",
                                    "2": "1.63"
                                },
                                {
                                    "0": "bishop",
                                    "1": "29",
                                    "2": "1.60"
                                },
                                {
                                    "0": "bishop",
                                    "1": "30",
                                    "2": "1.57"
                                },
                                {
                                    "0": "bishop",
                                    "1": "31",
                                    "2": "1.54"
                                },
                                {
                                    "0": "bishop",
                                    "1": "32",
                                    "2": "1.51"
                                },
                                {
                                    "0": "bishop",
                                    "1": "33",
                                    "2": "1.48"
                                },
                                {
                                    "0": "bishop",
                                    "1": "34",
                                    "2": "1.45"
                                },
                                {
                                    "0": "bishop",
                                    "1": "35",
                                    "2": "1.42"
                                },
                                {
                                    "0": "bishop",
                                    "1": "36",
                                    "2": "1.39"
                                },
                                {
                                    "0": "bishop",
                                    "1": "37",
                                    "2": "1.36"
                                },
                                {
                                    "0": "bishop",
                                    "1": "38",
                                    "2": "1.33"
                                },
                                {
                                    "0": "bishop",
                                    "1": "39",
                                    "2": "1.30"
                                },
                                {
                                    "0": "bishop",
                                    "1": "40",
                                    "2": "1.27"
                                },
                                {
                                    "0": "bishop",
                                    "1": "41",
                                    "2": "1.24"
                                },
                                {
                                    "0": "bishop",
                                    "1": "42",
                                    "2": "1.21"
                                },
                                {
                                    "0": "bishop",
                                    "1": "43",
                                    "2": "1.18"
                                },
                                {
                                    "0": "bishop",
                                    "1": "44",
                                    "2": "1.16"
                                },
                                {
                                    "0": "bishop",
                                    "1": "45",
                                    "2": "1.13"
                                },
                                {
                                    "0": "bishop",
                                    "1": "46",
                                    "2": "1.11"
                                },
                                {
                                    "0": "bishop",
                                    "1": "47",
                                    "2": "1.08"
                                },
                                {
                                    "0": "bishop",
                                    "1": "48",
                                    "2": "1.06"
                                },
                                {
                                    "0": "bishop",
                                    "1": "49",
                                    "2": "1.04"
                                },
                                {
                                    "0": "bishop",
                                    "1": "50",
                                    "2": "1.01"
                                },
                                {
                                    "0": "bishop",
                                    "1": "51",
                                    "2": "0.99"
                                },
                                {
                                    "0": "bishop",
                                    "1": "52",
                                    "2": "0.96"
                                },
                                {
                                    "0": "bishop",
                                    "1": "53",
                                    "2": "0.94"
                                },
                                {
                                    "0": "bishop",
                                    "1": "54",
                                    "2": "0.92"
                                },
                                {
                                    "0": "bishop",
                                    "1": "55",
                                    "2": "0.90"
                                },
                                {
                                    "0": "bishop",
                                    "1": "56",
                                    "2": "0.89"
                                },
                                {
                                    "0": "bishop",
                                    "1": "57",
                                    "2": "0.87"
                                },
                                {
                                    "0": "bishop",
                                    "1": "58",
                                    "2": "0.85"
                                },
                                {
                                    "0": "bishop",
                                    "1": "59",
                                    "2": "0.83"
                                },
                                {
                                    "0": "bishop",
                                    "1": "60",
                                    "2": "0.82"
                                },
                                {
                                    "0": "bishop",
                                    "1": "61",
                                    "2": "0.80"
                                },
                                {
                                    "0": "bishop",
                                    "1": "62",
                                    "2": "0.79"
                                },
                                {
                                    "0": "bishop",
                                    "1": "63",
                                    "2": "0.77"
                                },
                                {
                                    "0": "bishop",
                                    "1": "64",
                                    "2": "0.75"
                                },
                                {
                                    "0": "bishop",
                                    "1": "65",
                                    "2": "0.74"
                                },
                                {
                                    "0": "bishop",
                                    "1": "66",
                                    "2": "0.73"
                                },
                                {
                                    "0": "bishop",
                                    "1": "67",
                                    "2": "0.72"
                                },
                                {
                                    "0": "bishop",
                                    "1": "68",
                                    "2": "0.70"
                                },
                                {
                                    "0": "bishop",
                                    "1": "69",
                                    "2": "0.69"
                                },
                                {
                                    "0": "bishop",
                                    "1": "70",
                                    "2": "0.68"
                                },
                                {
                                    "0": "bishop",
                                    "1": "71",
                                    "2": "0.67"
                                },
                                {
                                    "0": "bishop",
                                    "1": "72",
                                    "2": "0.66"
                                },
                                {
                                    "0": "bishop",
                                    "1": "73",
                                    "2": "0.65"
                                },
                                {
                                    "0": "bishop",
                                    "1": "74",
                                    "2": "0.64"
                                },
                                {
                                    "0": "bishop",
                                    "1": "75",
                                    "2": "0.63"
                                },
                                {
                                    "0": "bishop",
                                    "1": "76",
                                    "2": "0.61"
                                },
                                {
                                    "0": "bishop",
                                    "1": "77",
                                    "2": "0.60"
                                },
                                {
                                    "0": "bishop",
                                    "1": "78",
                                    "2": "0.59"
                                },
                                {
                                    "0": "bishop",
                                    "1": "79",
                                    "2": "0.58"
                                },
                                {
                                    "0": "bishop",
                                    "1": "80",
                                    "2": "0.58"
                                },
                                {
                                    "0": "bishop",
                                    "1": "81",
                                    "2": "0.57"
                                },
                                {
                                    "0": "bishop",
                                    "1": "82",
                                    "2": "0.56"
                                },
                                {
                                    "0": "bishop",
                                    "1": "83",
                                    "2": "0.55"
                                },
                                {
                                    "0": "bishop",
                                    "1": "84",
                                    "2": "0.54"
                                },
                                {
                                    "0": "bishop",
                                    "1": "85",
                                    "2": "0.53"
                                },
                                {
                                    "0": "bishop",
                                    "1": "86",
                                    "2": "0.53"
                                },
                                {
                                    "0": "bishop",
                                    "1": "87",
                                    "2": "0.52"
                                },
                                {
                                    "0": "bishop",
                                    "1": "88",
                                    "2": "0.51"
                                },
                                {
                                    "0": "bishop",
                                    "1": "89",
                                    "2": "0.50"
                                },
                                {
                                    "0": "bishop",
                                    "1": "90",
                                    "2": "0.50"
                                },
                                {
                                    "0": "bishop",
                                    "1": "91",
                                    "2": "0.49"
                                },
                                {
                                    "0": "bishop",
                                    "1": "92",
                                    "2": "0.49"
                                },
                                {
                                    "0": "bishop",
                                    "1": "93",
                                    "2": "0.48"
                                },
                                {
                                    "0": "bishop",
                                    "1": "94",
                                    "2": "0.48"
                                },
                                {
                                    "0": "bishop",
                                    "1": "95",
                                    "2": "0.47"
                                },
                                {
                                    "0": "bishop",
                                    "1": "96",
                                    "2": "0.47"
                                },
                                {
                                    "0": "bishop",
                                    "1": "97",
                                    "2": "0.46"
                                },
                                {
                                    "0": "bishop",
                                    "1": "98",
                                    "2": "0.45"
                                },
                                {
                                    "0": "bishop",
                                    "1": "99",
                                    "2": "0.45"
                                },
                                {
                                    "0": "bishop",
                                    "1": "100",
                                    "2": "0.45"
                                },
                                {
                                    "0": "bishop",
                                    "1": "101",
                                    "2": "0.44"
                                },
                                {
                                    "0": "bishop",
                                    "1": "102",
                                    "2": "0.44"
                                },
                                {
                                    "0": "bishop",
                                    "1": "103",
                                    "2": "0.44"
                                },
                                {
                                    "0": "bishop",
                                    "1": "104",
                                    "2": "0.43"
                                },
                                {
                                    "0": "bishop",
                                    "1": "105",
                                    "2": "0.42"
                                },
                                {
                                    "0": "bishop",
                                    "1": "106",
                                    "2": "0.42"
                                },
                                {
                                    "0": "bishop",
                                    "1": "107",
                                    "2": "0.42"
                                },
                                {
                                    "0": "bishop",
                                    "1": "108",
                                    "2": "0.42"
                                },
                                {
                                    "0": "bishop",
                                    "1": "109",
                                    "2": "0.41"
                                },
                                {
                                    "0": "bishop",
                                    "1": "110",
                                    "2": "0.41"
                                },
                                {
                                    "0": "bishop",
                                    "1": "111",
                                    "2": "0.41"
                                },
                                {
                                    "0": "bishop",
                                    "1": "112",
                                    "2": "0.41"
                                },
                                {
                                    "0": "bishop",
                                    "1": "113",
                                    "2": "0.41"
                                },
                                {
                                    "0": "bishop",
                                    "1": "114",
                                    "2": "0.40"
                                },
                                {
                                    "0": "bishop",
                                    "1": "115",
                                    "2": "0.40"
                                },
                                {
                                    "0": "bishop",
                                    "1": "116",
                                    "2": "0.39"
                                },
                                {
                                    "0": "bishop",
                                    "1": "117",
                                    "2": "0.39"
                                },
                                {
                                    "0": "bishop",
                                    "1": "118",
                                    "2": "0.39"
                                },
                                {
                                    "0": "bishop",
                                    "1": "119",
                                    "2": "0.39"
                                },
                                {
                                    "0": "bishop",
                                    "1": "120",
                                    "2": "0.38"
                                },
                                {
                                    "0": "bishop",
                                    "1": "121",
                                    "2": "0.39"
                                },
                                {
                                    "0": "bishop",
                                    "1": "122",
                                    "2": "0.39"
                                },
                                {
                                    "0": "bishop",
                                    "1": "123",
                                    "2": "0.38"
                                },
                                {
                                    "0": "bishop",
                                    "1": "124",
                                    "2": "0.38"
                                },
                                {
                                    "0": "bishop",
                                    "1": "125",
                                    "2": "0.38"
                                },
                                {
                                    "0": "bishop",
                                    "1": "126",
                                    "2": "0.38"
                                },
                                {
                                    "0": "bishop",
                                    "1": "127",
                                    "2": "0.37"
                                },
                                {
                                    "0": "bishop",
                                    "1": "128",
                                    "2": "0.37"
                                },
                                {
                                    "0": "bishop",
                                    "1": "129",
                                    "2": "0.37"
                                },
                                {
                                    "0": "bishop",
                                    "1": "130",
                                    "2": "0.36"
                                },
                                {
                                    "0": "bishop",
                                    "1": "131",
                                    "2": "0.36"
                                },
                                {
                                    "0": "bishop",
                                    "1": "132",
                                    "2": "0.36"
                                },
                                {
                                    "0": "bishop",
                                    "1": "133",
                                    "2": "0.35"
                                },
                                {
                                    "0": "bishop",
                                    "1": "134",
                                    "2": "0.36"
                                },
                                {
                                    "0": "bishop",
                                    "1": "135",
                                    "2": "0.36"
                                },
                                {
                                    "0": "bishop",
                                    "1": "136",
                                    "2": "0.37"
                                },
                                {
                                    "0": "bishop",
                                    "1": "137",
                                    "2": "0.37"
                                },
                                {
                                    "0": "bishop",
                                    "1": "138",
                                    "2": "0.36"
                                },
                                {
                                    "0": "bishop",
                                    "1": "139",
                                    "2": "0.36"
                                },
                                {
                                    "0": "bishop",
                                    "1": "140",
                                    "2": "0.36"
                                },
                                {
                                    "0": "bishop",
                                    "1": "141",
                                    "2": "0.36"
                                },
                                {
                                    "0": "bishop",
                                    "1": "142",
                                    "2": "0.36"
                                },
                                {
                                    "0": "bishop",
                                    "1": "143",
                                    "2": "0.36"
                                },
                                {
                                    "0": "bishop",
                                    "1": "144",
                                    "2": "0.36"
                                },
                                {
                                    "0": "bishop",
                                    "1": "145",
                                    "2": "0.37"
                                },
                                {
                                    "0": "bishop",
                                    "1": "146",
                                    "2": "0.36"
                                },
                                {
                                    "0": "bishop",
                                    "1": "147",
                                    "2": "0.36"
                                },
                                {
                                    "0": "bishop",
                                    "1": "148",
                                    "2": "0.36"
                                },
                                {
                                    "0": "bishop",
                                    "1": "149",
                                    "2": "0.36"
                                },
                                {
                                    "0": "knight",
                                    "1": "1",
                                    "2": "2.00"
                                },
                                {
                                    "0": "knight",
                                    "1": "2",
                                    "2": "2.00"
                                },
                                {
                                    "0": "knight",
                                    "1": "3",
                                    "2": "2.00"
                                },
                                {
                                    "0": "knight",
                                    "1": "4",
                                    "2": "2.00"
                                },
                                {
                                    "0": "knight",
                                    "1": "5",
                                    "2": "2.00"
                                },
                                {
                                    "0": "knight",
                                    "1": "6",
                                    "2": "2.00"
                                },
                                {
                                    "0": "knight",
                                    "1": "7",
                                    "2": "1.99"
                                },
                                {
                                    "0": "knight",
                                    "1": "8",
                                    "2": "1.99"
                                },
                                {
                                    "0": "knight",
                                    "1": "9",
                                    "2": "1.98"
                                },
                                {
                                    "0": "knight",
                                    "1": "10",
                                    "2": "1.96"
                                },
                                {
                                    "0": "knight",
                                    "1": "11",
                                    "2": "1.94"
                                },
                                {
                                    "0": "knight",
                                    "1": "12",
                                    "2": "1.91"
                                },
                                {
                                    "0": "knight",
                                    "1": "13",
                                    "2": "1.90"
                                },
                                {
                                    "0": "knight",
                                    "1": "14",
                                    "2": "1.88"
                                },
                                {
                                    "0": "knight",
                                    "1": "15",
                                    "2": "1.86"
                                },
                                {
                                    "0": "knight",
                                    "1": "16",
                                    "2": "1.84"
                                },
                                {
                                    "0": "knight",
                                    "1": "17",
                                    "2": "1.82"
                                },
                                {
                                    "0": "knight",
                                    "1": "18",
                                    "2": "1.79"
                                },
                                {
                                    "0": "knight",
                                    "1": "19",
                                    "2": "1.76"
                                },
                                {
                                    "0": "knight",
                                    "1": "20",
                                    "2": "1.73"
                                },
                                {
                                    "0": "knight",
                                    "1": "21",
                                    "2": "1.70"
                                },
                                {
                                    "0": "knight",
                                    "1": "22",
                                    "2": "1.66"
                                },
                                {
                                    "0": "knight",
                                    "1": "23",
                                    "2": "1.63"
                                },
                                {
                                    "0": "knight",
                                    "1": "24",
                                    "2": "1.60"
                                },
                                {
                                    "0": "knight",
                                    "1": "25",
                                    "2": "1.56"
                                },
                                {
                                    "0": "knight",
                                    "1": "26",
                                    "2": "1.53"
                                },
                                {
                                    "0": "knight",
                                    "1": "27",
                                    "2": "1.50"
                                },
                                {
                                    "0": "knight",
                                    "1": "28",
                                    "2": "1.46"
                                },
                                {
                                    "0": "knight",
                                    "1": "29",
                                    "2": "1.43"
                                },
                                {
                                    "0": "knight",
                                    "1": "30",
                                    "2": "1.39"
                                },
                                {
                                    "0": "knight",
                                    "1": "31",
                                    "2": "1.36"
                                },
                                {
                                    "0": "knight",
                                    "1": "32",
                                    "2": "1.33"
                                },
                                {
                                    "0": "knight",
                                    "1": "33",
                                    "2": "1.29"
                                },
                                {
                                    "0": "knight",
                                    "1": "34",
                                    "2": "1.26"
                                },
                                {
                                    "0": "knight",
                                    "1": "35",
                                    "2": "1.23"
                                },
                                {
                                    "0": "knight",
                                    "1": "36",
                                    "2": "1.20"
                                },
                                {
                                    "0": "knight",
                                    "1": "37",
                                    "2": "1.17"
                                },
                                {
                                    "0": "knight",
                                    "1": "38",
                                    "2": "1.14"
                                },
                                {
                                    "0": "knight",
                                    "1": "39",
                                    "2": "1.11"
                                },
                                {
                                    "0": "knight",
                                    "1": "40",
                                    "2": "1.08"
                                },
                                {
                                    "0": "knight",
                                    "1": "41",
                                    "2": "1.05"
                                },
                                {
                                    "0": "knight",
                                    "1": "42",
                                    "2": "1.02"
                                },
                                {
                                    "0": "knight",
                                    "1": "43",
                                    "2": "1.00"
                                },
                                {
                                    "0": "knight",
                                    "1": "44",
                                    "2": "0.97"
                                },
                                {
                                    "0": "knight",
                                    "1": "45",
                                    "2": "0.95"
                                },
                                {
                                    "0": "knight",
                                    "1": "46",
                                    "2": "0.93"
                                },
                                {
                                    "0": "knight",
                                    "1": "47",
                                    "2": "0.90"
                                },
                                {
                                    "0": "knight",
                                    "1": "48",
                                    "2": "0.88"
                                },
                                {
                                    "0": "knight",
                                    "1": "49",
                                    "2": "0.86"
                                },
                                {
                                    "0": "knight",
                                    "1": "50",
                                    "2": "0.84"
                                },
                                {
                                    "0": "knight",
                                    "1": "51",
                                    "2": "0.81"
                                },
                                {
                                    "0": "knight",
                                    "1": "52",
                                    "2": "0.80"
                                },
                                {
                                    "0": "knight",
                                    "1": "53",
                                    "2": "0.78"
                                },
                                {
                                    "0": "knight",
                                    "1": "54",
                                    "2": "0.76"
                                },
                                {
                                    "0": "knight",
                                    "1": "55",
                                    "2": "0.74"
                                },
                                {
                                    "0": "knight",
                                    "1": "56",
                                    "2": "0.72"
                                },
                                {
                                    "0": "knight",
                                    "1": "57",
                                    "2": "0.71"
                                },
                                {
                                    "0": "knight",
                                    "1": "58",
                                    "2": "0.69"
                                },
                                {
                                    "0": "knight",
                                    "1": "59",
                                    "2": "0.68"
                                },
                                {
                                    "0": "knight",
                                    "1": "60",
                                    "2": "0.66"
                                },
                                {
                                    "0": "knight",
                                    "1": "61",
                                    "2": "0.65"
                                },
                                {
                                    "0": "knight",
                                    "1": "62",
                                    "2": "0.63"
                                },
                                {
                                    "0": "knight",
                                    "1": "63",
                                    "2": "0.62"
                                },
                                {
                                    "0": "knight",
                                    "1": "64",
                                    "2": "0.60"
                                },
                                {
                                    "0": "knight",
                                    "1": "65",
                                    "2": "0.59"
                                },
                                {
                                    "0": "knight",
                                    "1": "66",
                                    "2": "0.58"
                                },
                                {
                                    "0": "knight",
                                    "1": "67",
                                    "2": "0.57"
                                },
                                {
                                    "0": "knight",
                                    "1": "68",
                                    "2": "0.56"
                                },
                                {
                                    "0": "knight",
                                    "1": "69",
                                    "2": "0.54"
                                },
                                {
                                    "0": "knight",
                                    "1": "70",
                                    "2": "0.53"
                                },
                                {
                                    "0": "knight",
                                    "1": "71",
                                    "2": "0.53"
                                },
                                {
                                    "0": "knight",
                                    "1": "72",
                                    "2": "0.52"
                                },
                                {
                                    "0": "knight",
                                    "1": "73",
                                    "2": "0.51"
                                },
                                {
                                    "0": "knight",
                                    "1": "74",
                                    "2": "0.50"
                                },
                                {
                                    "0": "knight",
                                    "1": "75",
                                    "2": "0.49"
                                },
                                {
                                    "0": "knight",
                                    "1": "76",
                                    "2": "0.48"
                                },
                                {
                                    "0": "knight",
                                    "1": "77",
                                    "2": "0.47"
                                },
                                {
                                    "0": "knight",
                                    "1": "78",
                                    "2": "0.46"
                                },
                                {
                                    "0": "knight",
                                    "1": "79",
                                    "2": "0.45"
                                },
                                {
                                    "0": "knight",
                                    "1": "80",
                                    "2": "0.45"
                                },
                                {
                                    "0": "knight",
                                    "1": "81",
                                    "2": "0.44"
                                },
                                {
                                    "0": "knight",
                                    "1": "82",
                                    "2": "0.44"
                                },
                                {
                                    "0": "knight",
                                    "1": "83",
                                    "2": "0.43"
                                },
                                {
                                    "0": "knight",
                                    "1": "84",
                                    "2": "0.42"
                                },
                                {
                                    "0": "knight",
                                    "1": "85",
                                    "2": "0.42"
                                },
                                {
                                    "0": "knight",
                                    "1": "86",
                                    "2": "0.41"
                                },
                                {
                                    "0": "knight",
                                    "1": "87",
                                    "2": "0.41"
                                },
                                {
                                    "0": "knight",
                                    "1": "88",
                                    "2": "0.40"
                                },
                                {
                                    "0": "knight",
                                    "1": "89",
                                    "2": "0.39"
                                },
                                {
                                    "0": "knight",
                                    "1": "90",
                                    "2": "0.39"
                                },
                                {
                                    "0": "knight",
                                    "1": "91",
                                    "2": "0.38"
                                },
                                {
                                    "0": "knight",
                                    "1": "92",
                                    "2": "0.38"
                                },
                                {
                                    "0": "knight",
                                    "1": "93",
                                    "2": "0.37"
                                },
                                {
                                    "0": "knight",
                                    "1": "94",
                                    "2": "0.37"
                                },
                                {
                                    "0": "knight",
                                    "1": "95",
                                    "2": "0.36"
                                },
                                {
                                    "0": "knight",
                                    "1": "96",
                                    "2": "0.36"
                                },
                                {
                                    "0": "knight",
                                    "1": "97",
                                    "2": "0.35"
                                },
                                {
                                    "0": "knight",
                                    "1": "98",
                                    "2": "0.35"
                                },
                                {
                                    "0": "knight",
                                    "1": "99",
                                    "2": "0.34"
                                },
                                {
                                    "0": "knight",
                                    "1": "100",
                                    "2": "0.34"
                                },
                                {
                                    "0": "knight",
                                    "1": "101",
                                    "2": "0.34"
                                },
                                {
                                    "0": "knight",
                                    "1": "102",
                                    "2": "0.33"
                                },
                                {
                                    "0": "knight",
                                    "1": "103",
                                    "2": "0.33"
                                },
                                {
                                    "0": "knight",
                                    "1": "104",
                                    "2": "0.32"
                                },
                                {
                                    "0": "knight",
                                    "1": "105",
                                    "2": "0.32"
                                },
                                {
                                    "0": "knight",
                                    "1": "106",
                                    "2": "0.32"
                                },
                                {
                                    "0": "knight",
                                    "1": "107",
                                    "2": "0.32"
                                },
                                {
                                    "0": "knight",
                                    "1": "108",
                                    "2": "0.32"
                                },
                                {
                                    "0": "knight",
                                    "1": "109",
                                    "2": "0.31"
                                },
                                {
                                    "0": "knight",
                                    "1": "110",
                                    "2": "0.31"
                                },
                                {
                                    "0": "knight",
                                    "1": "111",
                                    "2": "0.31"
                                },
                                {
                                    "0": "knight",
                                    "1": "112",
                                    "2": "0.31"
                                },
                                {
                                    "0": "knight",
                                    "1": "113",
                                    "2": "0.31"
                                },
                                {
                                    "0": "knight",
                                    "1": "114",
                                    "2": "0.31"
                                },
                                {
                                    "0": "knight",
                                    "1": "115",
                                    "2": "0.30"
                                },
                                {
                                    "0": "knight",
                                    "1": "116",
                                    "2": "0.30"
                                },
                                {
                                    "0": "knight",
                                    "1": "117",
                                    "2": "0.30"
                                },
                                {
                                    "0": "knight",
                                    "1": "118",
                                    "2": "0.30"
                                },
                                {
                                    "0": "knight",
                                    "1": "119",
                                    "2": "0.30"
                                },
                                {
                                    "0": "knight",
                                    "1": "120",
                                    "2": "0.29"
                                },
                                {
                                    "0": "knight",
                                    "1": "121",
                                    "2": "0.29"
                                },
                                {
                                    "0": "knight",
                                    "1": "122",
                                    "2": "0.29"
                                },
                                {
                                    "0": "knight",
                                    "1": "123",
                                    "2": "0.29"
                                },
                                {
                                    "0": "knight",
                                    "1": "124",
                                    "2": "0.29"
                                },
                                {
                                    "0": "knight",
                                    "1": "125",
                                    "2": "0.29"
                                },
                                {
                                    "0": "knight",
                                    "1": "126",
                                    "2": "0.29"
                                },
                                {
                                    "0": "knight",
                                    "1": "127",
                                    "2": "0.29"
                                },
                                {
                                    "0": "knight",
                                    "1": "128",
                                    "2": "0.29"
                                },
                                {
                                    "0": "knight",
                                    "1": "129",
                                    "2": "0.29"
                                },
                                {
                                    "0": "knight",
                                    "1": "130",
                                    "2": "0.29"
                                },
                                {
                                    "0": "knight",
                                    "1": "131",
                                    "2": "0.29"
                                },
                                {
                                    "0": "knight",
                                    "1": "132",
                                    "2": "0.29"
                                },
                                {
                                    "0": "knight",
                                    "1": "133",
                                    "2": "0.29"
                                },
                                {
                                    "0": "knight",
                                    "1": "134",
                                    "2": "0.29"
                                },
                                {
                                    "0": "knight",
                                    "1": "135",
                                    "2": "0.28"
                                },
                                {
                                    "0": "knight",
                                    "1": "136",
                                    "2": "0.28"
                                },
                                {
                                    "0": "knight",
                                    "1": "137",
                                    "2": "0.28"
                                },
                                {
                                    "0": "knight",
                                    "1": "138",
                                    "2": "0.28"
                                },
                                {
                                    "0": "knight",
                                    "1": "139",
                                    "2": "0.27"
                                },
                                {
                                    "0": "knight",
                                    "1": "140",
                                    "2": "0.26"
                                },
                                {
                                    "0": "knight",
                                    "1": "141",
                                    "2": "0.27"
                                },
                                {
                                    "0": "knight",
                                    "1": "142",
                                    "2": "0.26"
                                },
                                {
                                    "0": "knight",
                                    "1": "143",
                                    "2": "0.27"
                                },
                                {
                                    "0": "knight",
                                    "1": "144",
                                    "2": "0.27"
                                },
                                {
                                    "0": "knight",
                                    "1": "145",
                                    "2": "0.27"
                                },
                                {
                                    "0": "knight",
                                    "1": "146",
                                    "2": "0.28"
                                },
                                {
                                    "0": "knight",
                                    "1": "147",
                                    "2": "0.28"
                                },
                                {
                                    "0": "knight",
                                    "1": "148",
                                    "2": "0.27"
                                },
                                {
                                    "0": "knight",
                                    "1": "149",
                                    "2": "0.27"
                                },
                                {
                                    "0": "pawn",
                                    "1": "1",
                                    "2": "8.00"
                                },
                                {
                                    "0": "pawn",
                                    "1": "2",
                                    "2": "8.00"
                                },
                                {
                                    "0": "pawn",
                                    "1": "3",
                                    "2": "8.00"
                                },
                                {
                                    "0": "pawn",
                                    "1": "4",
                                    "2": "7.99"
                                },
                                {
                                    "0": "pawn",
                                    "1": "5",
                                    "2": "7.98"
                                },
                                {
                                    "0": "pawn",
                                    "1": "6",
                                    "2": "7.86"
                                },
                                {
                                    "0": "pawn",
                                    "1": "7",
                                    "2": "7.76"
                                },
                                {
                                    "0": "pawn",
                                    "1": "8",
                                    "2": "7.69"
                                },
                                {
                                    "0": "pawn",
                                    "1": "9",
                                    "2": "7.64"
                                },
                                {
                                    "0": "pawn",
                                    "1": "10",
                                    "2": "7.61"
                                },
                                {
                                    "0": "pawn",
                                    "1": "11",
                                    "2": "7.57"
                                },
                                {
                                    "0": "pawn",
                                    "1": "12",
                                    "2": "7.53"
                                },
                                {
                                    "0": "pawn",
                                    "1": "13",
                                    "2": "7.48"
                                },
                                {
                                    "0": "pawn",
                                    "1": "14",
                                    "2": "7.44"
                                },
                                {
                                    "0": "pawn",
                                    "1": "15",
                                    "2": "7.39"
                                },
                                {
                                    "0": "pawn",
                                    "1": "16",
                                    "2": "7.35"
                                },
                                {
                                    "0": "pawn",
                                    "1": "17",
                                    "2": "7.30"
                                },
                                {
                                    "0": "pawn",
                                    "1": "18",
                                    "2": "7.25"
                                },
                                {
                                    "0": "pawn",
                                    "1": "19",
                                    "2": "7.20"
                                },
                                {
                                    "0": "pawn",
                                    "1": "20",
                                    "2": "7.16"
                                },
                                {
                                    "0": "pawn",
                                    "1": "21",
                                    "2": "7.11"
                                },
                                {
                                    "0": "pawn",
                                    "1": "22",
                                    "2": "7.07"
                                },
                                {
                                    "0": "pawn",
                                    "1": "23",
                                    "2": "7.02"
                                },
                                {
                                    "0": "pawn",
                                    "1": "24",
                                    "2": "6.97"
                                },
                                {
                                    "0": "pawn",
                                    "1": "25",
                                    "2": "6.93"
                                },
                                {
                                    "0": "pawn",
                                    "1": "26",
                                    "2": "6.88"
                                },
                                {
                                    "0": "pawn",
                                    "1": "27",
                                    "2": "6.83"
                                },
                                {
                                    "0": "pawn",
                                    "1": "28",
                                    "2": "6.78"
                                },
                                {
                                    "0": "pawn",
                                    "1": "29",
                                    "2": "6.73"
                                },
                                {
                                    "0": "pawn",
                                    "1": "30",
                                    "2": "6.68"
                                },
                                {
                                    "0": "pawn",
                                    "1": "31",
                                    "2": "6.64"
                                },
                                {
                                    "0": "pawn",
                                    "1": "32",
                                    "2": "6.59"
                                },
                                {
                                    "0": "pawn",
                                    "1": "33",
                                    "2": "6.55"
                                },
                                {
                                    "0": "pawn",
                                    "1": "34",
                                    "2": "6.50"
                                },
                                {
                                    "0": "pawn",
                                    "1": "35",
                                    "2": "6.45"
                                },
                                {
                                    "0": "pawn",
                                    "1": "36",
                                    "2": "6.40"
                                },
                                {
                                    "0": "pawn",
                                    "1": "37",
                                    "2": "6.35"
                                },
                                {
                                    "0": "pawn",
                                    "1": "38",
                                    "2": "6.30"
                                },
                                {
                                    "0": "pawn",
                                    "1": "39",
                                    "2": "6.25"
                                },
                                {
                                    "0": "pawn",
                                    "1": "40",
                                    "2": "6.20"
                                },
                                {
                                    "0": "pawn",
                                    "1": "41",
                                    "2": "6.15"
                                },
                                {
                                    "0": "pawn",
                                    "1": "42",
                                    "2": "6.10"
                                },
                                {
                                    "0": "pawn",
                                    "1": "43",
                                    "2": "6.05"
                                },
                                {
                                    "0": "pawn",
                                    "1": "44",
                                    "2": "6.00"
                                },
                                {
                                    "0": "pawn",
                                    "1": "45",
                                    "2": "5.95"
                                },
                                {
                                    "0": "pawn",
                                    "1": "46",
                                    "2": "5.90"
                                },
                                {
                                    "0": "pawn",
                                    "1": "47",
                                    "2": "5.85"
                                },
                                {
                                    "0": "pawn",
                                    "1": "48",
                                    "2": "5.80"
                                },
                                {
                                    "0": "pawn",
                                    "1": "49",
                                    "2": "5.76"
                                },
                                {
                                    "0": "pawn",
                                    "1": "50",
                                    "2": "5.71"
                                },
                                {
                                    "0": "pawn",
                                    "1": "51",
                                    "2": "5.66"
                                },
                                {
                                    "0": "pawn",
                                    "1": "52",
                                    "2": "5.61"
                                },
                                {
                                    "0": "pawn",
                                    "1": "53",
                                    "2": "5.56"
                                },
                                {
                                    "0": "pawn",
                                    "1": "54",
                                    "2": "5.52"
                                },
                                {
                                    "0": "pawn",
                                    "1": "55",
                                    "2": "5.47"
                                },
                                {
                                    "0": "pawn",
                                    "1": "56",
                                    "2": "5.42"
                                },
                                {
                                    "0": "pawn",
                                    "1": "57",
                                    "2": "5.37"
                                },
                                {
                                    "0": "pawn",
                                    "1": "58",
                                    "2": "5.32"
                                },
                                {
                                    "0": "pawn",
                                    "1": "59",
                                    "2": "5.27"
                                },
                                {
                                    "0": "pawn",
                                    "1": "60",
                                    "2": "5.22"
                                },
                                {
                                    "0": "pawn",
                                    "1": "61",
                                    "2": "5.17"
                                },
                                {
                                    "0": "pawn",
                                    "1": "62",
                                    "2": "5.12"
                                },
                                {
                                    "0": "pawn",
                                    "1": "63",
                                    "2": "5.07"
                                },
                                {
                                    "0": "pawn",
                                    "1": "64",
                                    "2": "5.02"
                                },
                                {
                                    "0": "pawn",
                                    "1": "65",
                                    "2": "4.97"
                                },
                                {
                                    "0": "pawn",
                                    "1": "66",
                                    "2": "4.92"
                                },
                                {
                                    "0": "pawn",
                                    "1": "67",
                                    "2": "4.87"
                                },
                                {
                                    "0": "pawn",
                                    "1": "68",
                                    "2": "4.83"
                                },
                                {
                                    "0": "pawn",
                                    "1": "69",
                                    "2": "4.78"
                                },
                                {
                                    "0": "pawn",
                                    "1": "70",
                                    "2": "4.72"
                                },
                                {
                                    "0": "pawn",
                                    "1": "71",
                                    "2": "4.68"
                                },
                                {
                                    "0": "pawn",
                                    "1": "72",
                                    "2": "4.62"
                                },
                                {
                                    "0": "pawn",
                                    "1": "73",
                                    "2": "4.58"
                                },
                                {
                                    "0": "pawn",
                                    "1": "74",
                                    "2": "4.53"
                                },
                                {
                                    "0": "pawn",
                                    "1": "75",
                                    "2": "4.48"
                                },
                                {
                                    "0": "pawn",
                                    "1": "76",
                                    "2": "4.43"
                                },
                                {
                                    "0": "pawn",
                                    "1": "77",
                                    "2": "4.38"
                                },
                                {
                                    "0": "pawn",
                                    "1": "78",
                                    "2": "4.33"
                                },
                                {
                                    "0": "pawn",
                                    "1": "79",
                                    "2": "4.28"
                                },
                                {
                                    "0": "pawn",
                                    "1": "80",
                                    "2": "4.22"
                                },
                                {
                                    "0": "pawn",
                                    "1": "81",
                                    "2": "4.18"
                                },
                                {
                                    "0": "pawn",
                                    "1": "82",
                                    "2": "4.13"
                                },
                                {
                                    "0": "pawn",
                                    "1": "83",
                                    "2": "4.09"
                                },
                                {
                                    "0": "pawn",
                                    "1": "84",
                                    "2": "4.04"
                                },
                                {
                                    "0": "pawn",
                                    "1": "85",
                                    "2": "3.99"
                                },
                                {
                                    "0": "pawn",
                                    "1": "86",
                                    "2": "3.95"
                                },
                                {
                                    "0": "pawn",
                                    "1": "87",
                                    "2": "3.89"
                                },
                                {
                                    "0": "pawn",
                                    "1": "88",
                                    "2": "3.85"
                                },
                                {
                                    "0": "pawn",
                                    "1": "89",
                                    "2": "3.80"
                                },
                                {
                                    "0": "pawn",
                                    "1": "90",
                                    "2": "3.75"
                                },
                                {
                                    "0": "pawn",
                                    "1": "91",
                                    "2": "3.70"
                                },
                                {
                                    "0": "pawn",
                                    "1": "92",
                                    "2": "3.65"
                                },
                                {
                                    "0": "pawn",
                                    "1": "93",
                                    "2": "3.61"
                                },
                                {
                                    "0": "pawn",
                                    "1": "94",
                                    "2": "3.56"
                                },
                                {
                                    "0": "pawn",
                                    "1": "95",
                                    "2": "3.51"
                                },
                                {
                                    "0": "pawn",
                                    "1": "96",
                                    "2": "3.46"
                                },
                                {
                                    "0": "pawn",
                                    "1": "97",
                                    "2": "3.41"
                                },
                                {
                                    "0": "pawn",
                                    "1": "98",
                                    "2": "3.37"
                                },
                                {
                                    "0": "pawn",
                                    "1": "99",
                                    "2": "3.33"
                                },
                                {
                                    "0": "pawn",
                                    "1": "100",
                                    "2": "3.28"
                                },
                                {
                                    "0": "pawn",
                                    "1": "101",
                                    "2": "3.25"
                                },
                                {
                                    "0": "pawn",
                                    "1": "102",
                                    "2": "3.20"
                                },
                                {
                                    "0": "pawn",
                                    "1": "103",
                                    "2": "3.15"
                                },
                                {
                                    "0": "pawn",
                                    "1": "104",
                                    "2": "3.11"
                                },
                                {
                                    "0": "pawn",
                                    "1": "105",
                                    "2": "3.08"
                                },
                                {
                                    "0": "pawn",
                                    "1": "106",
                                    "2": "3.03"
                                },
                                {
                                    "0": "pawn",
                                    "1": "107",
                                    "2": "2.99"
                                },
                                {
                                    "0": "pawn",
                                    "1": "108",
                                    "2": "2.95"
                                },
                                {
                                    "0": "pawn",
                                    "1": "109",
                                    "2": "2.92"
                                },
                                {
                                    "0": "pawn",
                                    "1": "110",
                                    "2": "2.86"
                                },
                                {
                                    "0": "pawn",
                                    "1": "111",
                                    "2": "2.82"
                                },
                                {
                                    "0": "pawn",
                                    "1": "112",
                                    "2": "2.79"
                                },
                                {
                                    "0": "pawn",
                                    "1": "113",
                                    "2": "2.76"
                                },
                                {
                                    "0": "pawn",
                                    "1": "114",
                                    "2": "2.73"
                                },
                                {
                                    "0": "pawn",
                                    "1": "115",
                                    "2": "2.70"
                                },
                                {
                                    "0": "pawn",
                                    "1": "116",
                                    "2": "2.68"
                                },
                                {
                                    "0": "pawn",
                                    "1": "117",
                                    "2": "2.65"
                                },
                                {
                                    "0": "pawn",
                                    "1": "118",
                                    "2": "2.62"
                                },
                                {
                                    "0": "pawn",
                                    "1": "119",
                                    "2": "2.59"
                                },
                                {
                                    "0": "pawn",
                                    "1": "120",
                                    "2": "2.56"
                                },
                                {
                                    "0": "pawn",
                                    "1": "121",
                                    "2": "2.54"
                                },
                                {
                                    "0": "pawn",
                                    "1": "122",
                                    "2": "2.50"
                                },
                                {
                                    "0": "pawn",
                                    "1": "123",
                                    "2": "2.47"
                                },
                                {
                                    "0": "pawn",
                                    "1": "124",
                                    "2": "2.43"
                                },
                                {
                                    "0": "pawn",
                                    "1": "125",
                                    "2": "2.40"
                                },
                                {
                                    "0": "pawn",
                                    "1": "126",
                                    "2": "2.36"
                                },
                                {
                                    "0": "pawn",
                                    "1": "127",
                                    "2": "2.33"
                                },
                                {
                                    "0": "pawn",
                                    "1": "128",
                                    "2": "2.30"
                                },
                                {
                                    "0": "pawn",
                                    "1": "129",
                                    "2": "2.27"
                                },
                                {
                                    "0": "pawn",
                                    "1": "130",
                                    "2": "2.25"
                                },
                                {
                                    "0": "pawn",
                                    "1": "131",
                                    "2": "2.21"
                                },
                                {
                                    "0": "pawn",
                                    "1": "132",
                                    "2": "2.19"
                                },
                                {
                                    "0": "pawn",
                                    "1": "133",
                                    "2": "2.18"
                                },
                                {
                                    "0": "pawn",
                                    "1": "134",
                                    "2": "2.16"
                                },
                                {
                                    "0": "pawn",
                                    "1": "135",
                                    "2": "2.15"
                                },
                                {
                                    "0": "pawn",
                                    "1": "136",
                                    "2": "2.13"
                                },
                                {
                                    "0": "pawn",
                                    "1": "137",
                                    "2": "2.11"
                                },
                                {
                                    "0": "pawn",
                                    "1": "138",
                                    "2": "2.09"
                                },
                                {
                                    "0": "pawn",
                                    "1": "139",
                                    "2": "2.06"
                                },
                                {
                                    "0": "pawn",
                                    "1": "140",
                                    "2": "2.02"
                                },
                                {
                                    "0": "pawn",
                                    "1": "141",
                                    "2": "2.01"
                                },
                                {
                                    "0": "pawn",
                                    "1": "142",
                                    "2": "1.99"
                                },
                                {
                                    "0": "pawn",
                                    "1": "143",
                                    "2": "1.99"
                                },
                                {
                                    "0": "pawn",
                                    "1": "144",
                                    "2": "1.97"
                                },
                                {
                                    "0": "pawn",
                                    "1": "145",
                                    "2": "1.96"
                                },
                                {
                                    "0": "pawn",
                                    "1": "146",
                                    "2": "1.94"
                                },
                                {
                                    "0": "pawn",
                                    "1": "147",
                                    "2": "1.91"
                                },
                                {
                                    "0": "pawn",
                                    "1": "148",
                                    "2": "1.88"
                                },
                                {
                                    "0": "pawn",
                                    "1": "149",
                                    "2": "1.87"
                                },
                                {
                                    "0": "queen",
                                    "1": "1",
                                    "2": "1.00"
                                },
                                {
                                    "0": "queen",
                                    "1": "2",
                                    "2": "1.00"
                                },
                                {
                                    "0": "queen",
                                    "1": "3",
                                    "2": "1.00"
                                },
                                {
                                    "0": "queen",
                                    "1": "4",
                                    "2": "1.00"
                                },
                                {
                                    "0": "queen",
                                    "1": "5",
                                    "2": "1.00"
                                },
                                {
                                    "0": "queen",
                                    "1": "6",
                                    "2": "1.00"
                                },
                                {
                                    "0": "queen",
                                    "1": "7",
                                    "2": "1.00"
                                },
                                {
                                    "0": "queen",
                                    "1": "8",
                                    "2": "1.00"
                                },
                                {
                                    "0": "queen",
                                    "1": "9",
                                    "2": "1.00"
                                },
                                {
                                    "0": "queen",
                                    "1": "10",
                                    "2": "1.00"
                                },
                                {
                                    "0": "queen",
                                    "1": "11",
                                    "2": "1.00"
                                },
                                {
                                    "0": "queen",
                                    "1": "12",
                                    "2": "1.00"
                                },
                                {
                                    "0": "queen",
                                    "1": "13",
                                    "2": "1.00"
                                },
                                {
                                    "0": "queen",
                                    "1": "14",
                                    "2": "0.99"
                                },
                                {
                                    "0": "queen",
                                    "1": "15",
                                    "2": "0.99"
                                },
                                {
                                    "0": "queen",
                                    "1": "16",
                                    "2": "0.98"
                                },
                                {
                                    "0": "queen",
                                    "1": "17",
                                    "2": "0.98"
                                },
                                {
                                    "0": "queen",
                                    "1": "18",
                                    "2": "0.97"
                                },
                                {
                                    "0": "queen",
                                    "1": "19",
                                    "2": "0.97"
                                },
                                {
                                    "0": "queen",
                                    "1": "20",
                                    "2": "0.97"
                                },
                                {
                                    "0": "queen",
                                    "1": "21",
                                    "2": "0.96"
                                },
                                {
                                    "0": "queen",
                                    "1": "22",
                                    "2": "0.96"
                                },
                                {
                                    "0": "queen",
                                    "1": "23",
                                    "2": "0.95"
                                },
                                {
                                    "0": "queen",
                                    "1": "24",
                                    "2": "0.95"
                                },
                                {
                                    "0": "queen",
                                    "1": "25",
                                    "2": "0.94"
                                },
                                {
                                    "0": "queen",
                                    "1": "26",
                                    "2": "0.93"
                                },
                                {
                                    "0": "queen",
                                    "1": "27",
                                    "2": "0.93"
                                },
                                {
                                    "0": "queen",
                                    "1": "28",
                                    "2": "0.92"
                                },
                                {
                                    "0": "queen",
                                    "1": "29",
                                    "2": "0.91"
                                },
                                {
                                    "0": "queen",
                                    "1": "30",
                                    "2": "0.91"
                                },
                                {
                                    "0": "queen",
                                    "1": "31",
                                    "2": "0.90"
                                },
                                {
                                    "0": "queen",
                                    "1": "32",
                                    "2": "0.89"
                                },
                                {
                                    "0": "queen",
                                    "1": "33",
                                    "2": "0.88"
                                },
                                {
                                    "0": "queen",
                                    "1": "34",
                                    "2": "0.87"
                                },
                                {
                                    "0": "queen",
                                    "1": "35",
                                    "2": "0.86"
                                },
                                {
                                    "0": "queen",
                                    "1": "36",
                                    "2": "0.86"
                                },
                                {
                                    "0": "queen",
                                    "1": "37",
                                    "2": "0.85"
                                },
                                {
                                    "0": "queen",
                                    "1": "38",
                                    "2": "0.84"
                                },
                                {
                                    "0": "queen",
                                    "1": "39",
                                    "2": "0.83"
                                },
                                {
                                    "0": "queen",
                                    "1": "40",
                                    "2": "0.82"
                                },
                                {
                                    "0": "queen",
                                    "1": "41",
                                    "2": "0.81"
                                },
                                {
                                    "0": "queen",
                                    "1": "42",
                                    "2": "0.79"
                                },
                                {
                                    "0": "queen",
                                    "1": "43",
                                    "2": "0.78"
                                },
                                {
                                    "0": "queen",
                                    "1": "44",
                                    "2": "0.77"
                                },
                                {
                                    "0": "queen",
                                    "1": "45",
                                    "2": "0.76"
                                },
                                {
                                    "0": "queen",
                                    "1": "46",
                                    "2": "0.75"
                                },
                                {
                                    "0": "queen",
                                    "1": "47",
                                    "2": "0.74"
                                },
                                {
                                    "0": "queen",
                                    "1": "48",
                                    "2": "0.72"
                                },
                                {
                                    "0": "queen",
                                    "1": "49",
                                    "2": "0.71"
                                },
                                {
                                    "0": "queen",
                                    "1": "50",
                                    "2": "0.70"
                                },
                                {
                                    "0": "queen",
                                    "1": "51",
                                    "2": "0.69"
                                },
                                {
                                    "0": "queen",
                                    "1": "52",
                                    "2": "0.68"
                                },
                                {
                                    "0": "queen",
                                    "1": "53",
                                    "2": "0.67"
                                },
                                {
                                    "0": "queen",
                                    "1": "54",
                                    "2": "0.65"
                                },
                                {
                                    "0": "queen",
                                    "1": "55",
                                    "2": "0.64"
                                },
                                {
                                    "0": "queen",
                                    "1": "56",
                                    "2": "0.63"
                                },
                                {
                                    "0": "queen",
                                    "1": "57",
                                    "2": "0.62"
                                },
                                {
                                    "0": "queen",
                                    "1": "58",
                                    "2": "0.61"
                                },
                                {
                                    "0": "queen",
                                    "1": "59",
                                    "2": "0.60"
                                },
                                {
                                    "0": "queen",
                                    "1": "60",
                                    "2": "0.58"
                                },
                                {
                                    "0": "queen",
                                    "1": "61",
                                    "2": "0.57"
                                },
                                {
                                    "0": "queen",
                                    "1": "62",
                                    "2": "0.56"
                                },
                                {
                                    "0": "queen",
                                    "1": "63",
                                    "2": "0.55"
                                },
                                {
                                    "0": "queen",
                                    "1": "64",
                                    "2": "0.54"
                                },
                                {
                                    "0": "queen",
                                    "1": "65",
                                    "2": "0.53"
                                },
                                {
                                    "0": "queen",
                                    "1": "66",
                                    "2": "0.51"
                                },
                                {
                                    "0": "queen",
                                    "1": "67",
                                    "2": "0.50"
                                },
                                {
                                    "0": "queen",
                                    "1": "68",
                                    "2": "0.49"
                                },
                                {
                                    "0": "queen",
                                    "1": "69",
                                    "2": "0.48"
                                },
                                {
                                    "0": "queen",
                                    "1": "70",
                                    "2": "0.47"
                                },
                                {
                                    "0": "queen",
                                    "1": "71",
                                    "2": "0.46"
                                },
                                {
                                    "0": "queen",
                                    "1": "72",
                                    "2": "0.45"
                                },
                                {
                                    "0": "queen",
                                    "1": "73",
                                    "2": "0.44"
                                },
                                {
                                    "0": "queen",
                                    "1": "74",
                                    "2": "0.43"
                                },
                                {
                                    "0": "queen",
                                    "1": "75",
                                    "2": "0.42"
                                },
                                {
                                    "0": "queen",
                                    "1": "76",
                                    "2": "0.41"
                                },
                                {
                                    "0": "queen",
                                    "1": "77",
                                    "2": "0.40"
                                },
                                {
                                    "0": "queen",
                                    "1": "78",
                                    "2": "0.39"
                                },
                                {
                                    "0": "queen",
                                    "1": "79",
                                    "2": "0.38"
                                },
                                {
                                    "0": "queen",
                                    "1": "80",
                                    "2": "0.37"
                                },
                                {
                                    "0": "queen",
                                    "1": "81",
                                    "2": "0.36"
                                },
                                {
                                    "0": "queen",
                                    "1": "82",
                                    "2": "0.35"
                                },
                                {
                                    "0": "queen",
                                    "1": "83",
                                    "2": "0.35"
                                },
                                {
                                    "0": "queen",
                                    "1": "84",
                                    "2": "0.34"
                                },
                                {
                                    "0": "queen",
                                    "1": "85",
                                    "2": "0.33"
                                },
                                {
                                    "0": "queen",
                                    "1": "86",
                                    "2": "0.32"
                                },
                                {
                                    "0": "queen",
                                    "1": "87",
                                    "2": "0.31"
                                },
                                {
                                    "0": "queen",
                                    "1": "88",
                                    "2": "0.31"
                                },
                                {
                                    "0": "queen",
                                    "1": "89",
                                    "2": "0.30"
                                },
                                {
                                    "0": "queen",
                                    "1": "90",
                                    "2": "0.29"
                                },
                                {
                                    "0": "queen",
                                    "1": "91",
                                    "2": "0.29"
                                },
                                {
                                    "0": "queen",
                                    "1": "92",
                                    "2": "0.28"
                                },
                                {
                                    "0": "queen",
                                    "1": "93",
                                    "2": "0.28"
                                },
                                {
                                    "0": "queen",
                                    "1": "94",
                                    "2": "0.27"
                                },
                                {
                                    "0": "queen",
                                    "1": "95",
                                    "2": "0.26"
                                },
                                {
                                    "0": "queen",
                                    "1": "96",
                                    "2": "0.26"
                                },
                                {
                                    "0": "queen",
                                    "1": "97",
                                    "2": "0.25"
                                },
                                {
                                    "0": "queen",
                                    "1": "98",
                                    "2": "0.25"
                                },
                                {
                                    "0": "queen",
                                    "1": "99",
                                    "2": "0.24"
                                },
                                {
                                    "0": "queen",
                                    "1": "100",
                                    "2": "0.24"
                                },
                                {
                                    "0": "queen",
                                    "1": "101",
                                    "2": "0.24"
                                },
                                {
                                    "0": "queen",
                                    "1": "102",
                                    "2": "0.23"
                                },
                                {
                                    "0": "queen",
                                    "1": "103",
                                    "2": "0.23"
                                },
                                {
                                    "0": "queen",
                                    "1": "104",
                                    "2": "0.23"
                                },
                                {
                                    "0": "queen",
                                    "1": "105",
                                    "2": "0.23"
                                },
                                {
                                    "0": "queen",
                                    "1": "106",
                                    "2": "0.22"
                                },
                                {
                                    "0": "queen",
                                    "1": "107",
                                    "2": "0.22"
                                },
                                {
                                    "0": "queen",
                                    "1": "108",
                                    "2": "0.21"
                                },
                                {
                                    "0": "queen",
                                    "1": "109",
                                    "2": "0.21"
                                },
                                {
                                    "0": "queen",
                                    "1": "110",
                                    "2": "0.21"
                                },
                                {
                                    "0": "queen",
                                    "1": "111",
                                    "2": "0.21"
                                },
                                {
                                    "0": "queen",
                                    "1": "112",
                                    "2": "0.21"
                                },
                                {
                                    "0": "queen",
                                    "1": "113",
                                    "2": "0.20"
                                },
                                {
                                    "0": "queen",
                                    "1": "114",
                                    "2": "0.20"
                                },
                                {
                                    "0": "queen",
                                    "1": "115",
                                    "2": "0.20"
                                },
                                {
                                    "0": "queen",
                                    "1": "116",
                                    "2": "0.20"
                                },
                                {
                                    "0": "queen",
                                    "1": "117",
                                    "2": "0.20"
                                },
                                {
                                    "0": "queen",
                                    "1": "118",
                                    "2": "0.20"
                                },
                                {
                                    "0": "queen",
                                    "1": "119",
                                    "2": "0.20"
                                },
                                {
                                    "0": "queen",
                                    "1": "120",
                                    "2": "0.20"
                                },
                                {
                                    "0": "queen",
                                    "1": "121",
                                    "2": "0.20"
                                },
                                {
                                    "0": "queen",
                                    "1": "122",
                                    "2": "0.20"
                                },
                                {
                                    "0": "queen",
                                    "1": "123",
                                    "2": "0.20"
                                },
                                {
                                    "0": "queen",
                                    "1": "124",
                                    "2": "0.19"
                                },
                                {
                                    "0": "queen",
                                    "1": "125",
                                    "2": "0.19"
                                },
                                {
                                    "0": "queen",
                                    "1": "126",
                                    "2": "0.19"
                                },
                                {
                                    "0": "queen",
                                    "1": "127",
                                    "2": "0.19"
                                },
                                {
                                    "0": "queen",
                                    "1": "128",
                                    "2": "0.19"
                                },
                                {
                                    "0": "queen",
                                    "1": "129",
                                    "2": "0.19"
                                },
                                {
                                    "0": "queen",
                                    "1": "130",
                                    "2": "0.19"
                                },
                                {
                                    "0": "queen",
                                    "1": "131",
                                    "2": "0.19"
                                },
                                {
                                    "0": "queen",
                                    "1": "132",
                                    "2": "0.19"
                                },
                                {
                                    "0": "queen",
                                    "1": "133",
                                    "2": "0.19"
                                },
                                {
                                    "0": "queen",
                                    "1": "134",
                                    "2": "0.19"
                                },
                                {
                                    "0": "queen",
                                    "1": "135",
                                    "2": "0.19"
                                },
                                {
                                    "0": "queen",
                                    "1": "136",
                                    "2": "0.19"
                                },
                                {
                                    "0": "queen",
                                    "1": "137",
                                    "2": "0.19"
                                },
                                {
                                    "0": "queen",
                                    "1": "138",
                                    "2": "0.18"
                                },
                                {
                                    "0": "queen",
                                    "1": "139",
                                    "2": "0.19"
                                },
                                {
                                    "0": "queen",
                                    "1": "140",
                                    "2": "0.19"
                                },
                                {
                                    "0": "queen",
                                    "1": "141",
                                    "2": "0.19"
                                },
                                {
                                    "0": "queen",
                                    "1": "142",
                                    "2": "0.19"
                                },
                                {
                                    "0": "queen",
                                    "1": "143",
                                    "2": "0.19"
                                },
                                {
                                    "0": "queen",
                                    "1": "144",
                                    "2": "0.19"
                                },
                                {
                                    "0": "queen",
                                    "1": "145",
                                    "2": "0.19"
                                },
                                {
                                    "0": "queen",
                                    "1": "146",
                                    "2": "0.19"
                                },
                                {
                                    "0": "queen",
                                    "1": "147",
                                    "2": "0.18"
                                },
                                {
                                    "0": "queen",
                                    "1": "148",
                                    "2": "0.19"
                                },
                                {
                                    "0": "queen",
                                    "1": "149",
                                    "2": "0.18"
                                },
                                {
                                    "0": "rook",
                                    "1": "1",
                                    "2": "2.00"
                                },
                                {
                                    "0": "rook",
                                    "1": "2",
                                    "2": "2.00"
                                },
                                {
                                    "0": "rook",
                                    "1": "3",
                                    "2": "2.00"
                                },
                                {
                                    "0": "rook",
                                    "1": "4",
                                    "2": "2.00"
                                },
                                {
                                    "0": "rook",
                                    "1": "5",
                                    "2": "2.00"
                                },
                                {
                                    "0": "rook",
                                    "1": "6",
                                    "2": "2.00"
                                },
                                {
                                    "0": "rook",
                                    "1": "7",
                                    "2": "2.00"
                                },
                                {
                                    "0": "rook",
                                    "1": "8",
                                    "2": "2.00"
                                },
                                {
                                    "0": "rook",
                                    "1": "9",
                                    "2": "2.00"
                                },
                                {
                                    "0": "rook",
                                    "1": "10",
                                    "2": "2.00"
                                },
                                {
                                    "0": "rook",
                                    "1": "11",
                                    "2": "2.00"
                                },
                                {
                                    "0": "rook",
                                    "1": "12",
                                    "2": "2.00"
                                },
                                {
                                    "0": "rook",
                                    "1": "13",
                                    "2": "2.00"
                                },
                                {
                                    "0": "rook",
                                    "1": "14",
                                    "2": "2.00"
                                },
                                {
                                    "0": "rook",
                                    "1": "15",
                                    "2": "2.00"
                                },
                                {
                                    "0": "rook",
                                    "1": "16",
                                    "2": "2.00"
                                },
                                {
                                    "0": "rook",
                                    "1": "17",
                                    "2": "2.00"
                                },
                                {
                                    "0": "rook",
                                    "1": "18",
                                    "2": "2.00"
                                },
                                {
                                    "0": "rook",
                                    "1": "19",
                                    "2": "2.00"
                                },
                                {
                                    "0": "rook",
                                    "1": "20",
                                    "2": "2.00"
                                },
                                {
                                    "0": "rook",
                                    "1": "21",
                                    "2": "2.00"
                                },
                                {
                                    "0": "rook",
                                    "1": "22",
                                    "2": "2.00"
                                },
                                {
                                    "0": "rook",
                                    "1": "23",
                                    "2": "1.99"
                                },
                                {
                                    "0": "rook",
                                    "1": "24",
                                    "2": "1.99"
                                },
                                {
                                    "0": "rook",
                                    "1": "25",
                                    "2": "1.99"
                                },
                                {
                                    "0": "rook",
                                    "1": "26",
                                    "2": "1.99"
                                },
                                {
                                    "0": "rook",
                                    "1": "27",
                                    "2": "1.99"
                                },
                                {
                                    "0": "rook",
                                    "1": "28",
                                    "2": "1.98"
                                },
                                {
                                    "0": "rook",
                                    "1": "29",
                                    "2": "1.98"
                                },
                                {
                                    "0": "rook",
                                    "1": "30",
                                    "2": "1.97"
                                },
                                {
                                    "0": "rook",
                                    "1": "31",
                                    "2": "1.97"
                                },
                                {
                                    "0": "rook",
                                    "1": "32",
                                    "2": "1.96"
                                },
                                {
                                    "0": "rook",
                                    "1": "33",
                                    "2": "1.96"
                                },
                                {
                                    "0": "rook",
                                    "1": "34",
                                    "2": "1.95"
                                },
                                {
                                    "0": "rook",
                                    "1": "35",
                                    "2": "1.94"
                                },
                                {
                                    "0": "rook",
                                    "1": "36",
                                    "2": "1.93"
                                },
                                {
                                    "0": "rook",
                                    "1": "37",
                                    "2": "1.91"
                                },
                                {
                                    "0": "rook",
                                    "1": "38",
                                    "2": "1.90"
                                },
                                {
                                    "0": "rook",
                                    "1": "39",
                                    "2": "1.88"
                                },
                                {
                                    "0": "rook",
                                    "1": "40",
                                    "2": "1.86"
                                },
                                {
                                    "0": "rook",
                                    "1": "41",
                                    "2": "1.85"
                                },
                                {
                                    "0": "rook",
                                    "1": "42",
                                    "2": "1.83"
                                },
                                {
                                    "0": "rook",
                                    "1": "43",
                                    "2": "1.81"
                                },
                                {
                                    "0": "rook",
                                    "1": "44",
                                    "2": "1.78"
                                },
                                {
                                    "0": "rook",
                                    "1": "45",
                                    "2": "1.76"
                                },
                                {
                                    "0": "rook",
                                    "1": "46",
                                    "2": "1.74"
                                },
                                {
                                    "0": "rook",
                                    "1": "47",
                                    "2": "1.71"
                                },
                                {
                                    "0": "rook",
                                    "1": "48",
                                    "2": "1.69"
                                },
                                {
                                    "0": "rook",
                                    "1": "49",
                                    "2": "1.66"
                                },
                                {
                                    "0": "rook",
                                    "1": "50",
                                    "2": "1.63"
                                },
                                {
                                    "0": "rook",
                                    "1": "51",
                                    "2": "1.61"
                                },
                                {
                                    "0": "rook",
                                    "1": "52",
                                    "2": "1.58"
                                },
                                {
                                    "0": "rook",
                                    "1": "53",
                                    "2": "1.55"
                                },
                                {
                                    "0": "rook",
                                    "1": "54",
                                    "2": "1.52"
                                },
                                {
                                    "0": "rook",
                                    "1": "55",
                                    "2": "1.50"
                                },
                                {
                                    "0": "rook",
                                    "1": "56",
                                    "2": "1.47"
                                },
                                {
                                    "0": "rook",
                                    "1": "57",
                                    "2": "1.45"
                                },
                                {
                                    "0": "rook",
                                    "1": "58",
                                    "2": "1.42"
                                },
                                {
                                    "0": "rook",
                                    "1": "59",
                                    "2": "1.40"
                                },
                                {
                                    "0": "rook",
                                    "1": "60",
                                    "2": "1.37"
                                },
                                {
                                    "0": "rook",
                                    "1": "61",
                                    "2": "1.35"
                                },
                                {
                                    "0": "rook",
                                    "1": "62",
                                    "2": "1.33"
                                },
                                {
                                    "0": "rook",
                                    "1": "63",
                                    "2": "1.30"
                                },
                                {
                                    "0": "rook",
                                    "1": "64",
                                    "2": "1.28"
                                },
                                {
                                    "0": "rook",
                                    "1": "65",
                                    "2": "1.26"
                                },
                                {
                                    "0": "rook",
                                    "1": "66",
                                    "2": "1.23"
                                },
                                {
                                    "0": "rook",
                                    "1": "67",
                                    "2": "1.21"
                                },
                                {
                                    "0": "rook",
                                    "1": "68",
                                    "2": "1.19"
                                },
                                {
                                    "0": "rook",
                                    "1": "69",
                                    "2": "1.17"
                                },
                                {
                                    "0": "rook",
                                    "1": "70",
                                    "2": "1.15"
                                },
                                {
                                    "0": "rook",
                                    "1": "71",
                                    "2": "1.12"
                                },
                                {
                                    "0": "rook",
                                    "1": "72",
                                    "2": "1.11"
                                },
                                {
                                    "0": "rook",
                                    "1": "73",
                                    "2": "1.09"
                                },
                                {
                                    "0": "rook",
                                    "1": "74",
                                    "2": "1.07"
                                },
                                {
                                    "0": "rook",
                                    "1": "75",
                                    "2": "1.05"
                                },
                                {
                                    "0": "rook",
                                    "1": "76",
                                    "2": "1.03"
                                },
                                {
                                    "0": "rook",
                                    "1": "77",
                                    "2": "1.01"
                                },
                                {
                                    "0": "rook",
                                    "1": "78",
                                    "2": "0.99"
                                },
                                {
                                    "0": "rook",
                                    "1": "79",
                                    "2": "0.98"
                                },
                                {
                                    "0": "rook",
                                    "1": "80",
                                    "2": "0.96"
                                },
                                {
                                    "0": "rook",
                                    "1": "81",
                                    "2": "0.95"
                                },
                                {
                                    "0": "rook",
                                    "1": "82",
                                    "2": "0.94"
                                },
                                {
                                    "0": "rook",
                                    "1": "83",
                                    "2": "0.93"
                                },
                                {
                                    "0": "rook",
                                    "1": "84",
                                    "2": "0.91"
                                },
                                {
                                    "0": "rook",
                                    "1": "85",
                                    "2": "0.90"
                                },
                                {
                                    "0": "rook",
                                    "1": "86",
                                    "2": "0.89"
                                },
                                {
                                    "0": "rook",
                                    "1": "87",
                                    "2": "0.87"
                                },
                                {
                                    "0": "rook",
                                    "1": "88",
                                    "2": "0.86"
                                },
                                {
                                    "0": "rook",
                                    "1": "89",
                                    "2": "0.85"
                                },
                                {
                                    "0": "rook",
                                    "1": "90",
                                    "2": "0.84"
                                },
                                {
                                    "0": "rook",
                                    "1": "91",
                                    "2": "0.83"
                                },
                                {
                                    "0": "rook",
                                    "1": "92",
                                    "2": "0.82"
                                },
                                {
                                    "0": "rook",
                                    "1": "93",
                                    "2": "0.81"
                                },
                                {
                                    "0": "rook",
                                    "1": "94",
                                    "2": "0.80"
                                },
                                {
                                    "0": "rook",
                                    "1": "95",
                                    "2": "0.79"
                                },
                                {
                                    "0": "rook",
                                    "1": "96",
                                    "2": "0.78"
                                },
                                {
                                    "0": "rook",
                                    "1": "97",
                                    "2": "0.77"
                                },
                                {
                                    "0": "rook",
                                    "1": "98",
                                    "2": "0.76"
                                },
                                {
                                    "0": "rook",
                                    "1": "99",
                                    "2": "0.75"
                                },
                                {
                                    "0": "rook",
                                    "1": "100",
                                    "2": "0.75"
                                },
                                {
                                    "0": "rook",
                                    "1": "101",
                                    "2": "0.74"
                                },
                                {
                                    "0": "rook",
                                    "1": "102",
                                    "2": "0.73"
                                },
                                {
                                    "0": "rook",
                                    "1": "103",
                                    "2": "0.73"
                                },
                                {
                                    "0": "rook",
                                    "1": "104",
                                    "2": "0.72"
                                },
                                {
                                    "0": "rook",
                                    "1": "105",
                                    "2": "0.71"
                                },
                                {
                                    "0": "rook",
                                    "1": "106",
                                    "2": "0.70"
                                },
                                {
                                    "0": "rook",
                                    "1": "107",
                                    "2": "0.69"
                                },
                                {
                                    "0": "rook",
                                    "1": "108",
                                    "2": "0.69"
                                },
                                {
                                    "0": "rook",
                                    "1": "109",
                                    "2": "0.69"
                                },
                                {
                                    "0": "rook",
                                    "1": "110",
                                    "2": "0.68"
                                },
                                {
                                    "0": "rook",
                                    "1": "111",
                                    "2": "0.68"
                                },
                                {
                                    "0": "rook",
                                    "1": "112",
                                    "2": "0.67"
                                },
                                {
                                    "0": "rook",
                                    "1": "113",
                                    "2": "0.67"
                                },
                                {
                                    "0": "rook",
                                    "1": "114",
                                    "2": "0.67"
                                },
                                {
                                    "0": "rook",
                                    "1": "115",
                                    "2": "0.66"
                                },
                                {
                                    "0": "rook",
                                    "1": "116",
                                    "2": "0.66"
                                },
                                {
                                    "0": "rook",
                                    "1": "117",
                                    "2": "0.65"
                                },
                                {
                                    "0": "rook",
                                    "1": "118",
                                    "2": "0.64"
                                },
                                {
                                    "0": "rook",
                                    "1": "119",
                                    "2": "0.64"
                                },
                                {
                                    "0": "rook",
                                    "1": "120",
                                    "2": "0.64"
                                },
                                {
                                    "0": "rook",
                                    "1": "121",
                                    "2": "0.64"
                                },
                                {
                                    "0": "rook",
                                    "1": "122",
                                    "2": "0.63"
                                },
                                {
                                    "0": "rook",
                                    "1": "123",
                                    "2": "0.63"
                                },
                                {
                                    "0": "rook",
                                    "1": "124",
                                    "2": "0.62"
                                },
                                {
                                    "0": "rook",
                                    "1": "125",
                                    "2": "0.62"
                                },
                                {
                                    "0": "rook",
                                    "1": "126",
                                    "2": "0.62"
                                },
                                {
                                    "0": "rook",
                                    "1": "127",
                                    "2": "0.61"
                                },
                                {
                                    "0": "rook",
                                    "1": "128",
                                    "2": "0.61"
                                },
                                {
                                    "0": "rook",
                                    "1": "129",
                                    "2": "0.61"
                                },
                                {
                                    "0": "rook",
                                    "1": "130",
                                    "2": "0.60"
                                },
                                {
                                    "0": "rook",
                                    "1": "131",
                                    "2": "0.61"
                                },
                                {
                                    "0": "rook",
                                    "1": "132",
                                    "2": "0.61"
                                },
                                {
                                    "0": "rook",
                                    "1": "133",
                                    "2": "0.61"
                                },
                                {
                                    "0": "rook",
                                    "1": "134",
                                    "2": "0.61"
                                },
                                {
                                    "0": "rook",
                                    "1": "135",
                                    "2": "0.61"
                                },
                                {
                                    "0": "rook",
                                    "1": "136",
                                    "2": "0.60"
                                },
                                {
                                    "0": "rook",
                                    "1": "137",
                                    "2": "0.60"
                                },
                                {
                                    "0": "rook",
                                    "1": "138",
                                    "2": "0.60"
                                },
                                {
                                    "0": "rook",
                                    "1": "139",
                                    "2": "0.60"
                                },
                                {
                                    "0": "rook",
                                    "1": "140",
                                    "2": "0.60"
                                },
                                {
                                    "0": "rook",
                                    "1": "141",
                                    "2": "0.59"
                                },
                                {
                                    "0": "rook",
                                    "1": "142",
                                    "2": "0.60"
                                },
                                {
                                    "0": "rook",
                                    "1": "143",
                                    "2": "0.59"
                                },
                                {
                                    "0": "rook",
                                    "1": "144",
                                    "2": "0.59"
                                },
                                {
                                    "0": "rook",
                                    "1": "145",
                                    "2": "0.59"
                                },
                                {
                                    "0": "rook",
                                    "1": "146",
                                    "2": "0.58"
                                },
                                {
                                    "0": "rook",
                                    "1": "147",
                                    "2": "0.58"
                                },
                                {
                                    "0": "rook",
                                    "1": "148",
                                    "2": "0.58"
                                },
                                {
                                    "0": "rook",
                                    "1": "149",
                                    "2": "0.58"
                                }
                            ]
                        },
                        "text/html": [
                            "<table>",
                            "<tr><th>piece</th><th>move_num</th><th>avg_num_of_piece</th></tr>",
                            "<tr><td>bishop</td><td>1</td><td>2.00</td></tr>",
                            "<tr><td>bishop</td><td>2</td><td>2.00</td></tr>",
                            "<tr><td>bishop</td><td>3</td><td>2.00</td></tr>",
                            "<tr><td>bishop</td><td>4</td><td>2.00</td></tr>",
                            "<tr><td>bishop</td><td>5</td><td>2.00</td></tr>",
                            "<tr><td>bishop</td><td>6</td><td>2.00</td></tr>",
                            "<tr><td>bishop</td><td>7</td><td>2.00</td></tr>",
                            "<tr><td>bishop</td><td>8</td><td>1.99</td></tr>",
                            "<tr><td>bishop</td><td>9</td><td>1.99</td></tr>",
                            "<tr><td>bishop</td><td>10</td><td>1.98</td></tr>",
                            "<tr><td>bishop</td><td>11</td><td>1.97</td></tr>",
                            "<tr><td>bishop</td><td>12</td><td>1.95</td></tr>",
                            "<tr><td>bishop</td><td>13</td><td>1.94</td></tr>",
                            "<tr><td>bishop</td><td>14</td><td>1.93</td></tr>",
                            "<tr><td>bishop</td><td>15</td><td>1.91</td></tr>",
                            "<tr><td>bishop</td><td>16</td><td>1.90</td></tr>",
                            "<tr><td>bishop</td><td>17</td><td>1.89</td></tr>",
                            "<tr><td>bishop</td><td>18</td><td>1.87</td></tr>",
                            "<tr><td>bishop</td><td>19</td><td>1.85</td></tr>",
                            "<tr><td>bishop</td><td>20</td><td>1.82</td></tr>",
                            "<tr><td>bishop</td><td>21</td><td>1.80</td></tr>",
                            "<tr><td>bishop</td><td>22</td><td>1.78</td></tr>",
                            "<tr><td>bishop</td><td>23</td><td>1.76</td></tr>",
                            "<tr><td>bishop</td><td>24</td><td>1.73</td></tr>",
                            "<tr><td>bishop</td><td>25</td><td>1.71</td></tr>",
                            "<tr><td>bishop</td><td>26</td><td>1.68</td></tr>",
                            "<tr><td>bishop</td><td>27</td><td>1.66</td></tr>",
                            "<tr><td>bishop</td><td>28</td><td>1.63</td></tr>",
                            "<tr><td>bishop</td><td>29</td><td>1.60</td></tr>",
                            "<tr><td>bishop</td><td>30</td><td>1.57</td></tr>",
                            "<tr><td>bishop</td><td>31</td><td>1.54</td></tr>",
                            "<tr><td>bishop</td><td>32</td><td>1.51</td></tr>",
                            "<tr><td>bishop</td><td>33</td><td>1.48</td></tr>",
                            "<tr><td>bishop</td><td>34</td><td>1.45</td></tr>",
                            "<tr><td>bishop</td><td>35</td><td>1.42</td></tr>",
                            "<tr><td>bishop</td><td>36</td><td>1.39</td></tr>",
                            "<tr><td>bishop</td><td>37</td><td>1.36</td></tr>",
                            "<tr><td>bishop</td><td>38</td><td>1.33</td></tr>",
                            "<tr><td>bishop</td><td>39</td><td>1.30</td></tr>",
                            "<tr><td>bishop</td><td>40</td><td>1.27</td></tr>",
                            "<tr><td>bishop</td><td>41</td><td>1.24</td></tr>",
                            "<tr><td>bishop</td><td>42</td><td>1.21</td></tr>",
                            "<tr><td>bishop</td><td>43</td><td>1.18</td></tr>",
                            "<tr><td>bishop</td><td>44</td><td>1.16</td></tr>",
                            "<tr><td>bishop</td><td>45</td><td>1.13</td></tr>",
                            "<tr><td>bishop</td><td>46</td><td>1.11</td></tr>",
                            "<tr><td>bishop</td><td>47</td><td>1.08</td></tr>",
                            "<tr><td>bishop</td><td>48</td><td>1.06</td></tr>",
                            "<tr><td>bishop</td><td>49</td><td>1.04</td></tr>",
                            "<tr><td>bishop</td><td>50</td><td>1.01</td></tr>",
                            "<tr><td>bishop</td><td>51</td><td>0.99</td></tr>",
                            "<tr><td>bishop</td><td>52</td><td>0.96</td></tr>",
                            "<tr><td>bishop</td><td>53</td><td>0.94</td></tr>",
                            "<tr><td>bishop</td><td>54</td><td>0.92</td></tr>",
                            "<tr><td>bishop</td><td>55</td><td>0.90</td></tr>",
                            "<tr><td>bishop</td><td>56</td><td>0.89</td></tr>",
                            "<tr><td>bishop</td><td>57</td><td>0.87</td></tr>",
                            "<tr><td>bishop</td><td>58</td><td>0.85</td></tr>",
                            "<tr><td>bishop</td><td>59</td><td>0.83</td></tr>",
                            "<tr><td>bishop</td><td>60</td><td>0.82</td></tr>",
                            "<tr><td>bishop</td><td>61</td><td>0.80</td></tr>",
                            "<tr><td>bishop</td><td>62</td><td>0.79</td></tr>",
                            "<tr><td>bishop</td><td>63</td><td>0.77</td></tr>",
                            "<tr><td>bishop</td><td>64</td><td>0.75</td></tr>",
                            "<tr><td>bishop</td><td>65</td><td>0.74</td></tr>",
                            "<tr><td>bishop</td><td>66</td><td>0.73</td></tr>",
                            "<tr><td>bishop</td><td>67</td><td>0.72</td></tr>",
                            "<tr><td>bishop</td><td>68</td><td>0.70</td></tr>",
                            "<tr><td>bishop</td><td>69</td><td>0.69</td></tr>",
                            "<tr><td>bishop</td><td>70</td><td>0.68</td></tr>",
                            "<tr><td>bishop</td><td>71</td><td>0.67</td></tr>",
                            "<tr><td>bishop</td><td>72</td><td>0.66</td></tr>",
                            "<tr><td>bishop</td><td>73</td><td>0.65</td></tr>",
                            "<tr><td>bishop</td><td>74</td><td>0.64</td></tr>",
                            "<tr><td>bishop</td><td>75</td><td>0.63</td></tr>",
                            "<tr><td>bishop</td><td>76</td><td>0.61</td></tr>",
                            "<tr><td>bishop</td><td>77</td><td>0.60</td></tr>",
                            "<tr><td>bishop</td><td>78</td><td>0.59</td></tr>",
                            "<tr><td>bishop</td><td>79</td><td>0.58</td></tr>",
                            "<tr><td>bishop</td><td>80</td><td>0.58</td></tr>",
                            "<tr><td>bishop</td><td>81</td><td>0.57</td></tr>",
                            "<tr><td>bishop</td><td>82</td><td>0.56</td></tr>",
                            "<tr><td>bishop</td><td>83</td><td>0.55</td></tr>",
                            "<tr><td>bishop</td><td>84</td><td>0.54</td></tr>",
                            "<tr><td>bishop</td><td>85</td><td>0.53</td></tr>",
                            "<tr><td>bishop</td><td>86</td><td>0.53</td></tr>",
                            "<tr><td>bishop</td><td>87</td><td>0.52</td></tr>",
                            "<tr><td>bishop</td><td>88</td><td>0.51</td></tr>",
                            "<tr><td>bishop</td><td>89</td><td>0.50</td></tr>",
                            "<tr><td>bishop</td><td>90</td><td>0.50</td></tr>",
                            "<tr><td>bishop</td><td>91</td><td>0.49</td></tr>",
                            "<tr><td>bishop</td><td>92</td><td>0.49</td></tr>",
                            "<tr><td>bishop</td><td>93</td><td>0.48</td></tr>",
                            "<tr><td>bishop</td><td>94</td><td>0.48</td></tr>",
                            "<tr><td>bishop</td><td>95</td><td>0.47</td></tr>",
                            "<tr><td>bishop</td><td>96</td><td>0.47</td></tr>",
                            "<tr><td>bishop</td><td>97</td><td>0.46</td></tr>",
                            "<tr><td>bishop</td><td>98</td><td>0.45</td></tr>",
                            "<tr><td>bishop</td><td>99</td><td>0.45</td></tr>",
                            "<tr><td>bishop</td><td>100</td><td>0.45</td></tr>",
                            "<tr><td>bishop</td><td>101</td><td>0.44</td></tr>",
                            "<tr><td>bishop</td><td>102</td><td>0.44</td></tr>",
                            "<tr><td>bishop</td><td>103</td><td>0.44</td></tr>",
                            "<tr><td>bishop</td><td>104</td><td>0.43</td></tr>",
                            "<tr><td>bishop</td><td>105</td><td>0.42</td></tr>",
                            "<tr><td>bishop</td><td>106</td><td>0.42</td></tr>",
                            "<tr><td>bishop</td><td>107</td><td>0.42</td></tr>",
                            "<tr><td>bishop</td><td>108</td><td>0.42</td></tr>",
                            "<tr><td>bishop</td><td>109</td><td>0.41</td></tr>",
                            "<tr><td>bishop</td><td>110</td><td>0.41</td></tr>",
                            "<tr><td>bishop</td><td>111</td><td>0.41</td></tr>",
                            "<tr><td>bishop</td><td>112</td><td>0.41</td></tr>",
                            "<tr><td>bishop</td><td>113</td><td>0.41</td></tr>",
                            "<tr><td>bishop</td><td>114</td><td>0.40</td></tr>",
                            "<tr><td>bishop</td><td>115</td><td>0.40</td></tr>",
                            "<tr><td>bishop</td><td>116</td><td>0.39</td></tr>",
                            "<tr><td>bishop</td><td>117</td><td>0.39</td></tr>",
                            "<tr><td>bishop</td><td>118</td><td>0.39</td></tr>",
                            "<tr><td>bishop</td><td>119</td><td>0.39</td></tr>",
                            "<tr><td>bishop</td><td>120</td><td>0.38</td></tr>",
                            "<tr><td>bishop</td><td>121</td><td>0.39</td></tr>",
                            "<tr><td>bishop</td><td>122</td><td>0.39</td></tr>",
                            "<tr><td>bishop</td><td>123</td><td>0.38</td></tr>",
                            "<tr><td>bishop</td><td>124</td><td>0.38</td></tr>",
                            "<tr><td>bishop</td><td>125</td><td>0.38</td></tr>",
                            "<tr><td>bishop</td><td>126</td><td>0.38</td></tr>",
                            "<tr><td>bishop</td><td>127</td><td>0.37</td></tr>",
                            "<tr><td>bishop</td><td>128</td><td>0.37</td></tr>",
                            "<tr><td>bishop</td><td>129</td><td>0.37</td></tr>",
                            "<tr><td>bishop</td><td>130</td><td>0.36</td></tr>",
                            "<tr><td>bishop</td><td>131</td><td>0.36</td></tr>",
                            "<tr><td>bishop</td><td>132</td><td>0.36</td></tr>",
                            "<tr><td>bishop</td><td>133</td><td>0.35</td></tr>",
                            "<tr><td>bishop</td><td>134</td><td>0.36</td></tr>",
                            "<tr><td>bishop</td><td>135</td><td>0.36</td></tr>",
                            "<tr><td>bishop</td><td>136</td><td>0.37</td></tr>",
                            "<tr><td>bishop</td><td>137</td><td>0.37</td></tr>",
                            "<tr><td>bishop</td><td>138</td><td>0.36</td></tr>",
                            "<tr><td>bishop</td><td>139</td><td>0.36</td></tr>",
                            "<tr><td>bishop</td><td>140</td><td>0.36</td></tr>",
                            "<tr><td>bishop</td><td>141</td><td>0.36</td></tr>",
                            "<tr><td>bishop</td><td>142</td><td>0.36</td></tr>",
                            "<tr><td>bishop</td><td>143</td><td>0.36</td></tr>",
                            "<tr><td>bishop</td><td>144</td><td>0.36</td></tr>",
                            "<tr><td>bishop</td><td>145</td><td>0.37</td></tr>",
                            "<tr><td>bishop</td><td>146</td><td>0.36</td></tr>",
                            "<tr><td>bishop</td><td>147</td><td>0.36</td></tr>",
                            "<tr><td>bishop</td><td>148</td><td>0.36</td></tr>",
                            "<tr><td>bishop</td><td>149</td><td>0.36</td></tr>",
                            "<tr><td>knight</td><td>1</td><td>2.00</td></tr>",
                            "<tr><td>knight</td><td>2</td><td>2.00</td></tr>",
                            "<tr><td>knight</td><td>3</td><td>2.00</td></tr>",
                            "<tr><td>knight</td><td>4</td><td>2.00</td></tr>",
                            "<tr><td>knight</td><td>5</td><td>2.00</td></tr>",
                            "<tr><td>knight</td><td>6</td><td>2.00</td></tr>",
                            "<tr><td>knight</td><td>7</td><td>1.99</td></tr>",
                            "<tr><td>knight</td><td>8</td><td>1.99</td></tr>",
                            "<tr><td>knight</td><td>9</td><td>1.98</td></tr>",
                            "<tr><td>knight</td><td>10</td><td>1.96</td></tr>",
                            "<tr><td>knight</td><td>11</td><td>1.94</td></tr>",
                            "<tr><td>knight</td><td>12</td><td>1.91</td></tr>",
                            "<tr><td>knight</td><td>13</td><td>1.90</td></tr>",
                            "<tr><td>knight</td><td>14</td><td>1.88</td></tr>",
                            "<tr><td>knight</td><td>15</td><td>1.86</td></tr>",
                            "<tr><td>knight</td><td>16</td><td>1.84</td></tr>",
                            "<tr><td>knight</td><td>17</td><td>1.82</td></tr>",
                            "<tr><td>knight</td><td>18</td><td>1.79</td></tr>",
                            "<tr><td>knight</td><td>19</td><td>1.76</td></tr>",
                            "<tr><td>knight</td><td>20</td><td>1.73</td></tr>",
                            "<tr><td>knight</td><td>21</td><td>1.70</td></tr>",
                            "<tr><td>knight</td><td>22</td><td>1.66</td></tr>",
                            "<tr><td>knight</td><td>23</td><td>1.63</td></tr>",
                            "<tr><td>knight</td><td>24</td><td>1.60</td></tr>",
                            "<tr><td>knight</td><td>25</td><td>1.56</td></tr>",
                            "<tr><td>knight</td><td>26</td><td>1.53</td></tr>",
                            "<tr><td>knight</td><td>27</td><td>1.50</td></tr>",
                            "<tr><td>knight</td><td>28</td><td>1.46</td></tr>",
                            "<tr><td>knight</td><td>29</td><td>1.43</td></tr>",
                            "<tr><td>knight</td><td>30</td><td>1.39</td></tr>",
                            "<tr><td>knight</td><td>31</td><td>1.36</td></tr>",
                            "<tr><td>knight</td><td>32</td><td>1.33</td></tr>",
                            "<tr><td>knight</td><td>33</td><td>1.29</td></tr>",
                            "<tr><td>knight</td><td>34</td><td>1.26</td></tr>",
                            "<tr><td>knight</td><td>35</td><td>1.23</td></tr>",
                            "<tr><td>knight</td><td>36</td><td>1.20</td></tr>",
                            "<tr><td>knight</td><td>37</td><td>1.17</td></tr>",
                            "<tr><td>knight</td><td>38</td><td>1.14</td></tr>",
                            "<tr><td>knight</td><td>39</td><td>1.11</td></tr>",
                            "<tr><td>knight</td><td>40</td><td>1.08</td></tr>",
                            "<tr><td>knight</td><td>41</td><td>1.05</td></tr>",
                            "<tr><td>knight</td><td>42</td><td>1.02</td></tr>",
                            "<tr><td>knight</td><td>43</td><td>1.00</td></tr>",
                            "<tr><td>knight</td><td>44</td><td>0.97</td></tr>",
                            "<tr><td>knight</td><td>45</td><td>0.95</td></tr>",
                            "<tr><td>knight</td><td>46</td><td>0.93</td></tr>",
                            "<tr><td>knight</td><td>47</td><td>0.90</td></tr>",
                            "<tr><td>knight</td><td>48</td><td>0.88</td></tr>",
                            "<tr><td>knight</td><td>49</td><td>0.86</td></tr>",
                            "<tr><td>knight</td><td>50</td><td>0.84</td></tr>",
                            "<tr><td>knight</td><td>51</td><td>0.81</td></tr>",
                            "<tr><td>knight</td><td>52</td><td>0.80</td></tr>",
                            "<tr><td>knight</td><td>53</td><td>0.78</td></tr>",
                            "<tr><td>knight</td><td>54</td><td>0.76</td></tr>",
                            "<tr><td>knight</td><td>55</td><td>0.74</td></tr>",
                            "<tr><td>knight</td><td>56</td><td>0.72</td></tr>",
                            "<tr><td>knight</td><td>57</td><td>0.71</td></tr>",
                            "<tr><td>knight</td><td>58</td><td>0.69</td></tr>",
                            "<tr><td>knight</td><td>59</td><td>0.68</td></tr>",
                            "<tr><td>knight</td><td>60</td><td>0.66</td></tr>",
                            "<tr><td>knight</td><td>61</td><td>0.65</td></tr>",
                            "<tr><td>knight</td><td>62</td><td>0.63</td></tr>",
                            "<tr><td>knight</td><td>63</td><td>0.62</td></tr>",
                            "<tr><td>knight</td><td>64</td><td>0.60</td></tr>",
                            "<tr><td>knight</td><td>65</td><td>0.59</td></tr>",
                            "<tr><td>knight</td><td>66</td><td>0.58</td></tr>",
                            "<tr><td>knight</td><td>67</td><td>0.57</td></tr>",
                            "<tr><td>knight</td><td>68</td><td>0.56</td></tr>",
                            "<tr><td>knight</td><td>69</td><td>0.54</td></tr>",
                            "<tr><td>knight</td><td>70</td><td>0.53</td></tr>",
                            "<tr><td>knight</td><td>71</td><td>0.53</td></tr>",
                            "<tr><td>knight</td><td>72</td><td>0.52</td></tr>",
                            "<tr><td>knight</td><td>73</td><td>0.51</td></tr>",
                            "<tr><td>knight</td><td>74</td><td>0.50</td></tr>",
                            "<tr><td>knight</td><td>75</td><td>0.49</td></tr>",
                            "<tr><td>knight</td><td>76</td><td>0.48</td></tr>",
                            "<tr><td>knight</td><td>77</td><td>0.47</td></tr>",
                            "<tr><td>knight</td><td>78</td><td>0.46</td></tr>",
                            "<tr><td>knight</td><td>79</td><td>0.45</td></tr>",
                            "<tr><td>knight</td><td>80</td><td>0.45</td></tr>",
                            "<tr><td>knight</td><td>81</td><td>0.44</td></tr>",
                            "<tr><td>knight</td><td>82</td><td>0.44</td></tr>",
                            "<tr><td>knight</td><td>83</td><td>0.43</td></tr>",
                            "<tr><td>knight</td><td>84</td><td>0.42</td></tr>",
                            "<tr><td>knight</td><td>85</td><td>0.42</td></tr>",
                            "<tr><td>knight</td><td>86</td><td>0.41</td></tr>",
                            "<tr><td>knight</td><td>87</td><td>0.41</td></tr>",
                            "<tr><td>knight</td><td>88</td><td>0.40</td></tr>",
                            "<tr><td>knight</td><td>89</td><td>0.39</td></tr>",
                            "<tr><td>knight</td><td>90</td><td>0.39</td></tr>",
                            "<tr><td>knight</td><td>91</td><td>0.38</td></tr>",
                            "<tr><td>knight</td><td>92</td><td>0.38</td></tr>",
                            "<tr><td>knight</td><td>93</td><td>0.37</td></tr>",
                            "<tr><td>knight</td><td>94</td><td>0.37</td></tr>",
                            "<tr><td>knight</td><td>95</td><td>0.36</td></tr>",
                            "<tr><td>knight</td><td>96</td><td>0.36</td></tr>",
                            "<tr><td>knight</td><td>97</td><td>0.35</td></tr>",
                            "<tr><td>knight</td><td>98</td><td>0.35</td></tr>",
                            "<tr><td>knight</td><td>99</td><td>0.34</td></tr>",
                            "<tr><td>knight</td><td>100</td><td>0.34</td></tr>",
                            "<tr><td>knight</td><td>101</td><td>0.34</td></tr>",
                            "<tr><td>knight</td><td>102</td><td>0.33</td></tr>",
                            "<tr><td>knight</td><td>103</td><td>0.33</td></tr>",
                            "<tr><td>knight</td><td>104</td><td>0.32</td></tr>",
                            "<tr><td>knight</td><td>105</td><td>0.32</td></tr>",
                            "<tr><td>knight</td><td>106</td><td>0.32</td></tr>",
                            "<tr><td>knight</td><td>107</td><td>0.32</td></tr>",
                            "<tr><td>knight</td><td>108</td><td>0.32</td></tr>",
                            "<tr><td>knight</td><td>109</td><td>0.31</td></tr>",
                            "<tr><td>knight</td><td>110</td><td>0.31</td></tr>",
                            "<tr><td>knight</td><td>111</td><td>0.31</td></tr>",
                            "<tr><td>knight</td><td>112</td><td>0.31</td></tr>",
                            "<tr><td>knight</td><td>113</td><td>0.31</td></tr>",
                            "<tr><td>knight</td><td>114</td><td>0.31</td></tr>",
                            "<tr><td>knight</td><td>115</td><td>0.30</td></tr>",
                            "<tr><td>knight</td><td>116</td><td>0.30</td></tr>",
                            "<tr><td>knight</td><td>117</td><td>0.30</td></tr>",
                            "<tr><td>knight</td><td>118</td><td>0.30</td></tr>",
                            "<tr><td>knight</td><td>119</td><td>0.30</td></tr>",
                            "<tr><td>knight</td><td>120</td><td>0.29</td></tr>",
                            "<tr><td>knight</td><td>121</td><td>0.29</td></tr>",
                            "<tr><td>knight</td><td>122</td><td>0.29</td></tr>",
                            "<tr><td>knight</td><td>123</td><td>0.29</td></tr>",
                            "<tr><td>knight</td><td>124</td><td>0.29</td></tr>",
                            "<tr><td>knight</td><td>125</td><td>0.29</td></tr>",
                            "<tr><td>knight</td><td>126</td><td>0.29</td></tr>",
                            "<tr><td>knight</td><td>127</td><td>0.29</td></tr>",
                            "<tr><td>knight</td><td>128</td><td>0.29</td></tr>",
                            "<tr><td>knight</td><td>129</td><td>0.29</td></tr>",
                            "<tr><td>knight</td><td>130</td><td>0.29</td></tr>",
                            "<tr><td>knight</td><td>131</td><td>0.29</td></tr>",
                            "<tr><td>knight</td><td>132</td><td>0.29</td></tr>",
                            "<tr><td>knight</td><td>133</td><td>0.29</td></tr>",
                            "<tr><td>knight</td><td>134</td><td>0.29</td></tr>",
                            "<tr><td>knight</td><td>135</td><td>0.28</td></tr>",
                            "<tr><td>knight</td><td>136</td><td>0.28</td></tr>",
                            "<tr><td>knight</td><td>137</td><td>0.28</td></tr>",
                            "<tr><td>knight</td><td>138</td><td>0.28</td></tr>",
                            "<tr><td>knight</td><td>139</td><td>0.27</td></tr>",
                            "<tr><td>knight</td><td>140</td><td>0.26</td></tr>",
                            "<tr><td>knight</td><td>141</td><td>0.27</td></tr>",
                            "<tr><td>knight</td><td>142</td><td>0.26</td></tr>",
                            "<tr><td>knight</td><td>143</td><td>0.27</td></tr>",
                            "<tr><td>knight</td><td>144</td><td>0.27</td></tr>",
                            "<tr><td>knight</td><td>145</td><td>0.27</td></tr>",
                            "<tr><td>knight</td><td>146</td><td>0.28</td></tr>",
                            "<tr><td>knight</td><td>147</td><td>0.28</td></tr>",
                            "<tr><td>knight</td><td>148</td><td>0.27</td></tr>",
                            "<tr><td>knight</td><td>149</td><td>0.27</td></tr>",
                            "<tr><td>pawn</td><td>1</td><td>8.00</td></tr>",
                            "<tr><td>pawn</td><td>2</td><td>8.00</td></tr>",
                            "<tr><td>pawn</td><td>3</td><td>8.00</td></tr>",
                            "<tr><td>pawn</td><td>4</td><td>7.99</td></tr>",
                            "<tr><td>pawn</td><td>5</td><td>7.98</td></tr>",
                            "<tr><td>pawn</td><td>6</td><td>7.86</td></tr>",
                            "<tr><td>pawn</td><td>7</td><td>7.76</td></tr>",
                            "<tr><td>pawn</td><td>8</td><td>7.69</td></tr>",
                            "<tr><td>pawn</td><td>9</td><td>7.64</td></tr>",
                            "<tr><td>pawn</td><td>10</td><td>7.61</td></tr>",
                            "<tr><td>pawn</td><td>11</td><td>7.57</td></tr>",
                            "<tr><td>pawn</td><td>12</td><td>7.53</td></tr>",
                            "<tr><td>pawn</td><td>13</td><td>7.48</td></tr>",
                            "<tr><td>pawn</td><td>14</td><td>7.44</td></tr>",
                            "<tr><td>pawn</td><td>15</td><td>7.39</td></tr>",
                            "<tr><td>pawn</td><td>16</td><td>7.35</td></tr>",
                            "<tr><td>pawn</td><td>17</td><td>7.30</td></tr>",
                            "<tr><td>pawn</td><td>18</td><td>7.25</td></tr>",
                            "<tr><td>pawn</td><td>19</td><td>7.20</td></tr>",
                            "<tr><td>pawn</td><td>20</td><td>7.16</td></tr>",
                            "<tr><td>pawn</td><td>21</td><td>7.11</td></tr>",
                            "<tr><td>pawn</td><td>22</td><td>7.07</td></tr>",
                            "<tr><td>pawn</td><td>23</td><td>7.02</td></tr>",
                            "<tr><td>pawn</td><td>24</td><td>6.97</td></tr>",
                            "<tr><td>pawn</td><td>25</td><td>6.93</td></tr>",
                            "<tr><td>pawn</td><td>26</td><td>6.88</td></tr>",
                            "<tr><td>pawn</td><td>27</td><td>6.83</td></tr>",
                            "<tr><td>pawn</td><td>28</td><td>6.78</td></tr>",
                            "<tr><td>pawn</td><td>29</td><td>6.73</td></tr>",
                            "<tr><td>pawn</td><td>30</td><td>6.68</td></tr>",
                            "<tr><td>pawn</td><td>31</td><td>6.64</td></tr>",
                            "<tr><td>pawn</td><td>32</td><td>6.59</td></tr>",
                            "<tr><td>pawn</td><td>33</td><td>6.55</td></tr>",
                            "<tr><td>pawn</td><td>34</td><td>6.50</td></tr>",
                            "<tr><td>pawn</td><td>35</td><td>6.45</td></tr>",
                            "<tr><td>pawn</td><td>36</td><td>6.40</td></tr>",
                            "<tr><td>pawn</td><td>37</td><td>6.35</td></tr>",
                            "<tr><td>pawn</td><td>38</td><td>6.30</td></tr>",
                            "<tr><td>pawn</td><td>39</td><td>6.25</td></tr>",
                            "<tr><td>pawn</td><td>40</td><td>6.20</td></tr>",
                            "<tr><td>pawn</td><td>41</td><td>6.15</td></tr>",
                            "<tr><td>pawn</td><td>42</td><td>6.10</td></tr>",
                            "<tr><td>pawn</td><td>43</td><td>6.05</td></tr>",
                            "<tr><td>pawn</td><td>44</td><td>6.00</td></tr>",
                            "<tr><td>pawn</td><td>45</td><td>5.95</td></tr>",
                            "<tr><td>pawn</td><td>46</td><td>5.90</td></tr>",
                            "<tr><td>pawn</td><td>47</td><td>5.85</td></tr>",
                            "<tr><td>pawn</td><td>48</td><td>5.80</td></tr>",
                            "<tr><td>pawn</td><td>49</td><td>5.76</td></tr>",
                            "<tr><td>pawn</td><td>50</td><td>5.71</td></tr>",
                            "<tr><td>pawn</td><td>51</td><td>5.66</td></tr>",
                            "<tr><td>pawn</td><td>52</td><td>5.61</td></tr>",
                            "<tr><td>pawn</td><td>53</td><td>5.56</td></tr>",
                            "<tr><td>pawn</td><td>54</td><td>5.52</td></tr>",
                            "<tr><td>pawn</td><td>55</td><td>5.47</td></tr>",
                            "<tr><td>pawn</td><td>56</td><td>5.42</td></tr>",
                            "<tr><td>pawn</td><td>57</td><td>5.37</td></tr>",
                            "<tr><td>pawn</td><td>58</td><td>5.32</td></tr>",
                            "<tr><td>pawn</td><td>59</td><td>5.27</td></tr>",
                            "<tr><td>pawn</td><td>60</td><td>5.22</td></tr>",
                            "<tr><td>pawn</td><td>61</td><td>5.17</td></tr>",
                            "<tr><td>pawn</td><td>62</td><td>5.12</td></tr>",
                            "<tr><td>pawn</td><td>63</td><td>5.07</td></tr>",
                            "<tr><td>pawn</td><td>64</td><td>5.02</td></tr>",
                            "<tr><td>pawn</td><td>65</td><td>4.97</td></tr>",
                            "<tr><td>pawn</td><td>66</td><td>4.92</td></tr>",
                            "<tr><td>pawn</td><td>67</td><td>4.87</td></tr>",
                            "<tr><td>pawn</td><td>68</td><td>4.83</td></tr>",
                            "<tr><td>pawn</td><td>69</td><td>4.78</td></tr>",
                            "<tr><td>pawn</td><td>70</td><td>4.72</td></tr>",
                            "<tr><td>pawn</td><td>71</td><td>4.68</td></tr>",
                            "<tr><td>pawn</td><td>72</td><td>4.62</td></tr>",
                            "<tr><td>pawn</td><td>73</td><td>4.58</td></tr>",
                            "<tr><td>pawn</td><td>74</td><td>4.53</td></tr>",
                            "<tr><td>pawn</td><td>75</td><td>4.48</td></tr>",
                            "<tr><td>pawn</td><td>76</td><td>4.43</td></tr>",
                            "<tr><td>pawn</td><td>77</td><td>4.38</td></tr>",
                            "<tr><td>pawn</td><td>78</td><td>4.33</td></tr>",
                            "<tr><td>pawn</td><td>79</td><td>4.28</td></tr>",
                            "<tr><td>pawn</td><td>80</td><td>4.22</td></tr>",
                            "<tr><td>pawn</td><td>81</td><td>4.18</td></tr>",
                            "<tr><td>pawn</td><td>82</td><td>4.13</td></tr>",
                            "<tr><td>pawn</td><td>83</td><td>4.09</td></tr>",
                            "<tr><td>pawn</td><td>84</td><td>4.04</td></tr>",
                            "<tr><td>pawn</td><td>85</td><td>3.99</td></tr>",
                            "<tr><td>pawn</td><td>86</td><td>3.95</td></tr>",
                            "<tr><td>pawn</td><td>87</td><td>3.89</td></tr>",
                            "<tr><td>pawn</td><td>88</td><td>3.85</td></tr>",
                            "<tr><td>pawn</td><td>89</td><td>3.80</td></tr>",
                            "<tr><td>pawn</td><td>90</td><td>3.75</td></tr>",
                            "<tr><td>pawn</td><td>91</td><td>3.70</td></tr>",
                            "<tr><td>pawn</td><td>92</td><td>3.65</td></tr>",
                            "<tr><td>pawn</td><td>93</td><td>3.61</td></tr>",
                            "<tr><td>pawn</td><td>94</td><td>3.56</td></tr>",
                            "<tr><td>pawn</td><td>95</td><td>3.51</td></tr>",
                            "<tr><td>pawn</td><td>96</td><td>3.46</td></tr>",
                            "<tr><td>pawn</td><td>97</td><td>3.41</td></tr>",
                            "<tr><td>pawn</td><td>98</td><td>3.37</td></tr>",
                            "<tr><td>pawn</td><td>99</td><td>3.33</td></tr>",
                            "<tr><td>pawn</td><td>100</td><td>3.28</td></tr>",
                            "<tr><td>pawn</td><td>101</td><td>3.25</td></tr>",
                            "<tr><td>pawn</td><td>102</td><td>3.20</td></tr>",
                            "<tr><td>pawn</td><td>103</td><td>3.15</td></tr>",
                            "<tr><td>pawn</td><td>104</td><td>3.11</td></tr>",
                            "<tr><td>pawn</td><td>105</td><td>3.08</td></tr>",
                            "<tr><td>pawn</td><td>106</td><td>3.03</td></tr>",
                            "<tr><td>pawn</td><td>107</td><td>2.99</td></tr>",
                            "<tr><td>pawn</td><td>108</td><td>2.95</td></tr>",
                            "<tr><td>pawn</td><td>109</td><td>2.92</td></tr>",
                            "<tr><td>pawn</td><td>110</td><td>2.86</td></tr>",
                            "<tr><td>pawn</td><td>111</td><td>2.82</td></tr>",
                            "<tr><td>pawn</td><td>112</td><td>2.79</td></tr>",
                            "<tr><td>pawn</td><td>113</td><td>2.76</td></tr>",
                            "<tr><td>pawn</td><td>114</td><td>2.73</td></tr>",
                            "<tr><td>pawn</td><td>115</td><td>2.70</td></tr>",
                            "<tr><td>pawn</td><td>116</td><td>2.68</td></tr>",
                            "<tr><td>pawn</td><td>117</td><td>2.65</td></tr>",
                            "<tr><td>pawn</td><td>118</td><td>2.62</td></tr>",
                            "<tr><td>pawn</td><td>119</td><td>2.59</td></tr>",
                            "<tr><td>pawn</td><td>120</td><td>2.56</td></tr>",
                            "<tr><td>pawn</td><td>121</td><td>2.54</td></tr>",
                            "<tr><td>pawn</td><td>122</td><td>2.50</td></tr>",
                            "<tr><td>pawn</td><td>123</td><td>2.47</td></tr>",
                            "<tr><td>pawn</td><td>124</td><td>2.43</td></tr>",
                            "<tr><td>pawn</td><td>125</td><td>2.40</td></tr>",
                            "<tr><td>pawn</td><td>126</td><td>2.36</td></tr>",
                            "<tr><td>pawn</td><td>127</td><td>2.33</td></tr>",
                            "<tr><td>pawn</td><td>128</td><td>2.30</td></tr>",
                            "<tr><td>pawn</td><td>129</td><td>2.27</td></tr>",
                            "<tr><td>pawn</td><td>130</td><td>2.25</td></tr>",
                            "<tr><td>pawn</td><td>131</td><td>2.21</td></tr>",
                            "<tr><td>pawn</td><td>132</td><td>2.19</td></tr>",
                            "<tr><td>pawn</td><td>133</td><td>2.18</td></tr>",
                            "<tr><td>pawn</td><td>134</td><td>2.16</td></tr>",
                            "<tr><td>pawn</td><td>135</td><td>2.15</td></tr>",
                            "<tr><td>pawn</td><td>136</td><td>2.13</td></tr>",
                            "<tr><td>pawn</td><td>137</td><td>2.11</td></tr>",
                            "<tr><td>pawn</td><td>138</td><td>2.09</td></tr>",
                            "<tr><td>pawn</td><td>139</td><td>2.06</td></tr>",
                            "<tr><td>pawn</td><td>140</td><td>2.02</td></tr>",
                            "<tr><td>pawn</td><td>141</td><td>2.01</td></tr>",
                            "<tr><td>pawn</td><td>142</td><td>1.99</td></tr>",
                            "<tr><td>pawn</td><td>143</td><td>1.99</td></tr>",
                            "<tr><td>pawn</td><td>144</td><td>1.97</td></tr>",
                            "<tr><td>pawn</td><td>145</td><td>1.96</td></tr>",
                            "<tr><td>pawn</td><td>146</td><td>1.94</td></tr>",
                            "<tr><td>pawn</td><td>147</td><td>1.91</td></tr>",
                            "<tr><td>pawn</td><td>148</td><td>1.88</td></tr>",
                            "<tr><td>pawn</td><td>149</td><td>1.87</td></tr>",
                            "<tr><td>queen</td><td>1</td><td>1.00</td></tr>",
                            "<tr><td>queen</td><td>2</td><td>1.00</td></tr>",
                            "<tr><td>queen</td><td>3</td><td>1.00</td></tr>",
                            "<tr><td>queen</td><td>4</td><td>1.00</td></tr>",
                            "<tr><td>queen</td><td>5</td><td>1.00</td></tr>",
                            "<tr><td>queen</td><td>6</td><td>1.00</td></tr>",
                            "<tr><td>queen</td><td>7</td><td>1.00</td></tr>",
                            "<tr><td>queen</td><td>8</td><td>1.00</td></tr>",
                            "<tr><td>queen</td><td>9</td><td>1.00</td></tr>",
                            "<tr><td>queen</td><td>10</td><td>1.00</td></tr>",
                            "<tr><td>queen</td><td>11</td><td>1.00</td></tr>",
                            "<tr><td>queen</td><td>12</td><td>1.00</td></tr>",
                            "<tr><td>queen</td><td>13</td><td>1.00</td></tr>",
                            "<tr><td>queen</td><td>14</td><td>0.99</td></tr>",
                            "<tr><td>queen</td><td>15</td><td>0.99</td></tr>",
                            "<tr><td>queen</td><td>16</td><td>0.98</td></tr>",
                            "<tr><td>queen</td><td>17</td><td>0.98</td></tr>",
                            "<tr><td>queen</td><td>18</td><td>0.97</td></tr>",
                            "<tr><td>queen</td><td>19</td><td>0.97</td></tr>",
                            "<tr><td>queen</td><td>20</td><td>0.97</td></tr>",
                            "<tr><td>queen</td><td>21</td><td>0.96</td></tr>",
                            "<tr><td>queen</td><td>22</td><td>0.96</td></tr>",
                            "<tr><td>queen</td><td>23</td><td>0.95</td></tr>",
                            "<tr><td>queen</td><td>24</td><td>0.95</td></tr>",
                            "<tr><td>queen</td><td>25</td><td>0.94</td></tr>",
                            "<tr><td>queen</td><td>26</td><td>0.93</td></tr>",
                            "<tr><td>queen</td><td>27</td><td>0.93</td></tr>",
                            "<tr><td>queen</td><td>28</td><td>0.92</td></tr>",
                            "<tr><td>queen</td><td>29</td><td>0.91</td></tr>",
                            "<tr><td>queen</td><td>30</td><td>0.91</td></tr>",
                            "<tr><td>queen</td><td>31</td><td>0.90</td></tr>",
                            "<tr><td>queen</td><td>32</td><td>0.89</td></tr>",
                            "<tr><td>queen</td><td>33</td><td>0.88</td></tr>",
                            "<tr><td>queen</td><td>34</td><td>0.87</td></tr>",
                            "<tr><td>queen</td><td>35</td><td>0.86</td></tr>",
                            "<tr><td>queen</td><td>36</td><td>0.86</td></tr>",
                            "<tr><td>queen</td><td>37</td><td>0.85</td></tr>",
                            "<tr><td>queen</td><td>38</td><td>0.84</td></tr>",
                            "<tr><td>queen</td><td>39</td><td>0.83</td></tr>",
                            "<tr><td>queen</td><td>40</td><td>0.82</td></tr>",
                            "<tr><td>queen</td><td>41</td><td>0.81</td></tr>",
                            "<tr><td>queen</td><td>42</td><td>0.79</td></tr>",
                            "<tr><td>queen</td><td>43</td><td>0.78</td></tr>",
                            "<tr><td>queen</td><td>44</td><td>0.77</td></tr>",
                            "<tr><td>queen</td><td>45</td><td>0.76</td></tr>",
                            "<tr><td>queen</td><td>46</td><td>0.75</td></tr>",
                            "<tr><td>queen</td><td>47</td><td>0.74</td></tr>",
                            "<tr><td>queen</td><td>48</td><td>0.72</td></tr>",
                            "<tr><td>queen</td><td>49</td><td>0.71</td></tr>",
                            "<tr><td>queen</td><td>50</td><td>0.70</td></tr>",
                            "<tr><td>queen</td><td>51</td><td>0.69</td></tr>",
                            "<tr><td>queen</td><td>52</td><td>0.68</td></tr>",
                            "<tr><td>queen</td><td>53</td><td>0.67</td></tr>",
                            "<tr><td>queen</td><td>54</td><td>0.65</td></tr>",
                            "<tr><td>queen</td><td>55</td><td>0.64</td></tr>",
                            "<tr><td>queen</td><td>56</td><td>0.63</td></tr>",
                            "<tr><td>queen</td><td>57</td><td>0.62</td></tr>",
                            "<tr><td>queen</td><td>58</td><td>0.61</td></tr>",
                            "<tr><td>queen</td><td>59</td><td>0.60</td></tr>",
                            "<tr><td>queen</td><td>60</td><td>0.58</td></tr>",
                            "<tr><td>queen</td><td>61</td><td>0.57</td></tr>",
                            "<tr><td>queen</td><td>62</td><td>0.56</td></tr>",
                            "<tr><td>queen</td><td>63</td><td>0.55</td></tr>",
                            "<tr><td>queen</td><td>64</td><td>0.54</td></tr>",
                            "<tr><td>queen</td><td>65</td><td>0.53</td></tr>",
                            "<tr><td>queen</td><td>66</td><td>0.51</td></tr>",
                            "<tr><td>queen</td><td>67</td><td>0.50</td></tr>",
                            "<tr><td>queen</td><td>68</td><td>0.49</td></tr>",
                            "<tr><td>queen</td><td>69</td><td>0.48</td></tr>",
                            "<tr><td>queen</td><td>70</td><td>0.47</td></tr>",
                            "<tr><td>queen</td><td>71</td><td>0.46</td></tr>",
                            "<tr><td>queen</td><td>72</td><td>0.45</td></tr>",
                            "<tr><td>queen</td><td>73</td><td>0.44</td></tr>",
                            "<tr><td>queen</td><td>74</td><td>0.43</td></tr>",
                            "<tr><td>queen</td><td>75</td><td>0.42</td></tr>",
                            "<tr><td>queen</td><td>76</td><td>0.41</td></tr>",
                            "<tr><td>queen</td><td>77</td><td>0.40</td></tr>",
                            "<tr><td>queen</td><td>78</td><td>0.39</td></tr>",
                            "<tr><td>queen</td><td>79</td><td>0.38</td></tr>",
                            "<tr><td>queen</td><td>80</td><td>0.37</td></tr>",
                            "<tr><td>queen</td><td>81</td><td>0.36</td></tr>",
                            "<tr><td>queen</td><td>82</td><td>0.35</td></tr>",
                            "<tr><td>queen</td><td>83</td><td>0.35</td></tr>",
                            "<tr><td>queen</td><td>84</td><td>0.34</td></tr>",
                            "<tr><td>queen</td><td>85</td><td>0.33</td></tr>",
                            "<tr><td>queen</td><td>86</td><td>0.32</td></tr>",
                            "<tr><td>queen</td><td>87</td><td>0.31</td></tr>",
                            "<tr><td>queen</td><td>88</td><td>0.31</td></tr>",
                            "<tr><td>queen</td><td>89</td><td>0.30</td></tr>",
                            "<tr><td>queen</td><td>90</td><td>0.29</td></tr>",
                            "<tr><td>queen</td><td>91</td><td>0.29</td></tr>",
                            "<tr><td>queen</td><td>92</td><td>0.28</td></tr>",
                            "<tr><td>queen</td><td>93</td><td>0.28</td></tr>",
                            "<tr><td>queen</td><td>94</td><td>0.27</td></tr>",
                            "<tr><td>queen</td><td>95</td><td>0.26</td></tr>",
                            "<tr><td>queen</td><td>96</td><td>0.26</td></tr>",
                            "<tr><td>queen</td><td>97</td><td>0.25</td></tr>",
                            "<tr><td>queen</td><td>98</td><td>0.25</td></tr>",
                            "<tr><td>queen</td><td>99</td><td>0.24</td></tr>",
                            "<tr><td>queen</td><td>100</td><td>0.24</td></tr>",
                            "<tr><td>queen</td><td>101</td><td>0.24</td></tr>",
                            "<tr><td>queen</td><td>102</td><td>0.23</td></tr>",
                            "<tr><td>queen</td><td>103</td><td>0.23</td></tr>",
                            "<tr><td>queen</td><td>104</td><td>0.23</td></tr>",
                            "<tr><td>queen</td><td>105</td><td>0.23</td></tr>",
                            "<tr><td>queen</td><td>106</td><td>0.22</td></tr>",
                            "<tr><td>queen</td><td>107</td><td>0.22</td></tr>",
                            "<tr><td>queen</td><td>108</td><td>0.21</td></tr>",
                            "<tr><td>queen</td><td>109</td><td>0.21</td></tr>",
                            "<tr><td>queen</td><td>110</td><td>0.21</td></tr>",
                            "<tr><td>queen</td><td>111</td><td>0.21</td></tr>",
                            "<tr><td>queen</td><td>112</td><td>0.21</td></tr>",
                            "<tr><td>queen</td><td>113</td><td>0.20</td></tr>",
                            "<tr><td>queen</td><td>114</td><td>0.20</td></tr>",
                            "<tr><td>queen</td><td>115</td><td>0.20</td></tr>",
                            "<tr><td>queen</td><td>116</td><td>0.20</td></tr>",
                            "<tr><td>queen</td><td>117</td><td>0.20</td></tr>",
                            "<tr><td>queen</td><td>118</td><td>0.20</td></tr>",
                            "<tr><td>queen</td><td>119</td><td>0.20</td></tr>",
                            "<tr><td>queen</td><td>120</td><td>0.20</td></tr>",
                            "<tr><td>queen</td><td>121</td><td>0.20</td></tr>",
                            "<tr><td>queen</td><td>122</td><td>0.20</td></tr>",
                            "<tr><td>queen</td><td>123</td><td>0.20</td></tr>",
                            "<tr><td>queen</td><td>124</td><td>0.19</td></tr>",
                            "<tr><td>queen</td><td>125</td><td>0.19</td></tr>",
                            "<tr><td>queen</td><td>126</td><td>0.19</td></tr>",
                            "<tr><td>queen</td><td>127</td><td>0.19</td></tr>",
                            "<tr><td>queen</td><td>128</td><td>0.19</td></tr>",
                            "<tr><td>queen</td><td>129</td><td>0.19</td></tr>",
                            "<tr><td>queen</td><td>130</td><td>0.19</td></tr>",
                            "<tr><td>queen</td><td>131</td><td>0.19</td></tr>",
                            "<tr><td>queen</td><td>132</td><td>0.19</td></tr>",
                            "<tr><td>queen</td><td>133</td><td>0.19</td></tr>",
                            "<tr><td>queen</td><td>134</td><td>0.19</td></tr>",
                            "<tr><td>queen</td><td>135</td><td>0.19</td></tr>",
                            "<tr><td>queen</td><td>136</td><td>0.19</td></tr>",
                            "<tr><td>queen</td><td>137</td><td>0.19</td></tr>",
                            "<tr><td>queen</td><td>138</td><td>0.18</td></tr>",
                            "<tr><td>queen</td><td>139</td><td>0.19</td></tr>",
                            "<tr><td>queen</td><td>140</td><td>0.19</td></tr>",
                            "<tr><td>queen</td><td>141</td><td>0.19</td></tr>",
                            "<tr><td>queen</td><td>142</td><td>0.19</td></tr>",
                            "<tr><td>queen</td><td>143</td><td>0.19</td></tr>",
                            "<tr><td>queen</td><td>144</td><td>0.19</td></tr>",
                            "<tr><td>queen</td><td>145</td><td>0.19</td></tr>",
                            "<tr><td>queen</td><td>146</td><td>0.19</td></tr>",
                            "<tr><td>queen</td><td>147</td><td>0.18</td></tr>",
                            "<tr><td>queen</td><td>148</td><td>0.19</td></tr>",
                            "<tr><td>queen</td><td>149</td><td>0.18</td></tr>",
                            "<tr><td>rook</td><td>1</td><td>2.00</td></tr>",
                            "<tr><td>rook</td><td>2</td><td>2.00</td></tr>",
                            "<tr><td>rook</td><td>3</td><td>2.00</td></tr>",
                            "<tr><td>rook</td><td>4</td><td>2.00</td></tr>",
                            "<tr><td>rook</td><td>5</td><td>2.00</td></tr>",
                            "<tr><td>rook</td><td>6</td><td>2.00</td></tr>",
                            "<tr><td>rook</td><td>7</td><td>2.00</td></tr>",
                            "<tr><td>rook</td><td>8</td><td>2.00</td></tr>",
                            "<tr><td>rook</td><td>9</td><td>2.00</td></tr>",
                            "<tr><td>rook</td><td>10</td><td>2.00</td></tr>",
                            "<tr><td>rook</td><td>11</td><td>2.00</td></tr>",
                            "<tr><td>rook</td><td>12</td><td>2.00</td></tr>",
                            "<tr><td>rook</td><td>13</td><td>2.00</td></tr>",
                            "<tr><td>rook</td><td>14</td><td>2.00</td></tr>",
                            "<tr><td>rook</td><td>15</td><td>2.00</td></tr>",
                            "<tr><td>rook</td><td>16</td><td>2.00</td></tr>",
                            "<tr><td>rook</td><td>17</td><td>2.00</td></tr>",
                            "<tr><td>rook</td><td>18</td><td>2.00</td></tr>",
                            "<tr><td>rook</td><td>19</td><td>2.00</td></tr>",
                            "<tr><td>rook</td><td>20</td><td>2.00</td></tr>",
                            "<tr><td>rook</td><td>21</td><td>2.00</td></tr>",
                            "<tr><td>rook</td><td>22</td><td>2.00</td></tr>",
                            "<tr><td>rook</td><td>23</td><td>1.99</td></tr>",
                            "<tr><td>rook</td><td>24</td><td>1.99</td></tr>",
                            "<tr><td>rook</td><td>25</td><td>1.99</td></tr>",
                            "<tr><td>rook</td><td>26</td><td>1.99</td></tr>",
                            "<tr><td>rook</td><td>27</td><td>1.99</td></tr>",
                            "<tr><td>rook</td><td>28</td><td>1.98</td></tr>",
                            "<tr><td>rook</td><td>29</td><td>1.98</td></tr>",
                            "<tr><td>rook</td><td>30</td><td>1.97</td></tr>",
                            "<tr><td>rook</td><td>31</td><td>1.97</td></tr>",
                            "<tr><td>rook</td><td>32</td><td>1.96</td></tr>",
                            "<tr><td>rook</td><td>33</td><td>1.96</td></tr>",
                            "<tr><td>rook</td><td>34</td><td>1.95</td></tr>",
                            "<tr><td>rook</td><td>35</td><td>1.94</td></tr>",
                            "<tr><td>rook</td><td>36</td><td>1.93</td></tr>",
                            "<tr><td>rook</td><td>37</td><td>1.91</td></tr>",
                            "<tr><td>rook</td><td>38</td><td>1.90</td></tr>",
                            "<tr><td>rook</td><td>39</td><td>1.88</td></tr>",
                            "<tr><td>rook</td><td>40</td><td>1.86</td></tr>",
                            "<tr><td>rook</td><td>41</td><td>1.85</td></tr>",
                            "<tr><td>rook</td><td>42</td><td>1.83</td></tr>",
                            "<tr><td>rook</td><td>43</td><td>1.81</td></tr>",
                            "<tr><td>rook</td><td>44</td><td>1.78</td></tr>",
                            "<tr><td>rook</td><td>45</td><td>1.76</td></tr>",
                            "<tr><td>rook</td><td>46</td><td>1.74</td></tr>",
                            "<tr><td>rook</td><td>47</td><td>1.71</td></tr>",
                            "<tr><td>rook</td><td>48</td><td>1.69</td></tr>",
                            "<tr><td>rook</td><td>49</td><td>1.66</td></tr>",
                            "<tr><td>rook</td><td>50</td><td>1.63</td></tr>",
                            "<tr><td>rook</td><td>51</td><td>1.61</td></tr>",
                            "<tr><td>rook</td><td>52</td><td>1.58</td></tr>",
                            "<tr><td>rook</td><td>53</td><td>1.55</td></tr>",
                            "<tr><td>rook</td><td>54</td><td>1.52</td></tr>",
                            "<tr><td>rook</td><td>55</td><td>1.50</td></tr>",
                            "<tr><td>rook</td><td>56</td><td>1.47</td></tr>",
                            "<tr><td>rook</td><td>57</td><td>1.45</td></tr>",
                            "<tr><td>rook</td><td>58</td><td>1.42</td></tr>",
                            "<tr><td>rook</td><td>59</td><td>1.40</td></tr>",
                            "<tr><td>rook</td><td>60</td><td>1.37</td></tr>",
                            "<tr><td>rook</td><td>61</td><td>1.35</td></tr>",
                            "<tr><td>rook</td><td>62</td><td>1.33</td></tr>",
                            "<tr><td>rook</td><td>63</td><td>1.30</td></tr>",
                            "<tr><td>rook</td><td>64</td><td>1.28</td></tr>",
                            "<tr><td>rook</td><td>65</td><td>1.26</td></tr>",
                            "<tr><td>rook</td><td>66</td><td>1.23</td></tr>",
                            "<tr><td>rook</td><td>67</td><td>1.21</td></tr>",
                            "<tr><td>rook</td><td>68</td><td>1.19</td></tr>",
                            "<tr><td>rook</td><td>69</td><td>1.17</td></tr>",
                            "<tr><td>rook</td><td>70</td><td>1.15</td></tr>",
                            "<tr><td>rook</td><td>71</td><td>1.12</td></tr>",
                            "<tr><td>rook</td><td>72</td><td>1.11</td></tr>",
                            "<tr><td>rook</td><td>73</td><td>1.09</td></tr>",
                            "<tr><td>rook</td><td>74</td><td>1.07</td></tr>",
                            "<tr><td>rook</td><td>75</td><td>1.05</td></tr>",
                            "<tr><td>rook</td><td>76</td><td>1.03</td></tr>",
                            "<tr><td>rook</td><td>77</td><td>1.01</td></tr>",
                            "<tr><td>rook</td><td>78</td><td>0.99</td></tr>",
                            "<tr><td>rook</td><td>79</td><td>0.98</td></tr>",
                            "<tr><td>rook</td><td>80</td><td>0.96</td></tr>",
                            "<tr><td>rook</td><td>81</td><td>0.95</td></tr>",
                            "<tr><td>rook</td><td>82</td><td>0.94</td></tr>",
                            "<tr><td>rook</td><td>83</td><td>0.93</td></tr>",
                            "<tr><td>rook</td><td>84</td><td>0.91</td></tr>",
                            "<tr><td>rook</td><td>85</td><td>0.90</td></tr>",
                            "<tr><td>rook</td><td>86</td><td>0.89</td></tr>",
                            "<tr><td>rook</td><td>87</td><td>0.87</td></tr>",
                            "<tr><td>rook</td><td>88</td><td>0.86</td></tr>",
                            "<tr><td>rook</td><td>89</td><td>0.85</td></tr>",
                            "<tr><td>rook</td><td>90</td><td>0.84</td></tr>",
                            "<tr><td>rook</td><td>91</td><td>0.83</td></tr>",
                            "<tr><td>rook</td><td>92</td><td>0.82</td></tr>",
                            "<tr><td>rook</td><td>93</td><td>0.81</td></tr>",
                            "<tr><td>rook</td><td>94</td><td>0.80</td></tr>",
                            "<tr><td>rook</td><td>95</td><td>0.79</td></tr>",
                            "<tr><td>rook</td><td>96</td><td>0.78</td></tr>",
                            "<tr><td>rook</td><td>97</td><td>0.77</td></tr>",
                            "<tr><td>rook</td><td>98</td><td>0.76</td></tr>",
                            "<tr><td>rook</td><td>99</td><td>0.75</td></tr>",
                            "<tr><td>rook</td><td>100</td><td>0.75</td></tr>",
                            "<tr><td>rook</td><td>101</td><td>0.74</td></tr>",
                            "<tr><td>rook</td><td>102</td><td>0.73</td></tr>",
                            "<tr><td>rook</td><td>103</td><td>0.73</td></tr>",
                            "<tr><td>rook</td><td>104</td><td>0.72</td></tr>",
                            "<tr><td>rook</td><td>105</td><td>0.71</td></tr>",
                            "<tr><td>rook</td><td>106</td><td>0.70</td></tr>",
                            "<tr><td>rook</td><td>107</td><td>0.69</td></tr>",
                            "<tr><td>rook</td><td>108</td><td>0.69</td></tr>",
                            "<tr><td>rook</td><td>109</td><td>0.69</td></tr>",
                            "<tr><td>rook</td><td>110</td><td>0.68</td></tr>",
                            "<tr><td>rook</td><td>111</td><td>0.68</td></tr>",
                            "<tr><td>rook</td><td>112</td><td>0.67</td></tr>",
                            "<tr><td>rook</td><td>113</td><td>0.67</td></tr>",
                            "<tr><td>rook</td><td>114</td><td>0.67</td></tr>",
                            "<tr><td>rook</td><td>115</td><td>0.66</td></tr>",
                            "<tr><td>rook</td><td>116</td><td>0.66</td></tr>",
                            "<tr><td>rook</td><td>117</td><td>0.65</td></tr>",
                            "<tr><td>rook</td><td>118</td><td>0.64</td></tr>",
                            "<tr><td>rook</td><td>119</td><td>0.64</td></tr>",
                            "<tr><td>rook</td><td>120</td><td>0.64</td></tr>",
                            "<tr><td>rook</td><td>121</td><td>0.64</td></tr>",
                            "<tr><td>rook</td><td>122</td><td>0.63</td></tr>",
                            "<tr><td>rook</td><td>123</td><td>0.63</td></tr>",
                            "<tr><td>rook</td><td>124</td><td>0.62</td></tr>",
                            "<tr><td>rook</td><td>125</td><td>0.62</td></tr>",
                            "<tr><td>rook</td><td>126</td><td>0.62</td></tr>",
                            "<tr><td>rook</td><td>127</td><td>0.61</td></tr>",
                            "<tr><td>rook</td><td>128</td><td>0.61</td></tr>",
                            "<tr><td>rook</td><td>129</td><td>0.61</td></tr>",
                            "<tr><td>rook</td><td>130</td><td>0.60</td></tr>",
                            "<tr><td>rook</td><td>131</td><td>0.61</td></tr>",
                            "<tr><td>rook</td><td>132</td><td>0.61</td></tr>",
                            "<tr><td>rook</td><td>133</td><td>0.61</td></tr>",
                            "<tr><td>rook</td><td>134</td><td>0.61</td></tr>",
                            "<tr><td>rook</td><td>135</td><td>0.61</td></tr>",
                            "<tr><td>rook</td><td>136</td><td>0.60</td></tr>",
                            "<tr><td>rook</td><td>137</td><td>0.60</td></tr>",
                            "<tr><td>rook</td><td>138</td><td>0.60</td></tr>",
                            "<tr><td>rook</td><td>139</td><td>0.60</td></tr>",
                            "<tr><td>rook</td><td>140</td><td>0.60</td></tr>",
                            "<tr><td>rook</td><td>141</td><td>0.59</td></tr>",
                            "<tr><td>rook</td><td>142</td><td>0.60</td></tr>",
                            "<tr><td>rook</td><td>143</td><td>0.59</td></tr>",
                            "<tr><td>rook</td><td>144</td><td>0.59</td></tr>",
                            "<tr><td>rook</td><td>145</td><td>0.59</td></tr>",
                            "<tr><td>rook</td><td>146</td><td>0.58</td></tr>",
                            "<tr><td>rook</td><td>147</td><td>0.58</td></tr>",
                            "<tr><td>rook</td><td>148</td><td>0.58</td></tr>",
                            "<tr><td>rook</td><td>149</td><td>0.58</td></tr>",
                            "</table>"
                        ]
                    }
                }
            ],
            "execution_count": 1
        },
        {
            "cell_type": "markdown",
            "source": [
                "# Average number of Pawn Promotion over all games\n",
                "\n",
                "In a chess game, pawns are the leaset valued piece. However, when they become \"passed pawn\", which means they have passed beyond enymy pawns  and have a clear run to first or eighth rank to be promoted to a queen, their values soar. This table computes the average number of pawns getting promoted to a Queen from Top players' games."
            ],
            "metadata": {
                "azdata_cell_guid": "33e4abb7-7c42-42eb-8b68-1b3ceb303751"
            },
            "attachments": {}
        },
        {
            "cell_type": "code",
            "source": [
                "-- Calculate the average of pawn promtion\n",
                "SELECT\n",
                "    player,\n",
                "    CAST(queen_promotion_with_white + queen_promotion_with_black AS FLOAT) / CAST(total_games AS FLOAT)\n",
                "        AS average_promotion,\n",
                "    total_games\n",
                "FROM\n",
                "    -- Calculate how many queens are promoted in all games. The notation is 8=Q for White and 1=Q for Black\n",
                "    (SELECT\n",
                "        player,\n",
                "        COUNT(*) AS total_games,\n",
                "        SUM(CASE WHEN lines LIKE '%8=Q%' AND color = 'White' THEN 1 END) AS queen_promotion_with_white,\n",
                "        SUM(CASE WHEN lines LIKE '%1=Q%' AND color = 'Black' THEN 1 END) AS queen_promotion_with_black\n",
                "    FROM game_data\n",
                "    GROUP BY player) AS queen_promotion\n",
                "ORDER BY\n",
                "    average_promotion DESC"
            ],
            "metadata": {
                "azdata_cell_guid": "d31e5bde-339c-4676-8614-7df50c2dfe5a",
                "language": "sql"
            },
            "outputs": [
                {
                    "output_type": "display_data",
                    "data": {
                        "text/html": "Warning: Null value is eliminated by an aggregate or other SET operation."
                    },
                    "metadata": {}
                },
                {
                    "output_type": "display_data",
                    "data": {
                        "text/html": "(12 rows affected)"
                    },
                    "metadata": {}
                },
                {
                    "output_type": "display_data",
                    "data": {
                        "text/html": "Total execution time: 00:00:04.223"
                    },
                    "metadata": {}
                },
                {
                    "output_type": "execute_result",
                    "metadata": {},
                    "execution_count": 2,
                    "data": {
                        "application/vnd.dataresource+json": {
                            "schema": {
                                "fields": [
                                    {
                                        "name": "player"
                                    },
                                    {
                                        "name": "average_promotion"
                                    },
                                    {
                                        "name": "total_games"
                                    }
                                ]
                            },
                            "data": [
                                {
                                    "0": "Morphy",
                                    "1": "0.06097560975609756",
                                    "2": "246"
                                },
                                {
                                    "0": "Alekhine",
                                    "1": "0.040031397174254316",
                                    "2": "1274"
                                },
                                {
                                    "0": "Carlsen",
                                    "1": "0.03871987356775978",
                                    "2": "2531"
                                },
                                {
                                    "0": "Fischer",
                                    "1": "0.03817603393425239",
                                    "2": "943"
                                },
                                {
                                    "0": "Polgar",
                                    "1": "0.03758169934640523",
                                    "2": "1836"
                                },
                                {
                                    "0": "Caruana",
                                    "1": "0.035696073431922486",
                                    "2": "1961"
                                },
                                {
                                    "0": "Nakamura",
                                    "1": "0.033496424538953705",
                                    "2": "2657"
                                },
                                {
                                    "0": "Capablanca",
                                    "1": "0.02875816993464052",
                                    "2": "765"
                                },
                                {
                                    "0": "Kasparov",
                                    "1": "0.025712949976624593",
                                    "2": "2139"
                                },
                                {
                                    "0": "Anand",
                                    "1": "0.022836199605300252",
                                    "2": "3547"
                                },
                                {
                                    "0": "Tal",
                                    "1": "0.02245508982035928",
                                    "2": "2672"
                                },
                                {
                                    "0": "Botvinnik",
                                    "1": "0.021653543307086614",
                                    "2": "1016"
                                }
                            ]
                        },
                        "text/html": [
                            "<table>",
                            "<tr><th>player</th><th>average_promotion</th><th>total_games</th></tr>",
                            "<tr><td>Morphy</td><td>0.06097560975609756</td><td>246</td></tr>",
                            "<tr><td>Alekhine</td><td>0.040031397174254316</td><td>1274</td></tr>",
                            "<tr><td>Carlsen</td><td>0.03871987356775978</td><td>2531</td></tr>",
                            "<tr><td>Fischer</td><td>0.03817603393425239</td><td>943</td></tr>",
                            "<tr><td>Polgar</td><td>0.03758169934640523</td><td>1836</td></tr>",
                            "<tr><td>Caruana</td><td>0.035696073431922486</td><td>1961</td></tr>",
                            "<tr><td>Nakamura</td><td>0.033496424538953705</td><td>2657</td></tr>",
                            "<tr><td>Capablanca</td><td>0.02875816993464052</td><td>765</td></tr>",
                            "<tr><td>Kasparov</td><td>0.025712949976624593</td><td>2139</td></tr>",
                            "<tr><td>Anand</td><td>0.022836199605300252</td><td>3547</td></tr>",
                            "<tr><td>Tal</td><td>0.02245508982035928</td><td>2672</td></tr>",
                            "<tr><td>Botvinnik</td><td>0.021653543307086614</td><td>1016</td></tr>",
                            "</table>"
                        ]
                    }
                }
            ],
            "execution_count": 2
        },
        {
            "cell_type": "markdown",
            "source": [
                "# Average attacked enemy square count\n",
                "\n",
                "This table quantifies how aggressive each player is by counting how many enymy squares are under attack for a given moment."
            ],
            "metadata": {
                "azdata_cell_guid": "b79af88b-e80c-4fa6-9c97-88eb1a3fdff6"
            },
            "attachments": {}
        },
        {
            "cell_type": "code",
            "source": [
                "-- Compute the average enemy squares that are under attack\n",
                "SELECT \n",
                "    player,\n",
                "    move_num,\n",
                "    CAST(SUM(attacked_square_num) AS FLOAT) / CAST(COUNT(*) AS FLOAT) AS square_count\n",
                "FROM Player_attacked_square_info\n",
                "WHERE\n",
                "    move_num < 60\n",
                "GROUP BY player, move_num\n",
                "ORDER BY 1,2"
            ],
            "metadata": {
                "azdata_cell_guid": "bb7cd31d-a850-4076-9cb7-011cf465d79a",
                "language": "sql"
            },
            "outputs": [
                {
                    "output_type": "display_data",
                    "data": {
                        "text/html": "(708 rows affected)"
                    },
                    "metadata": {}
                },
                {
                    "output_type": "display_data",
                    "data": {
                        "text/html": "Total execution time: 00:00:00.376"
                    },
                    "metadata": {}
                },
                {
                    "output_type": "execute_result",
                    "metadata": {},
                    "execution_count": 4,
                    "data": {
                        "application/vnd.dataresource+json": {
                            "schema": {
                                "fields": [
                                    {
                                        "name": "player"
                                    },
                                    {
                                        "name": "move_num"
                                    },
                                    {
                                        "name": "square_count"
                                    }
                                ]
                            },
                            "data": [
                                {
                                    "0": "Alekhine",
                                    "1": "1",
                                    "2": "2.388540031397174"
                                },
                                {
                                    "0": "Alekhine",
                                    "1": "2",
                                    "2": "3.8540031397174253"
                                },
                                {
                                    "0": "Alekhine",
                                    "1": "3",
                                    "2": "4.97331240188383"
                                },
                                {
                                    "0": "Alekhine",
                                    "1": "4",
                                    "2": "5.63265306122449"
                                },
                                {
                                    "0": "Alekhine",
                                    "1": "5",
                                    "2": "6.450549450549451"
                                },
                                {
                                    "0": "Alekhine",
                                    "1": "6",
                                    "2": "6.827315541601256"
                                },
                                {
                                    "0": "Alekhine",
                                    "1": "7",
                                    "2": "7.2919937205651495"
                                },
                                {
                                    "0": "Alekhine",
                                    "1": "8",
                                    "2": "7.6051805337519625"
                                },
                                {
                                    "0": "Alekhine",
                                    "1": "9",
                                    "2": "7.978806907378336"
                                },
                                {
                                    "0": "Alekhine",
                                    "1": "10",
                                    "2": "8.167974882260596"
                                },
                                {
                                    "0": "Alekhine",
                                    "1": "11",
                                    "2": "8.599686028257457"
                                },
                                {
                                    "0": "Alekhine",
                                    "1": "12",
                                    "2": "8.846938775510203"
                                },
                                {
                                    "0": "Alekhine",
                                    "1": "13",
                                    "2": "9.112244897959183"
                                },
                                {
                                    "0": "Alekhine",
                                    "1": "14",
                                    "2": "9.179748822605966"
                                },
                                {
                                    "0": "Alekhine",
                                    "1": "15",
                                    "2": "9.58712715855573"
                                },
                                {
                                    "0": "Alekhine",
                                    "1": "16",
                                    "2": "9.596546310832025"
                                },
                                {
                                    "0": "Alekhine",
                                    "1": "17",
                                    "2": "9.84850863422292"
                                },
                                {
                                    "0": "Alekhine",
                                    "1": "18",
                                    "2": "9.902668759811617"
                                },
                                {
                                    "0": "Alekhine",
                                    "1": "19",
                                    "2": "10.276512175962294"
                                },
                                {
                                    "0": "Alekhine",
                                    "1": "20",
                                    "2": "10.225451688923801"
                                },
                                {
                                    "0": "Alekhine",
                                    "1": "21",
                                    "2": "10.476415094339623"
                                },
                                {
                                    "0": "Alekhine",
                                    "1": "22",
                                    "2": "10.52714398111723"
                                },
                                {
                                    "0": "Alekhine",
                                    "1": "23",
                                    "2": "10.688976377952756"
                                },
                                {
                                    "0": "Alekhine",
                                    "1": "24",
                                    "2": "10.736593059936908"
                                },
                                {
                                    "0": "Alekhine",
                                    "1": "25",
                                    "2": "10.915481832543444"
                                },
                                {
                                    "0": "Alekhine",
                                    "1": "26",
                                    "2": "10.966034755134281"
                                },
                                {
                                    "0": "Alekhine",
                                    "1": "27",
                                    "2": "11.260663507109005"
                                },
                                {
                                    "0": "Alekhine",
                                    "1": "28",
                                    "2": "11.25494853523357"
                                },
                                {
                                    "0": "Alekhine",
                                    "1": "29",
                                    "2": "11.665079365079364"
                                },
                                {
                                    "0": "Alekhine",
                                    "1": "30",
                                    "2": "11.652866242038217"
                                },
                                {
                                    "0": "Alekhine",
                                    "1": "31",
                                    "2": "11.9129392971246"
                                },
                                {
                                    "0": "Alekhine",
                                    "1": "32",
                                    "2": "11.949559647718175"
                                },
                                {
                                    "0": "Alekhine",
                                    "1": "33",
                                    "2": "12.113162118780096"
                                },
                                {
                                    "0": "Alekhine",
                                    "1": "34",
                                    "2": "12.077294685990339"
                                },
                                {
                                    "0": "Alekhine",
                                    "1": "35",
                                    "2": "12.43042071197411"
                                },
                                {
                                    "0": "Alekhine",
                                    "1": "36",
                                    "2": "12.354759967453214"
                                },
                                {
                                    "0": "Alekhine",
                                    "1": "37",
                                    "2": "12.578303425774878"
                                },
                                {
                                    "0": "Alekhine",
                                    "1": "38",
                                    "2": "12.528301886792454"
                                },
                                {
                                    "0": "Alekhine",
                                    "1": "39",
                                    "2": "12.791254125412541"
                                },
                                {
                                    "0": "Alekhine",
                                    "1": "40",
                                    "2": "12.742285237698082"
                                },
                                {
                                    "0": "Alekhine",
                                    "1": "41",
                                    "2": "13.005897219882055"
                                },
                                {
                                    "0": "Alekhine",
                                    "1": "42",
                                    "2": "12.968697123519458"
                                },
                                {
                                    "0": "Alekhine",
                                    "1": "43",
                                    "2": "13.095238095238095"
                                },
                                {
                                    "0": "Alekhine",
                                    "1": "44",
                                    "2": "13.102564102564102"
                                },
                                {
                                    "0": "Alekhine",
                                    "1": "45",
                                    "2": "13.263112639724849"
                                },
                                {
                                    "0": "Alekhine",
                                    "1": "46",
                                    "2": "13.131348511383537"
                                },
                                {
                                    "0": "Alekhine",
                                    "1": "47",
                                    "2": "13.253533568904594"
                                },
                                {
                                    "0": "Alekhine",
                                    "1": "48",
                                    "2": "13.180679785330948"
                                },
                                {
                                    "0": "Alekhine",
                                    "1": "49",
                                    "2": "13.28054298642534"
                                },
                                {
                                    "0": "Alekhine",
                                    "1": "50",
                                    "2": "13.1691042047532"
                                },
                                {
                                    "0": "Alekhine",
                                    "1": "51",
                                    "2": "13.189063948100094"
                                },
                                {
                                    "0": "Alekhine",
                                    "1": "52",
                                    "2": "13.087735849056603"
                                },
                                {
                                    "0": "Alekhine",
                                    "1": "53",
                                    "2": "13.250236966824644"
                                },
                                {
                                    "0": "Alekhine",
                                    "1": "54",
                                    "2": "13.1944177093359"
                                },
                                {
                                    "0": "Alekhine",
                                    "1": "55",
                                    "2": "13.331372549019608"
                                },
                                {
                                    "0": "Alekhine",
                                    "1": "56",
                                    "2": "13.317048853439681"
                                },
                                {
                                    "0": "Alekhine",
                                    "1": "57",
                                    "2": "13.279755849440487"
                                },
                                {
                                    "0": "Alekhine",
                                    "1": "58",
                                    "2": "13.098969072164948"
                                },
                                {
                                    "0": "Alekhine",
                                    "1": "59",
                                    "2": "13.332985386221294"
                                },
                                {
                                    "0": "Anand",
                                    "1": "1",
                                    "2": "2.3830392714854867"
                                },
                                {
                                    "0": "Anand",
                                    "1": "2",
                                    "2": "3.8269778030734205"
                                },
                                {
                                    "0": "Anand",
                                    "1": "3",
                                    "2": "4.663346613545817"
                                },
                                {
                                    "0": "Anand",
                                    "1": "4",
                                    "2": "5.4704040978941375"
                                },
                                {
                                    "0": "Anand",
                                    "1": "5",
                                    "2": "6.403813318155947"
                                },
                                {
                                    "0": "Anand",
                                    "1": "6",
                                    "2": "6.600455321570859"
                                },
                                {
                                    "0": "Anand",
                                    "1": "7",
                                    "2": "6.986340352874217"
                                },
                                {
                                    "0": "Anand",
                                    "1": "8",
                                    "2": "7.405805350028458"
                                },
                                {
                                    "0": "Anand",
                                    "1": "9",
                                    "2": "7.899544678429141"
                                },
                                {
                                    "0": "Anand",
                                    "1": "10",
                                    "2": "8.215993170176437"
                                },
                                {
                                    "0": "Anand",
                                    "1": "11",
                                    "2": "8.307057484348322"
                                },
                                {
                                    "0": "Anand",
                                    "1": "12",
                                    "2": "8.49501850270424"
                                },
                                {
                                    "0": "Anand",
                                    "1": "13",
                                    "2": "8.735269000853972"
                                },
                                {
                                    "0": "Anand",
                                    "1": "14",
                                    "2": "9.128664958724737"
                                },
                                {
                                    "0": "Anand",
                                    "1": "15",
                                    "2": "9.210076857386849"
                                },
                                {
                                    "0": "Anand",
                                    "1": "16",
                                    "2": "9.336560364464692"
                                },
                                {
                                    "0": "Anand",
                                    "1": "17",
                                    "2": "9.491457858769932"
                                },
                                {
                                    "0": "Anand",
                                    "1": "18",
                                    "2": "9.549544419134396"
                                },
                                {
                                    "0": "Anand",
                                    "1": "19",
                                    "2": "9.753776004559704"
                                },
                                {
                                    "0": "Anand",
                                    "1": "20",
                                    "2": "9.866020524515394"
                                },
                                {
                                    "0": "Anand",
                                    "1": "21",
                                    "2": "9.994582264043341"
                                },
                                {
                                    "0": "Anand",
                                    "1": "22",
                                    "2": "10.149871538681131"
                                },
                                {
                                    "0": "Anand",
                                    "1": "23",
                                    "2": "10.115175764504144"
                                },
                                {
                                    "0": "Anand",
                                    "1": "24",
                                    "2": "10.245418098510882"
                                },
                                {
                                    "0": "Anand",
                                    "1": "25",
                                    "2": "10.287883128043541"
                                },
                                {
                                    "0": "Anand",
                                    "1": "26",
                                    "2": "10.485205400746912"
                                },
                                {
                                    "0": "Anand",
                                    "1": "27",
                                    "2": "10.570730304772859"
                                },
                                {
                                    "0": "Anand",
                                    "1": "28",
                                    "2": "10.679538904899136"
                                },
                                {
                                    "0": "Anand",
                                    "1": "29",
                                    "2": "10.776752235361984"
                                },
                                {
                                    "0": "Anand",
                                    "1": "30",
                                    "2": "10.908591264101823"
                                },
                                {
                                    "0": "Anand",
                                    "1": "31",
                                    "2": "11.003473227206946"
                                },
                                {
                                    "0": "Anand",
                                    "1": "32",
                                    "2": "11.089374090247453"
                                },
                                {
                                    "0": "Anand",
                                    "1": "33",
                                    "2": "11.155575014594278"
                                },
                                {
                                    "0": "Anand",
                                    "1": "34",
                                    "2": "11.24639811820053"
                                },
                                {
                                    "0": "Anand",
                                    "1": "35",
                                    "2": "11.267393867924529"
                                },
                                {
                                    "0": "Anand",
                                    "1": "36",
                                    "2": "11.422037422037421"
                                },
                                {
                                    "0": "Anand",
                                    "1": "37",
                                    "2": "11.541008052490307"
                                },
                                {
                                    "0": "Anand",
                                    "1": "38",
                                    "2": "11.589210367691381"
                                },
                                {
                                    "0": "Anand",
                                    "1": "39",
                                    "2": "11.652660217654171"
                                },
                                {
                                    "0": "Anand",
                                    "1": "40",
                                    "2": "11.749160817821178"
                                },
                                {
                                    "0": "Anand",
                                    "1": "41",
                                    "2": "11.821000921093031"
                                },
                                {
                                    "0": "Anand",
                                    "1": "42",
                                    "2": "11.828642128054438"
                                },
                                {
                                    "0": "Anand",
                                    "1": "43",
                                    "2": "11.883742617345353"
                                },
                                {
                                    "0": "Anand",
                                    "1": "44",
                                    "2": "11.952770780856422"
                                },
                                {
                                    "0": "Anand",
                                    "1": "45",
                                    "2": "11.998733776511555"
                                },
                                {
                                    "0": "Anand",
                                    "1": "46",
                                    "2": "12.064123116383456"
                                },
                                {
                                    "0": "Anand",
                                    "1": "47",
                                    "2": "12.088529886914378"
                                },
                                {
                                    "0": "Anand",
                                    "1": "48",
                                    "2": "12.080851063829787"
                                },
                                {
                                    "0": "Anand",
                                    "1": "49",
                                    "2": "12.142195767195767"
                                },
                                {
                                    "0": "Anand",
                                    "1": "50",
                                    "2": "12.177441077441078"
                                },
                                {
                                    "0": "Anand",
                                    "1": "51",
                                    "2": "12.243188010899182"
                                },
                                {
                                    "0": "Anand",
                                    "1": "52",
                                    "2": "12.158203799654578"
                                },
                                {
                                    "0": "Anand",
                                    "1": "53",
                                    "2": "12.304878048780488"
                                },
                                {
                                    "0": "Anand",
                                    "1": "54",
                                    "2": "12.308807923593916"
                                },
                                {
                                    "0": "Anand",
                                    "1": "55",
                                    "2": "12.386379928315412"
                                },
                                {
                                    "0": "Anand",
                                    "1": "56",
                                    "2": "12.376230404666424"
                                },
                                {
                                    "0": "Anand",
                                    "1": "57",
                                    "2": "12.342909760589318"
                                },
                                {
                                    "0": "Anand",
                                    "1": "58",
                                    "2": "12.291729323308271"
                                },
                                {
                                    "0": "Anand",
                                    "1": "59",
                                    "2": "12.447920640976726"
                                },
                                {
                                    "0": "Botvinnik",
                                    "1": "1",
                                    "2": "1.6643700787401574"
                                },
                                {
                                    "0": "Botvinnik",
                                    "1": "2",
                                    "2": "2.7923228346456694"
                                },
                                {
                                    "0": "Botvinnik",
                                    "1": "3",
                                    "2": "3.840551181102362"
                                },
                                {
                                    "0": "Botvinnik",
                                    "1": "4",
                                    "2": "4.646653543307087"
                                },
                                {
                                    "0": "Botvinnik",
                                    "1": "5",
                                    "2": "5.469488188976378"
                                },
                                {
                                    "0": "Botvinnik",
                                    "1": "6",
                                    "2": "5.833661417322834"
                                },
                                {
                                    "0": "Botvinnik",
                                    "1": "7",
                                    "2": "6.1702755905511815"
                                },
                                {
                                    "0": "Botvinnik",
                                    "1": "8",
                                    "2": "6.623031496062992"
                                },
                                {
                                    "0": "Botvinnik",
                                    "1": "9",
                                    "2": "6.99015748031496"
                                },
                                {
                                    "0": "Botvinnik",
                                    "1": "10",
                                    "2": "7.371062992125984"
                                },
                                {
                                    "0": "Botvinnik",
                                    "1": "11",
                                    "2": "7.6013779527559056"
                                },
                                {
                                    "0": "Botvinnik",
                                    "1": "12",
                                    "2": "7.762795275590551"
                                },
                                {
                                    "0": "Botvinnik",
                                    "1": "13",
                                    "2": "8.084645669291339"
                                },
                                {
                                    "0": "Botvinnik",
                                    "1": "14",
                                    "2": "8.257874015748031"
                                },
                                {
                                    "0": "Botvinnik",
                                    "1": "15",
                                    "2": "8.446850393700787"
                                },
                                {
                                    "0": "Botvinnik",
                                    "1": "16",
                                    "2": "8.683070866141732"
                                },
                                {
                                    "0": "Botvinnik",
                                    "1": "17",
                                    "2": "8.763779527559056"
                                },
                                {
                                    "0": "Botvinnik",
                                    "1": "18",
                                    "2": "9.027559055118111"
                                },
                                {
                                    "0": "Botvinnik",
                                    "1": "19",
                                    "2": "9.292322834645669"
                                },
                                {
                                    "0": "Botvinnik",
                                    "1": "20",
                                    "2": "9.510344827586207"
                                },
                                {
                                    "0": "Botvinnik",
                                    "1": "21",
                                    "2": "9.610453648915188"
                                },
                                {
                                    "0": "Botvinnik",
                                    "1": "22",
                                    "2": "9.833168805528134"
                                },
                                {
                                    "0": "Botvinnik",
                                    "1": "23",
                                    "2": "9.879446640316205"
                                },
                                {
                                    "0": "Botvinnik",
                                    "1": "24",
                                    "2": "10.060515873015873"
                                },
                                {
                                    "0": "Botvinnik",
                                    "1": "25",
                                    "2": "10.167992047713717"
                                },
                                {
                                    "0": "Botvinnik",
                                    "1": "26",
                                    "2": "10.259701492537314"
                                },
                                {
                                    "0": "Botvinnik",
                                    "1": "27",
                                    "2": "10.296111665004984"
                                },
                                {
                                    "0": "Botvinnik",
                                    "1": "28",
                                    "2": "10.484031936127744"
                                },
                                {
                                    "0": "Botvinnik",
                                    "1": "29",
                                    "2": "10.736"
                                },
                                {
                                    "0": "Botvinnik",
                                    "1": "30",
                                    "2": "10.792964824120602"
                                },
                                {
                                    "0": "Botvinnik",
                                    "1": "31",
                                    "2": "10.949545913218971"
                                },
                                {
                                    "0": "Botvinnik",
                                    "1": "32",
                                    "2": "11.01418439716312"
                                },
                                {
                                    "0": "Botvinnik",
                                    "1": "33",
                                    "2": "11.21218274111675"
                                },
                                {
                                    "0": "Botvinnik",
                                    "1": "34",
                                    "2": "11.286585365853659"
                                },
                                {
                                    "0": "Botvinnik",
                                    "1": "35",
                                    "2": "11.448979591836734"
                                },
                                {
                                    "0": "Botvinnik",
                                    "1": "36",
                                    "2": "11.451481103166497"
                                },
                                {
                                    "0": "Botvinnik",
                                    "1": "37",
                                    "2": "11.618852459016393"
                                },
                                {
                                    "0": "Botvinnik",
                                    "1": "38",
                                    "2": "11.655670103092783"
                                },
                                {
                                    "0": "Botvinnik",
                                    "1": "39",
                                    "2": "11.818464730290456"
                                },
                                {
                                    "0": "Botvinnik",
                                    "1": "40",
                                    "2": "11.801670146137788"
                                },
                                {
                                    "0": "Botvinnik",
                                    "1": "41",
                                    "2": "12.061844863731656"
                                },
                                {
                                    "0": "Botvinnik",
                                    "1": "42",
                                    "2": "11.919491525423728"
                                },
                                {
                                    "0": "Botvinnik",
                                    "1": "43",
                                    "2": "12.1395101171459"
                                },
                                {
                                    "0": "Botvinnik",
                                    "1": "44",
                                    "2": "12.128342245989305"
                                },
                                {
                                    "0": "Botvinnik",
                                    "1": "45",
                                    "2": "12.251619870410368"
                                },
                                {
                                    "0": "Botvinnik",
                                    "1": "46",
                                    "2": "12.28322440087146"
                                },
                                {
                                    "0": "Botvinnik",
                                    "1": "47",
                                    "2": "12.419603524229075"
                                },
                                {
                                    "0": "Botvinnik",
                                    "1": "48",
                                    "2": "12.415367483296214"
                                },
                                {
                                    "0": "Botvinnik",
                                    "1": "49",
                                    "2": "12.602477477477477"
                                },
                                {
                                    "0": "Botvinnik",
                                    "1": "50",
                                    "2": "12.435868331441544"
                                },
                                {
                                    "0": "Botvinnik",
                                    "1": "51",
                                    "2": "12.547018348623853"
                                },
                                {
                                    "0": "Botvinnik",
                                    "1": "52",
                                    "2": "12.594907407407407"
                                },
                                {
                                    "0": "Botvinnik",
                                    "1": "53",
                                    "2": "12.86448598130841"
                                },
                                {
                                    "0": "Botvinnik",
                                    "1": "54",
                                    "2": "12.687648456057007"
                                },
                                {
                                    "0": "Botvinnik",
                                    "1": "55",
                                    "2": "12.711377245508983"
                                },
                                {
                                    "0": "Botvinnik",
                                    "1": "56",
                                    "2": "12.665454545454546"
                                },
                                {
                                    "0": "Botvinnik",
                                    "1": "57",
                                    "2": "12.77490774907749"
                                },
                                {
                                    "0": "Botvinnik",
                                    "1": "58",
                                    "2": "12.855541718555417"
                                },
                                {
                                    "0": "Botvinnik",
                                    "1": "59",
                                    "2": "12.952201257861635"
                                },
                                {
                                    "0": "Capablanca",
                                    "1": "1",
                                    "2": "2.3398692810457518"
                                },
                                {
                                    "0": "Capablanca",
                                    "1": "2",
                                    "2": "3.772549019607843"
                                },
                                {
                                    "0": "Capablanca",
                                    "1": "3",
                                    "2": "4.779084967320261"
                                },
                                {
                                    "0": "Capablanca",
                                    "1": "4",
                                    "2": "5.551633986928104"
                                },
                                {
                                    "0": "Capablanca",
                                    "1": "5",
                                    "2": "6.379084967320262"
                                },
                                {
                                    "0": "Capablanca",
                                    "1": "6",
                                    "2": "6.657516339869281"
                                },
                                {
                                    "0": "Capablanca",
                                    "1": "7",
                                    "2": "6.958169934640523"
                                },
                                {
                                    "0": "Capablanca",
                                    "1": "8",
                                    "2": "7.2405228758169935"
                                },
                                {
                                    "0": "Capablanca",
                                    "1": "9",
                                    "2": "7.662745098039216"
                                },
                                {
                                    "0": "Capablanca",
                                    "1": "10",
                                    "2": "7.766013071895425"
                                },
                                {
                                    "0": "Capablanca",
                                    "1": "11",
                                    "2": "8.261437908496733"
                                },
                                {
                                    "0": "Capablanca",
                                    "1": "12",
                                    "2": "8.529411764705882"
                                },
                                {
                                    "0": "Capablanca",
                                    "1": "13",
                                    "2": "8.722875816993463"
                                },
                                {
                                    "0": "Capablanca",
                                    "1": "14",
                                    "2": "8.69673202614379"
                                },
                                {
                                    "0": "Capablanca",
                                    "1": "15",
                                    "2": "8.912418300653595"
                                },
                                {
                                    "0": "Capablanca",
                                    "1": "16",
                                    "2": "9.066666666666666"
                                },
                                {
                                    "0": "Capablanca",
                                    "1": "17",
                                    "2": "9.234293193717278"
                                },
                                {
                                    "0": "Capablanca",
                                    "1": "18",
                                    "2": "9.289267015706807"
                                },
                                {
                                    "0": "Capablanca",
                                    "1": "19",
                                    "2": "9.55890052356021"
                                },
                                {
                                    "0": "Capablanca",
                                    "1": "20",
                                    "2": "9.53211009174312"
                                },
                                {
                                    "0": "Capablanca",
                                    "1": "21",
                                    "2": "9.84514435695538"
                                },
                                {
                                    "0": "Capablanca",
                                    "1": "22",
                                    "2": "9.892105263157895"
                                },
                                {
                                    "0": "Capablanca",
                                    "1": "23",
                                    "2": "10.079051383399209"
                                },
                                {
                                    "0": "Capablanca",
                                    "1": "24",
                                    "2": "10.208168642951252"
                                },
                                {
                                    "0": "Capablanca",
                                    "1": "25",
                                    "2": "10.187088274044795"
                                },
                                {
                                    "0": "Capablanca",
                                    "1": "26",
                                    "2": "10.204485488126648"
                                },
                                {
                                    "0": "Capablanca",
                                    "1": "27",
                                    "2": "10.500660501981505"
                                },
                                {
                                    "0": "Capablanca",
                                    "1": "28",
                                    "2": "10.424603174603174"
                                },
                                {
                                    "0": "Capablanca",
                                    "1": "29",
                                    "2": "10.756613756613756"
                                },
                                {
                                    "0": "Capablanca",
                                    "1": "30",
                                    "2": "10.628989361702128"
                                },
                                {
                                    "0": "Capablanca",
                                    "1": "31",
                                    "2": "10.984021304926765"
                                },
                                {
                                    "0": "Capablanca",
                                    "1": "32",
                                    "2": "10.935828877005347"
                                },
                                {
                                    "0": "Capablanca",
                                    "1": "33",
                                    "2": "11.299328859060402"
                                },
                                {
                                    "0": "Capablanca",
                                    "1": "34",
                                    "2": "11.24764468371467"
                                },
                                {
                                    "0": "Capablanca",
                                    "1": "35",
                                    "2": "11.376010781671159"
                                },
                                {
                                    "0": "Capablanca",
                                    "1": "36",
                                    "2": "11.296195652173912"
                                },
                                {
                                    "0": "Capablanca",
                                    "1": "37",
                                    "2": "11.509562841530055"
                                },
                                {
                                    "0": "Capablanca",
                                    "1": "38",
                                    "2": "11.514363885088919"
                                },
                                {
                                    "0": "Capablanca",
                                    "1": "39",
                                    "2": "11.594482758620689"
                                },
                                {
                                    "0": "Capablanca",
                                    "1": "40",
                                    "2": "11.544692737430168"
                                },
                                {
                                    "0": "Capablanca",
                                    "1": "41",
                                    "2": "11.84691011235955"
                                },
                                {
                                    "0": "Capablanca",
                                    "1": "42",
                                    "2": "11.772277227722773"
                                },
                                {
                                    "0": "Capablanca",
                                    "1": "43",
                                    "2": "11.991416309012875"
                                },
                                {
                                    "0": "Capablanca",
                                    "1": "44",
                                    "2": "11.739193083573488"
                                },
                                {
                                    "0": "Capablanca",
                                    "1": "45",
                                    "2": "12.026200873362445"
                                },
                                {
                                    "0": "Capablanca",
                                    "1": "46",
                                    "2": "11.838709677419354"
                                },
                                {
                                    "0": "Capablanca",
                                    "1": "47",
                                    "2": "11.91740412979351"
                                },
                                {
                                    "0": "Capablanca",
                                    "1": "48",
                                    "2": "11.918276374442794"
                                },
                                {
                                    "0": "Capablanca",
                                    "1": "49",
                                    "2": "12.230075187969925"
                                },
                                {
                                    "0": "Capablanca",
                                    "1": "50",
                                    "2": "12.232876712328768"
                                },
                                {
                                    "0": "Capablanca",
                                    "1": "51",
                                    "2": "12.261205564142195"
                                },
                                {
                                    "0": "Capablanca",
                                    "1": "52",
                                    "2": "12.188383045525903"
                                },
                                {
                                    "0": "Capablanca",
                                    "1": "53",
                                    "2": "12.413078149920254"
                                },
                                {
                                    "0": "Capablanca",
                                    "1": "54",
                                    "2": "12.219869706840392"
                                },
                                {
                                    "0": "Capablanca",
                                    "1": "55",
                                    "2": "12.351395730706075"
                                },
                                {
                                    "0": "Capablanca",
                                    "1": "56",
                                    "2": "12.238805970149254"
                                },
                                {
                                    "0": "Capablanca",
                                    "1": "57",
                                    "2": "12.508445945945946"
                                },
                                {
                                    "0": "Capablanca",
                                    "1": "58",
                                    "2": "12.324607329842932"
                                },
                                {
                                    "0": "Capablanca",
                                    "1": "59",
                                    "2": "12.680357142857142"
                                },
                                {
                                    "0": "Carlsen",
                                    "1": "1",
                                    "2": "2.07113654946852"
                                },
                                {
                                    "0": "Carlsen",
                                    "1": "2",
                                    "2": "3.4705641864268193"
                                },
                                {
                                    "0": "Carlsen",
                                    "1": "3",
                                    "2": "4.3454619787408015"
                                },
                                {
                                    "0": "Carlsen",
                                    "1": "4",
                                    "2": "5.192559280457891"
                                },
                                {
                                    "0": "Carlsen",
                                    "1": "5",
                                    "2": "6.034341782502044"
                                },
                                {
                                    "0": "Carlsen",
                                    "1": "6",
                                    "2": "6.381847914963205"
                                },
                                {
                                    "0": "Carlsen",
                                    "1": "7",
                                    "2": "6.819296811120196"
                                },
                                {
                                    "0": "Carlsen",
                                    "1": "8",
                                    "2": "7.226901062959935"
                                },
                                {
                                    "0": "Carlsen",
                                    "1": "9",
                                    "2": "7.615290269828291"
                                },
                                {
                                    "0": "Carlsen",
                                    "1": "10",
                                    "2": "7.892477514309076"
                                },
                                {
                                    "0": "Carlsen",
                                    "1": "11",
                                    "2": "8.073589533932951"
                                },
                                {
                                    "0": "Carlsen",
                                    "1": "12",
                                    "2": "8.273098937040066"
                                },
                                {
                                    "0": "Carlsen",
                                    "1": "13",
                                    "2": "8.549468520032706"
                                },
                                {
                                    "0": "Carlsen",
                                    "1": "14",
                                    "2": "8.836467702371218"
                                },
                                {
                                    "0": "Carlsen",
                                    "1": "15",
                                    "2": "9.006950122649224"
                                },
                                {
                                    "0": "Carlsen",
                                    "1": "16",
                                    "2": "9.10756646216769"
                                },
                                {
                                    "0": "Carlsen",
                                    "1": "17",
                                    "2": "9.341922290388547"
                                },
                                {
                                    "0": "Carlsen",
                                    "1": "18",
                                    "2": "9.35556464811784"
                                },
                                {
                                    "0": "Carlsen",
                                    "1": "19",
                                    "2": "9.528641571194763"
                                },
                                {
                                    "0": "Carlsen",
                                    "1": "20",
                                    "2": "9.6018821603928"
                                },
                                {
                                    "0": "Carlsen",
                                    "1": "21",
                                    "2": "9.755728314238953"
                                },
                                {
                                    "0": "Carlsen",
                                    "1": "22",
                                    "2": "9.841048750512085"
                                },
                                {
                                    "0": "Carlsen",
                                    "1": "23",
                                    "2": "9.93404342482589"
                                },
                                {
                                    "0": "Carlsen",
                                    "1": "24",
                                    "2": "10.035260352603526"
                                },
                                {
                                    "0": "Carlsen",
                                    "1": "25",
                                    "2": "10.19811320754717"
                                },
                                {
                                    "0": "Carlsen",
                                    "1": "26",
                                    "2": "10.283839212469237"
                                },
                                {
                                    "0": "Carlsen",
                                    "1": "27",
                                    "2": "10.465736561345917"
                                },
                                {
                                    "0": "Carlsen",
                                    "1": "28",
                                    "2": "10.519293924466337"
                                },
                                {
                                    "0": "Carlsen",
                                    "1": "29",
                                    "2": "10.604269293924466"
                                },
                                {
                                    "0": "Carlsen",
                                    "1": "30",
                                    "2": "10.695848746403616"
                                },
                                {
                                    "0": "Carlsen",
                                    "1": "31",
                                    "2": "10.800082270670506"
                                },
                                {
                                    "0": "Carlsen",
                                    "1": "32",
                                    "2": "10.899876390605685"
                                },
                                {
                                    "0": "Carlsen",
                                    "1": "33",
                                    "2": "11.058556701030929"
                                },
                                {
                                    "0": "Carlsen",
                                    "1": "34",
                                    "2": "11.16701116163704"
                                },
                                {
                                    "0": "Carlsen",
                                    "1": "35",
                                    "2": "11.318558409279204"
                                },
                                {
                                    "0": "Carlsen",
                                    "1": "36",
                                    "2": "11.428393524283935"
                                },
                                {
                                    "0": "Carlsen",
                                    "1": "37",
                                    "2": "11.5995841995842"
                                },
                                {
                                    "0": "Carlsen",
                                    "1": "38",
                                    "2": "11.640651085141902"
                                },
                                {
                                    "0": "Carlsen",
                                    "1": "39",
                                    "2": "11.706276150627614"
                                },
                                {
                                    "0": "Carlsen",
                                    "1": "40",
                                    "2": "11.803361344537816"
                                },
                                {
                                    "0": "Carlsen",
                                    "1": "41",
                                    "2": "11.882996632996633"
                                },
                                {
                                    "0": "Carlsen",
                                    "1": "42",
                                    "2": "11.853462837837839"
                                },
                                {
                                    "0": "Carlsen",
                                    "1": "43",
                                    "2": "11.971634208298052"
                                },
                                {
                                    "0": "Carlsen",
                                    "1": "44",
                                    "2": "11.992333901192504"
                                },
                                {
                                    "0": "Carlsen",
                                    "1": "45",
                                    "2": "12.073661670235547"
                                },
                                {
                                    "0": "Carlsen",
                                    "1": "46",
                                    "2": "12.15107296137339"
                                },
                                {
                                    "0": "Carlsen",
                                    "1": "47",
                                    "2": "12.259067357512953"
                                },
                                {
                                    "0": "Carlsen",
                                    "1": "48",
                                    "2": "12.18853171155517"
                                },
                                {
                                    "0": "Carlsen",
                                    "1": "49",
                                    "2": "12.237554585152838"
                                },
                                {
                                    "0": "Carlsen",
                                    "1": "50",
                                    "2": "12.313077939233818"
                                },
                                {
                                    "0": "Carlsen",
                                    "1": "51",
                                    "2": "12.343210968597965"
                                },
                                {
                                    "0": "Carlsen",
                                    "1": "52",
                                    "2": "12.392235609103079"
                                },
                                {
                                    "0": "Carlsen",
                                    "1": "53",
                                    "2": "12.491707754370237"
                                },
                                {
                                    "0": "Carlsen",
                                    "1": "54",
                                    "2": "12.496152105024898"
                                },
                                {
                                    "0": "Carlsen",
                                    "1": "55",
                                    "2": "12.550843593251255"
                                },
                                {
                                    "0": "Carlsen",
                                    "1": "56",
                                    "2": "12.695391705069124"
                                },
                                {
                                    "0": "Carlsen",
                                    "1": "57",
                                    "2": "12.6171802054155"
                                },
                                {
                                    "0": "Carlsen",
                                    "1": "58",
                                    "2": "12.605313092979127"
                                },
                                {
                                    "0": "Carlsen",
                                    "1": "59",
                                    "2": "12.616306954436451"
                                },
                                {
                                    "0": "Caruana",
                                    "1": "1",
                                    "2": "2.2358056265984656"
                                },
                                {
                                    "0": "Caruana",
                                    "1": "2",
                                    "2": "3.70230179028133"
                                },
                                {
                                    "0": "Caruana",
                                    "1": "3",
                                    "2": "4.549360613810742"
                                },
                                {
                                    "0": "Caruana",
                                    "1": "4",
                                    "2": "5.264450127877238"
                                },
                                {
                                    "0": "Caruana",
                                    "1": "5",
                                    "2": "5.957033248081841"
                                },
                                {
                                    "0": "Caruana",
                                    "1": "6",
                                    "2": "6.387212276214834"
                                },
                                {
                                    "0": "Caruana",
                                    "1": "7",
                                    "2": "6.718014329580348"
                                },
                                {
                                    "0": "Caruana",
                                    "1": "8",
                                    "2": "7.120266120777892"
                                },
                                {
                                    "0": "Caruana",
                                    "1": "9",
                                    "2": "7.553224155578301"
                                },
                                {
                                    "0": "Caruana",
                                    "1": "10",
                                    "2": "7.914022517911976"
                                },
                                {
                                    "0": "Caruana",
                                    "1": "11",
                                    "2": "8.059365404298875"
                                },
                                {
                                    "0": "Caruana",
                                    "1": "12",
                                    "2": "8.172466734902764"
                                },
                                {
                                    "0": "Caruana",
                                    "1": "13",
                                    "2": "8.489252814738997"
                                },
                                {
                                    "0": "Caruana",
                                    "1": "14",
                                    "2": "8.773797338792221"
                                },
                                {
                                    "0": "Caruana",
                                    "1": "15",
                                    "2": "9.034800409416581"
                                },
                                {
                                    "0": "Caruana",
                                    "1": "16",
                                    "2": "9.069600818833162"
                                },
                                {
                                    "0": "Caruana",
                                    "1": "17",
                                    "2": "9.22876151484135"
                                },
                                {
                                    "0": "Caruana",
                                    "1": "18",
                                    "2": "9.307062436028659"
                                },
                                {
                                    "0": "Caruana",
                                    "1": "19",
                                    "2": "9.434493346980553"
                                },
                                {
                                    "0": "Caruana",
                                    "1": "20",
                                    "2": "9.640736949846469"
                                },
                                {
                                    "0": "Caruana",
                                    "1": "21",
                                    "2": "9.739508700102354"
                                },
                                {
                                    "0": "Caruana",
                                    "1": "22",
                                    "2": "9.850409836065573"
                                },
                                {
                                    "0": "Caruana",
                                    "1": "23",
                                    "2": "10.026167265264238"
                                },
                                {
                                    "0": "Caruana",
                                    "1": "24",
                                    "2": "10.118009235505387"
                                },
                                {
                                    "0": "Caruana",
                                    "1": "25",
                                    "2": "10.2217659137577"
                                },
                                {
                                    "0": "Caruana",
                                    "1": "26",
                                    "2": "10.335901386748844"
                                },
                                {
                                    "0": "Caruana",
                                    "1": "27",
                                    "2": "10.464028776978417"
                                },
                                {
                                    "0": "Caruana",
                                    "1": "28",
                                    "2": "10.587448559670781"
                                },
                                {
                                    "0": "Caruana",
                                    "1": "29",
                                    "2": "10.719650205761317"
                                },
                                {
                                    "0": "Caruana",
                                    "1": "30",
                                    "2": "10.812564366632337"
                                },
                                {
                                    "0": "Caruana",
                                    "1": "31",
                                    "2": "10.952626158599383"
                                },
                                {
                                    "0": "Caruana",
                                    "1": "32",
                                    "2": "11.17465224111283"
                                },
                                {
                                    "0": "Caruana",
                                    "1": "33",
                                    "2": "11.223310985043836"
                                },
                                {
                                    "0": "Caruana",
                                    "1": "34",
                                    "2": "11.297004132231406"
                                },
                                {
                                    "0": "Caruana",
                                    "1": "35",
                                    "2": "11.420671834625322"
                                },
                                {
                                    "0": "Caruana",
                                    "1": "36",
                                    "2": "11.501554404145077"
                                },
                                {
                                    "0": "Caruana",
                                    "1": "37",
                                    "2": "11.654545454545454"
                                },
                                {
                                    "0": "Caruana",
                                    "1": "38",
                                    "2": "11.72679874869656"
                                },
                                {
                                    "0": "Caruana",
                                    "1": "39",
                                    "2": "11.810867293625915"
                                },
                                {
                                    "0": "Caruana",
                                    "1": "40",
                                    "2": "11.877294179339277"
                                },
                                {
                                    "0": "Caruana",
                                    "1": "41",
                                    "2": "11.977964323189926"
                                },
                                {
                                    "0": "Caruana",
                                    "1": "42",
                                    "2": "12.08048395581273"
                                },
                                {
                                    "0": "Caruana",
                                    "1": "43",
                                    "2": "12.071692145492884"
                                },
                                {
                                    "0": "Caruana",
                                    "1": "44",
                                    "2": "12.211364843335103"
                                },
                                {
                                    "0": "Caruana",
                                    "1": "45",
                                    "2": "12.327301756253327"
                                },
                                {
                                    "0": "Caruana",
                                    "1": "46",
                                    "2": "12.340288924558587"
                                },
                                {
                                    "0": "Caruana",
                                    "1": "47",
                                    "2": "12.368364611260054"
                                },
                                {
                                    "0": "Caruana",
                                    "1": "48",
                                    "2": "12.433799784714747"
                                },
                                {
                                    "0": "Caruana",
                                    "1": "49",
                                    "2": "12.617758527341635"
                                },
                                {
                                    "0": "Caruana",
                                    "1": "50",
                                    "2": "12.615930169121658"
                                },
                                {
                                    "0": "Caruana",
                                    "1": "51",
                                    "2": "12.671045429666119"
                                },
                                {
                                    "0": "Caruana",
                                    "1": "52",
                                    "2": "12.690358126721764"
                                },
                                {
                                    "0": "Caruana",
                                    "1": "53",
                                    "2": "12.743760399334443"
                                },
                                {
                                    "0": "Caruana",
                                    "1": "54",
                                    "2": "12.736607142857142"
                                },
                                {
                                    "0": "Caruana",
                                    "1": "55",
                                    "2": "12.74020156774916"
                                },
                                {
                                    "0": "Caruana",
                                    "1": "56",
                                    "2": "12.751271905031091"
                                },
                                {
                                    "0": "Caruana",
                                    "1": "57",
                                    "2": "12.8"
                                },
                                {
                                    "0": "Caruana",
                                    "1": "58",
                                    "2": "12.826735513482502"
                                },
                                {
                                    "0": "Caruana",
                                    "1": "59",
                                    "2": "12.827646038172354"
                                },
                                {
                                    "0": "Fischer",
                                    "1": "1",
                                    "2": "2.772004241781548"
                                },
                                {
                                    "0": "Fischer",
                                    "1": "2",
                                    "2": "3.6320254506892895"
                                },
                                {
                                    "0": "Fischer",
                                    "1": "3",
                                    "2": "4.559915164369035"
                                },
                                {
                                    "0": "Fischer",
                                    "1": "4",
                                    "2": "5.030752916224815"
                                },
                                {
                                    "0": "Fischer",
                                    "1": "5",
                                    "2": "6.112407211028632"
                                },
                                {
                                    "0": "Fischer",
                                    "1": "6",
                                    "2": "5.96288441145281"
                                },
                                {
                                    "0": "Fischer",
                                    "1": "7",
                                    "2": "6.5079533404029695"
                                },
                                {
                                    "0": "Fischer",
                                    "1": "8",
                                    "2": "6.779427359490986"
                                },
                                {
                                    "0": "Fischer",
                                    "1": "9",
                                    "2": "7.2841993637327676"
                                },
                                {
                                    "0": "Fischer",
                                    "1": "10",
                                    "2": "7.4994697773064685"
                                },
                                {
                                    "0": "Fischer",
                                    "1": "11",
                                    "2": "8.131495227995758"
                                },
                                {
                                    "0": "Fischer",
                                    "1": "12",
                                    "2": "8.047720042417815"
                                },
                                {
                                    "0": "Fischer",
                                    "1": "13",
                                    "2": "8.448568398727465"
                                },
                                {
                                    "0": "Fischer",
                                    "1": "14",
                                    "2": "8.587486744432661"
                                },
                                {
                                    "0": "Fischer",
                                    "1": "15",
                                    "2": "8.76458112407211"
                                },
                                {
                                    "0": "Fischer",
                                    "1": "16",
                                    "2": "8.763269639065818"
                                },
                                {
                                    "0": "Fischer",
                                    "1": "17",
                                    "2": "9.10828025477707"
                                },
                                {
                                    "0": "Fischer",
                                    "1": "18",
                                    "2": "9.194473963868225"
                                },
                                {
                                    "0": "Fischer",
                                    "1": "19",
                                    "2": "9.433581296493092"
                                },
                                {
                                    "0": "Fischer",
                                    "1": "20",
                                    "2": "9.43496801705757"
                                },
                                {
                                    "0": "Fischer",
                                    "1": "21",
                                    "2": "9.740661686232658"
                                },
                                {
                                    "0": "Fischer",
                                    "1": "22",
                                    "2": "9.819444444444445"
                                },
                                {
                                    "0": "Fischer",
                                    "1": "23",
                                    "2": "10.126068376068377"
                                },
                                {
                                    "0": "Fischer",
                                    "1": "24",
                                    "2": "10.141327623126339"
                                },
                                {
                                    "0": "Fischer",
                                    "1": "25",
                                    "2": "10.412647374062166"
                                },
                                {
                                    "0": "Fischer",
                                    "1": "26",
                                    "2": "10.479099678456592"
                                },
                                {
                                    "0": "Fischer",
                                    "1": "27",
                                    "2": "10.692390139335476"
                                },
                                {
                                    "0": "Fischer",
                                    "1": "28",
                                    "2": "10.759914255091104"
                                },
                                {
                                    "0": "Fischer",
                                    "1": "29",
                                    "2": "11.048387096774194"
                                },
                                {
                                    "0": "Fischer",
                                    "1": "30",
                                    "2": "11.135922330097088"
                                },
                                {
                                    "0": "Fischer",
                                    "1": "31",
                                    "2": "11.341252699784016"
                                },
                                {
                                    "0": "Fischer",
                                    "1": "32",
                                    "2": "11.25243770314193"
                                },
                                {
                                    "0": "Fischer",
                                    "1": "33",
                                    "2": "11.558089033659066"
                                },
                                {
                                    "0": "Fischer",
                                    "1": "34",
                                    "2": "11.549945115257959"
                                },
                                {
                                    "0": "Fischer",
                                    "1": "35",
                                    "2": "11.742574257425742"
                                },
                                {
                                    "0": "Fischer",
                                    "1": "36",
                                    "2": "11.640883977900552"
                                },
                                {
                                    "0": "Fischer",
                                    "1": "37",
                                    "2": "12.024336283185841"
                                },
                                {
                                    "0": "Fischer",
                                    "1": "38",
                                    "2": "11.920847268673356"
                                },
                                {
                                    "0": "Fischer",
                                    "1": "39",
                                    "2": "12.074944071588368"
                                },
                                {
                                    "0": "Fischer",
                                    "1": "40",
                                    "2": "12.04617117117117"
                                },
                                {
                                    "0": "Fischer",
                                    "1": "41",
                                    "2": "12.29105322763307"
                                },
                                {
                                    "0": "Fischer",
                                    "1": "42",
                                    "2": "12.179223744292237"
                                },
                                {
                                    "0": "Fischer",
                                    "1": "43",
                                    "2": "12.149597238204834"
                                },
                                {
                                    "0": "Fischer",
                                    "1": "44",
                                    "2": "12.063879210220673"
                                },
                                {
                                    "0": "Fischer",
                                    "1": "45",
                                    "2": "12.33411214953271"
                                },
                                {
                                    "0": "Fischer",
                                    "1": "46",
                                    "2": "12.288757396449704"
                                },
                                {
                                    "0": "Fischer",
                                    "1": "47",
                                    "2": "12.448809523809524"
                                },
                                {
                                    "0": "Fischer",
                                    "1": "48",
                                    "2": "12.234299516908212"
                                },
                                {
                                    "0": "Fischer",
                                    "1": "49",
                                    "2": "12.333740831295843"
                                },
                                {
                                    "0": "Fischer",
                                    "1": "50",
                                    "2": "12.200743494423792"
                                },
                                {
                                    "0": "Fischer",
                                    "1": "51",
                                    "2": "12.348866498740554"
                                },
                                {
                                    "0": "Fischer",
                                    "1": "52",
                                    "2": "12.225888324873097"
                                },
                                {
                                    "0": "Fischer",
                                    "1": "53",
                                    "2": "12.530089628681178"
                                },
                                {
                                    "0": "Fischer",
                                    "1": "54",
                                    "2": "12.543450064850843"
                                },
                                {
                                    "0": "Fischer",
                                    "1": "55",
                                    "2": "12.675392670157068"
                                },
                                {
                                    "0": "Fischer",
                                    "1": "56",
                                    "2": "12.658244680851064"
                                },
                                {
                                    "0": "Fischer",
                                    "1": "57",
                                    "2": "12.71832884097035"
                                },
                                {
                                    "0": "Fischer",
                                    "1": "58",
                                    "2": "12.684426229508198"
                                },
                                {
                                    "0": "Fischer",
                                    "1": "59",
                                    "2": "12.828016643550624"
                                },
                                {
                                    "0": "Kasparov",
                                    "1": "1",
                                    "2": "2.2215988779803646"
                                },
                                {
                                    "0": "Kasparov",
                                    "1": "2",
                                    "2": "3.205703599812997"
                                },
                                {
                                    "0": "Kasparov",
                                    "1": "3",
                                    "2": "4.205703599812996"
                                },
                                {
                                    "0": "Kasparov",
                                    "1": "4",
                                    "2": "4.7812061711079945"
                                },
                                {
                                    "0": "Kasparov",
                                    "1": "5",
                                    "2": "5.707807386629266"
                                },
                                {
                                    "0": "Kasparov",
                                    "1": "6",
                                    "2": "5.940158952781673"
                                },
                                {
                                    "0": "Kasparov",
                                    "1": "7",
                                    "2": "6.299205236091631"
                                },
                                {
                                    "0": "Kasparov",
                                    "1": "8",
                                    "2": "6.693314633006078"
                                },
                                {
                                    "0": "Kasparov",
                                    "1": "9",
                                    "2": "7.271622253389435"
                                },
                                {
                                    "0": "Kasparov",
                                    "1": "10",
                                    "2": "7.416082281439925"
                                },
                                {
                                    "0": "Kasparov",
                                    "1": "11",
                                    "2": "7.603085553997195"
                                },
                                {
                                    "0": "Kasparov",
                                    "1": "12",
                                    "2": "7.555867227676484"
                                },
                                {
                                    "0": "Kasparov",
                                    "1": "13",
                                    "2": "8.061243571762505"
                                },
                                {
                                    "0": "Kasparov",
                                    "1": "14",
                                    "2": "8.183263207106124"
                                },
                                {
                                    "0": "Kasparov",
                                    "1": "15",
                                    "2": "8.496493688639552"
                                },
                                {
                                    "0": "Kasparov",
                                    "1": "16",
                                    "2": "8.560074801309023"
                                },
                                {
                                    "0": "Kasparov",
                                    "1": "17",
                                    "2": "8.83216456287985"
                                },
                                {
                                    "0": "Kasparov",
                                    "1": "18",
                                    "2": "8.905563347358578"
                                },
                                {
                                    "0": "Kasparov",
                                    "1": "19",
                                    "2": "9.274427302477793"
                                },
                                {
                                    "0": "Kasparov",
                                    "1": "20",
                                    "2": "9.351566152407667"
                                },
                                {
                                    "0": "Kasparov",
                                    "1": "21",
                                    "2": "9.5890603085554"
                                },
                                {
                                    "0": "Kasparov",
                                    "1": "22",
                                    "2": "9.720767072029934"
                                },
                                {
                                    "0": "Kasparov",
                                    "1": "23",
                                    "2": "9.937295273748246"
                                },
                                {
                                    "0": "Kasparov",
                                    "1": "24",
                                    "2": "10.037019681349578"
                                },
                                {
                                    "0": "Kasparov",
                                    "1": "25",
                                    "2": "10.22467166979362"
                                },
                                {
                                    "0": "Kasparov",
                                    "1": "26",
                                    "2": "10.309534992954438"
                                },
                                {
                                    "0": "Kasparov",
                                    "1": "27",
                                    "2": "10.519774011299434"
                                },
                                {
                                    "0": "Kasparov",
                                    "1": "28",
                                    "2": "10.638508730533271"
                                },
                                {
                                    "0": "Kasparov",
                                    "1": "29",
                                    "2": "10.895508274231679"
                                },
                                {
                                    "0": "Kasparov",
                                    "1": "30",
                                    "2": "11.023211747986736"
                                },
                                {
                                    "0": "Kasparov",
                                    "1": "31",
                                    "2": "11.251545411317165"
                                },
                                {
                                    "0": "Kasparov",
                                    "1": "32",
                                    "2": "11.330787589498806"
                                },
                                {
                                    "0": "Kasparov",
                                    "1": "33",
                                    "2": "11.549019607843137"
                                },
                                {
                                    "0": "Kasparov",
                                    "1": "34",
                                    "2": "11.627469879518072"
                                },
                                {
                                    "0": "Kasparov",
                                    "1": "35",
                                    "2": "11.863086598935656"
                                },
                                {
                                    "0": "Kasparov",
                                    "1": "36",
                                    "2": "11.947982498784638"
                                },
                                {
                                    "0": "Kasparov",
                                    "1": "37",
                                    "2": "12.19112627986348"
                                },
                                {
                                    "0": "Kasparov",
                                    "1": "38",
                                    "2": "12.20568070519099"
                                },
                                {
                                    "0": "Kasparov",
                                    "1": "39",
                                    "2": "12.439468503937007"
                                },
                                {
                                    "0": "Kasparov",
                                    "1": "40",
                                    "2": "12.49034175334324"
                                },
                                {
                                    "0": "Kasparov",
                                    "1": "41",
                                    "2": "12.611582626060908"
                                },
                                {
                                    "0": "Kasparov",
                                    "1": "42",
                                    "2": "12.67405541561713"
                                },
                                {
                                    "0": "Kasparov",
                                    "1": "43",
                                    "2": "12.845528455284553"
                                },
                                {
                                    "0": "Kasparov",
                                    "1": "44",
                                    "2": "12.80974358974359"
                                },
                                {
                                    "0": "Kasparov",
                                    "1": "45",
                                    "2": "12.974146845915202"
                                },
                                {
                                    "0": "Kasparov",
                                    "1": "46",
                                    "2": "13.036050156739812"
                                },
                                {
                                    "0": "Kasparov",
                                    "1": "47",
                                    "2": "13.219473684210527"
                                },
                                {
                                    "0": "Kasparov",
                                    "1": "48",
                                    "2": "13.228632478632479"
                                },
                                {
                                    "0": "Kasparov",
                                    "1": "49",
                                    "2": "13.291036717062635"
                                },
                                {
                                    "0": "Kasparov",
                                    "1": "50",
                                    "2": "13.319474835886215"
                                },
                                {
                                    "0": "Kasparov",
                                    "1": "51",
                                    "2": "13.445803224013341"
                                },
                                {
                                    "0": "Kasparov",
                                    "1": "52",
                                    "2": "13.357627118644068"
                                },
                                {
                                    "0": "Kasparov",
                                    "1": "53",
                                    "2": "13.582046883933677"
                                },
                                {
                                    "0": "Kasparov",
                                    "1": "54",
                                    "2": "13.504373177842565"
                                },
                                {
                                    "0": "Kasparov",
                                    "1": "55",
                                    "2": "13.56534594914252"
                                },
                                {
                                    "0": "Kasparov",
                                    "1": "56",
                                    "2": "13.618413082980013"
                                },
                                {
                                    "0": "Kasparov",
                                    "1": "57",
                                    "2": "13.736519607843137"
                                },
                                {
                                    "0": "Kasparov",
                                    "1": "58",
                                    "2": "13.651875"
                                },
                                {
                                    "0": "Kasparov",
                                    "1": "59",
                                    "2": "13.827936507936508"
                                },
                                {
                                    "0": "Morphy",
                                    "1": "1",
                                    "2": "3.130081300813008"
                                },
                                {
                                    "0": "Morphy",
                                    "1": "2",
                                    "2": "4.90650406504065"
                                },
                                {
                                    "0": "Morphy",
                                    "1": "3",
                                    "2": "5.951219512195122"
                                },
                                {
                                    "0": "Morphy",
                                    "1": "4",
                                    "2": "6.2682926829268295"
                                },
                                {
                                    "0": "Morphy",
                                    "1": "5",
                                    "2": "7.548780487804878"
                                },
                                {
                                    "0": "Morphy",
                                    "1": "6",
                                    "2": "7.902439024390244"
                                },
                                {
                                    "0": "Morphy",
                                    "1": "7",
                                    "2": "8.947154471544716"
                                },
                                {
                                    "0": "Morphy",
                                    "1": "8",
                                    "2": "8.886178861788618"
                                },
                                {
                                    "0": "Morphy",
                                    "1": "9",
                                    "2": "9.33739837398374"
                                },
                                {
                                    "0": "Morphy",
                                    "1": "10",
                                    "2": "9.626016260162602"
                                },
                                {
                                    "0": "Morphy",
                                    "1": "11",
                                    "2": "10.142276422764228"
                                },
                                {
                                    "0": "Morphy",
                                    "1": "12",
                                    "2": "10.166666666666666"
                                },
                                {
                                    "0": "Morphy",
                                    "1": "13",
                                    "2": "11.113821138211382"
                                },
                                {
                                    "0": "Morphy",
                                    "1": "14",
                                    "2": "11.060975609756097"
                                },
                                {
                                    "0": "Morphy",
                                    "1": "15",
                                    "2": "11.58130081300813"
                                },
                                {
                                    "0": "Morphy",
                                    "1": "16",
                                    "2": "11.703252032520325"
                                },
                                {
                                    "0": "Morphy",
                                    "1": "17",
                                    "2": "11.776422764227643"
                                },
                                {
                                    "0": "Morphy",
                                    "1": "18",
                                    "2": "11.707317073170731"
                                },
                                {
                                    "0": "Morphy",
                                    "1": "19",
                                    "2": "11.939024390243903"
                                },
                                {
                                    "0": "Morphy",
                                    "1": "20",
                                    "2": "11.608163265306123"
                                },
                                {
                                    "0": "Morphy",
                                    "1": "21",
                                    "2": "12.212244897959184"
                                },
                                {
                                    "0": "Morphy",
                                    "1": "22",
                                    "2": "12.10204081632653"
                                },
                                {
                                    "0": "Morphy",
                                    "1": "23",
                                    "2": "12.598360655737705"
                                },
                                {
                                    "0": "Morphy",
                                    "1": "24",
                                    "2": "12.557851239669422"
                                },
                                {
                                    "0": "Morphy",
                                    "1": "25",
                                    "2": "13.074688796680498"
                                },
                                {
                                    "0": "Morphy",
                                    "1": "26",
                                    "2": "12.808333333333334"
                                },
                                {
                                    "0": "Morphy",
                                    "1": "27",
                                    "2": "13.229166666666666"
                                },
                                {
                                    "0": "Morphy",
                                    "1": "28",
                                    "2": "13.075"
                                },
                                {
                                    "0": "Morphy",
                                    "1": "29",
                                    "2": "13.733333333333333"
                                },
                                {
                                    "0": "Morphy",
                                    "1": "30",
                                    "2": "13.45"
                                },
                                {
                                    "0": "Morphy",
                                    "1": "31",
                                    "2": "13.941666666666666"
                                },
                                {
                                    "0": "Morphy",
                                    "1": "32",
                                    "2": "13.754166666666666"
                                },
                                {
                                    "0": "Morphy",
                                    "1": "33",
                                    "2": "13.970833333333333"
                                },
                                {
                                    "0": "Morphy",
                                    "1": "34",
                                    "2": "13.709401709401709"
                                },
                                {
                                    "0": "Morphy",
                                    "1": "35",
                                    "2": "13.965665236051501"
                                },
                                {
                                    "0": "Morphy",
                                    "1": "36",
                                    "2": "13.717391304347826"
                                },
                                {
                                    "0": "Morphy",
                                    "1": "37",
                                    "2": "14.34061135371179"
                                },
                                {
                                    "0": "Morphy",
                                    "1": "38",
                                    "2": "13.964601769911505"
                                },
                                {
                                    "0": "Morphy",
                                    "1": "39",
                                    "2": "14.19111111111111"
                                },
                                {
                                    "0": "Morphy",
                                    "1": "40",
                                    "2": "14.081818181818182"
                                },
                                {
                                    "0": "Morphy",
                                    "1": "41",
                                    "2": "14.50925925925926"
                                },
                                {
                                    "0": "Morphy",
                                    "1": "42",
                                    "2": "13.981220657276996"
                                },
                                {
                                    "0": "Morphy",
                                    "1": "43",
                                    "2": "14.5"
                                },
                                {
                                    "0": "Morphy",
                                    "1": "44",
                                    "2": "14.195121951219512"
                                },
                                {
                                    "0": "Morphy",
                                    "1": "45",
                                    "2": "14.51231527093596"
                                },
                                {
                                    "0": "Morphy",
                                    "1": "46",
                                    "2": "14.370558375634518"
                                },
                                {
                                    "0": "Morphy",
                                    "1": "47",
                                    "2": "14.51776649746193"
                                },
                                {
                                    "0": "Morphy",
                                    "1": "48",
                                    "2": "14.352631578947369"
                                },
                                {
                                    "0": "Morphy",
                                    "1": "49",
                                    "2": "14.797814207650273"
                                },
                                {
                                    "0": "Morphy",
                                    "1": "50",
                                    "2": "14.25"
                                },
                                {
                                    "0": "Morphy",
                                    "1": "51",
                                    "2": "14.331360946745562"
                                },
                                {
                                    "0": "Morphy",
                                    "1": "52",
                                    "2": "14.298136645962733"
                                },
                                {
                                    "0": "Morphy",
                                    "1": "53",
                                    "2": "14.433121019108281"
                                },
                                {
                                    "0": "Morphy",
                                    "1": "54",
                                    "2": "13.954248366013072"
                                },
                                {
                                    "0": "Morphy",
                                    "1": "55",
                                    "2": "14.153333333333334"
                                },
                                {
                                    "0": "Morphy",
                                    "1": "56",
                                    "2": "13.82876712328767"
                                },
                                {
                                    "0": "Morphy",
                                    "1": "57",
                                    "2": "13.907801418439716"
                                },
                                {
                                    "0": "Morphy",
                                    "1": "58",
                                    "2": "13.877862595419847"
                                },
                                {
                                    "0": "Morphy",
                                    "1": "59",
                                    "2": "13.503937007874017"
                                },
                                {
                                    "0": "Nakamura",
                                    "1": "1",
                                    "2": "1.7661134697028174"
                                },
                                {
                                    "0": "Nakamura",
                                    "1": "2",
                                    "2": "3.054033191817831"
                                },
                                {
                                    "0": "Nakamura",
                                    "1": "3",
                                    "2": "3.9336163643380933"
                                },
                                {
                                    "0": "Nakamura",
                                    "1": "4",
                                    "2": "4.734465457352374"
                                },
                                {
                                    "0": "Nakamura",
                                    "1": "5",
                                    "2": "5.673871092242377"
                                },
                                {
                                    "0": "Nakamura",
                                    "1": "6",
                                    "2": "5.974141258201467"
                                },
                                {
                                    "0": "Nakamura",
                                    "1": "7",
                                    "2": "6.442084942084942"
                                },
                                {
                                    "0": "Nakamura",
                                    "1": "8",
                                    "2": "6.824710424710425"
                                },
                                {
                                    "0": "Nakamura",
                                    "1": "9",
                                    "2": "7.276447876447876"
                                },
                                {
                                    "0": "Nakamura",
                                    "1": "10",
                                    "2": "7.403474903474904"
                                },
                                {
                                    "0": "Nakamura",
                                    "1": "11",
                                    "2": "7.688416988416988"
                                },
                                {
                                    "0": "Nakamura",
                                    "1": "12",
                                    "2": "7.823029366306028"
                                },
                                {
                                    "0": "Nakamura",
                                    "1": "13",
                                    "2": "8.04984544049459"
                                },
                                {
                                    "0": "Nakamura",
                                    "1": "14",
                                    "2": "8.370699652106687"
                                },
                                {
                                    "0": "Nakamura",
                                    "1": "15",
                                    "2": "8.561654425976034"
                                },
                                {
                                    "0": "Nakamura",
                                    "1": "16",
                                    "2": "8.675299574797062"
                                },
                                {
                                    "0": "Nakamura",
                                    "1": "17",
                                    "2": "8.852725164282953"
                                },
                                {
                                    "0": "Nakamura",
                                    "1": "18",
                                    "2": "8.995357833655707"
                                },
                                {
                                    "0": "Nakamura",
                                    "1": "19",
                                    "2": "9.123839009287925"
                                },
                                {
                                    "0": "Nakamura",
                                    "1": "20",
                                    "2": "9.233836624080526"
                                },
                                {
                                    "0": "Nakamura",
                                    "1": "21",
                                    "2": "9.406201550387596"
                                },
                                {
                                    "0": "Nakamura",
                                    "1": "22",
                                    "2": "9.490302560124126"
                                },
                                {
                                    "0": "Nakamura",
                                    "1": "23",
                                    "2": "9.645186335403727"
                                },
                                {
                                    "0": "Nakamura",
                                    "1": "24",
                                    "2": "9.79556937427128"
                                },
                                {
                                    "0": "Nakamura",
                                    "1": "25",
                                    "2": "9.921431349669389"
                                },
                                {
                                    "0": "Nakamura",
                                    "1": "26",
                                    "2": "10.100077881619939"
                                },
                                {
                                    "0": "Nakamura",
                                    "1": "27",
                                    "2": "10.166666666666666"
                                },
                                {
                                    "0": "Nakamura",
                                    "1": "28",
                                    "2": "10.283033620015637"
                                },
                                {
                                    "0": "Nakamura",
                                    "1": "29",
                                    "2": "10.448140900195694"
                                },
                                {
                                    "0": "Nakamura",
                                    "1": "30",
                                    "2": "10.55716523101018"
                                },
                                {
                                    "0": "Nakamura",
                                    "1": "31",
                                    "2": "10.627105366235801"
                                },
                                {
                                    "0": "Nakamura",
                                    "1": "32",
                                    "2": "10.742644174185955"
                                },
                                {
                                    "0": "Nakamura",
                                    "1": "33",
                                    "2": "10.83222003929273"
                                },
                                {
                                    "0": "Nakamura",
                                    "1": "34",
                                    "2": "10.918407567993693"
                                },
                                {
                                    "0": "Nakamura",
                                    "1": "35",
                                    "2": "11.001577909270218"
                                },
                                {
                                    "0": "Nakamura",
                                    "1": "36",
                                    "2": "11.06637692611616"
                                },
                                {
                                    "0": "Nakamura",
                                    "1": "37",
                                    "2": "11.168320762207225"
                                },
                                {
                                    "0": "Nakamura",
                                    "1": "38",
                                    "2": "11.200636942675159"
                                },
                                {
                                    "0": "Nakamura",
                                    "1": "39",
                                    "2": "11.256778309409889"
                                },
                                {
                                    "0": "Nakamura",
                                    "1": "40",
                                    "2": "11.376649340263894"
                                },
                                {
                                    "0": "Nakamura",
                                    "1": "41",
                                    "2": "11.387975951903808"
                                },
                                {
                                    "0": "Nakamura",
                                    "1": "42",
                                    "2": "11.424486508256141"
                                },
                                {
                                    "0": "Nakamura",
                                    "1": "43",
                                    "2": "11.485240598463404"
                                },
                                {
                                    "0": "Nakamura",
                                    "1": "44",
                                    "2": "11.509334415584416"
                                },
                                {
                                    "0": "Nakamura",
                                    "1": "45",
                                    "2": "11.57137030995106"
                                },
                                {
                                    "0": "Nakamura",
                                    "1": "46",
                                    "2": "11.652191724702991"
                                },
                                {
                                    "0": "Nakamura",
                                    "1": "47",
                                    "2": "11.739201974496092"
                                },
                                {
                                    "0": "Nakamura",
                                    "1": "48",
                                    "2": "11.808774834437086"
                                },
                                {
                                    "0": "Nakamura",
                                    "1": "49",
                                    "2": "11.921894474449521"
                                },
                                {
                                    "0": "Nakamura",
                                    "1": "50",
                                    "2": "11.899749373433584"
                                },
                                {
                                    "0": "Nakamura",
                                    "1": "51",
                                    "2": "11.90420168067227"
                                },
                                {
                                    "0": "Nakamura",
                                    "1": "52",
                                    "2": "11.960643250105798"
                                },
                                {
                                    "0": "Nakamura",
                                    "1": "53",
                                    "2": "12.09125636672326"
                                },
                                {
                                    "0": "Nakamura",
                                    "1": "54",
                                    "2": "12.14389721627409"
                                },
                                {
                                    "0": "Nakamura",
                                    "1": "55",
                                    "2": "12.054263565891473"
                                },
                                {
                                    "0": "Nakamura",
                                    "1": "56",
                                    "2": "12.01473136915078"
                                },
                                {
                                    "0": "Nakamura",
                                    "1": "57",
                                    "2": "12.032370953630796"
                                },
                                {
                                    "0": "Nakamura",
                                    "1": "58",
                                    "2": "12.136423841059603"
                                },
                                {
                                    "0": "Nakamura",
                                    "1": "59",
                                    "2": "12.12099644128114"
                                },
                                {
                                    "0": "Polgar",
                                    "1": "1",
                                    "2": "2.54396504642272"
                                },
                                {
                                    "0": "Polgar",
                                    "1": "2",
                                    "2": "3.5505188421627527"
                                },
                                {
                                    "0": "Polgar",
                                    "1": "3",
                                    "2": "4.476242490442381"
                                },
                                {
                                    "0": "Polgar",
                                    "1": "4",
                                    "2": "5.075914800655379"
                                },
                                {
                                    "0": "Polgar",
                                    "1": "5",
                                    "2": "6.089568541780448"
                                },
                                {
                                    "0": "Polgar",
                                    "1": "6",
                                    "2": "6.075914800655379"
                                },
                                {
                                    "0": "Polgar",
                                    "1": "7",
                                    "2": "6.429819770617149"
                                },
                                {
                                    "0": "Polgar",
                                    "1": "8",
                                    "2": "6.946477334789733"
                                },
                                {
                                    "0": "Polgar",
                                    "1": "9",
                                    "2": "7.47405789186237"
                                },
                                {
                                    "0": "Polgar",
                                    "1": "10",
                                    "2": "7.8474576271186445"
                                },
                                {
                                    "0": "Polgar",
                                    "1": "11",
                                    "2": "8.067286652078774"
                                },
                                {
                                    "0": "Polgar",
                                    "1": "12",
                                    "2": "8.171225382932166"
                                },
                                {
                                    "0": "Polgar",
                                    "1": "13",
                                    "2": "8.543216630196936"
                                },
                                {
                                    "0": "Polgar",
                                    "1": "14",
                                    "2": "8.75875273522976"
                                },
                                {
                                    "0": "Polgar",
                                    "1": "15",
                                    "2": "9.028993435448578"
                                },
                                {
                                    "0": "Polgar",
                                    "1": "16",
                                    "2": "9.002735229759299"
                                },
                                {
                                    "0": "Polgar",
                                    "1": "17",
                                    "2": "9.198577680525164"
                                },
                                {
                                    "0": "Polgar",
                                    "1": "18",
                                    "2": "9.23413566739606"
                                },
                                {
                                    "0": "Polgar",
                                    "1": "19",
                                    "2": "9.50328227571116"
                                },
                                {
                                    "0": "Polgar",
                                    "1": "20",
                                    "2": "9.580733442802408"
                                },
                                {
                                    "0": "Polgar",
                                    "1": "21",
                                    "2": "9.810958904109588"
                                },
                                {
                                    "0": "Polgar",
                                    "1": "22",
                                    "2": "9.921600877192983"
                                },
                                {
                                    "0": "Polgar",
                                    "1": "23",
                                    "2": "10.04939626783754"
                                },
                                {
                                    "0": "Polgar",
                                    "1": "24",
                                    "2": "10.173626373626373"
                                },
                                {
                                    "0": "Polgar",
                                    "1": "25",
                                    "2": "10.25453545904343"
                                },
                                {
                                    "0": "Polgar",
                                    "1": "26",
                                    "2": "10.444628099173555"
                                },
                                {
                                    "0": "Polgar",
                                    "1": "27",
                                    "2": "10.660970231532525"
                                },
                                {
                                    "0": "Polgar",
                                    "1": "28",
                                    "2": "10.841059602649006"
                                },
                                {
                                    "0": "Polgar",
                                    "1": "29",
                                    "2": "10.986195472114854"
                                },
                                {
                                    "0": "Polgar",
                                    "1": "30",
                                    "2": "11.017174515235457"
                                },
                                {
                                    "0": "Polgar",
                                    "1": "31",
                                    "2": "11.236827509706046"
                                },
                                {
                                    "0": "Polgar",
                                    "1": "32",
                                    "2": "11.372909698996656"
                                },
                                {
                                    "0": "Polgar",
                                    "1": "33",
                                    "2": "11.481295365717477"
                                },
                                {
                                    "0": "Polgar",
                                    "1": "34",
                                    "2": "11.557422969187675"
                                },
                                {
                                    "0": "Polgar",
                                    "1": "35",
                                    "2": "11.677727784026997"
                                },
                                {
                                    "0": "Polgar",
                                    "1": "36",
                                    "2": "11.774011299435028"
                                },
                                {
                                    "0": "Polgar",
                                    "1": "37",
                                    "2": "11.828701077708452"
                                },
                                {
                                    "0": "Polgar",
                                    "1": "38",
                                    "2": "11.917378917378917"
                                },
                                {
                                    "0": "Polgar",
                                    "1": "39",
                                    "2": "11.96573386636208"
                                },
                                {
                                    "0": "Polgar",
                                    "1": "40",
                                    "2": "12.018954623779438"
                                },
                                {
                                    "0": "Polgar",
                                    "1": "41",
                                    "2": "12.079930994824611"
                                },
                                {
                                    "0": "Polgar",
                                    "1": "42",
                                    "2": "12.191907514450866"
                                },
                                {
                                    "0": "Polgar",
                                    "1": "43",
                                    "2": "12.259710144927537"
                                },
                                {
                                    "0": "Polgar",
                                    "1": "44",
                                    "2": "12.33954571927781"
                                },
                                {
                                    "0": "Polgar",
                                    "1": "45",
                                    "2": "12.358479532163743"
                                },
                                {
                                    "0": "Polgar",
                                    "1": "46",
                                    "2": "12.462712859659424"
                                },
                                {
                                    "0": "Polgar",
                                    "1": "47",
                                    "2": "12.581065088757397"
                                },
                                {
                                    "0": "Polgar",
                                    "1": "48",
                                    "2": "12.717105263157896"
                                },
                                {
                                    "0": "Polgar",
                                    "1": "49",
                                    "2": "12.667867867867868"
                                },
                                {
                                    "0": "Polgar",
                                    "1": "50",
                                    "2": "12.571168988491824"
                                },
                                {
                                    "0": "Polgar",
                                    "1": "51",
                                    "2": "12.567419158023185"
                                },
                                {
                                    "0": "Polgar",
                                    "1": "52",
                                    "2": "12.60679012345679"
                                },
                                {
                                    "0": "Polgar",
                                    "1": "53",
                                    "2": "12.58659217877095"
                                },
                                {
                                    "0": "Polgar",
                                    "1": "54",
                                    "2": "12.611912225705328"
                                },
                                {
                                    "0": "Polgar",
                                    "1": "55",
                                    "2": "12.670468948035488"
                                },
                                {
                                    "0": "Polgar",
                                    "1": "56",
                                    "2": "12.840923669018602"
                                },
                                {
                                    "0": "Polgar",
                                    "1": "57",
                                    "2": "12.907503234152651"
                                },
                                {
                                    "0": "Polgar",
                                    "1": "58",
                                    "2": "12.921761998685076"
                                },
                                {
                                    "0": "Polgar",
                                    "1": "59",
                                    "2": "13.07906976744186"
                                },
                                {
                                    "0": "Tal",
                                    "1": "1",
                                    "2": "2.1126497005988023"
                                },
                                {
                                    "0": "Tal",
                                    "1": "2",
                                    "2": "3.2039670658682633"
                                },
                                {
                                    "0": "Tal",
                                    "1": "3",
                                    "2": "4.160553892215569"
                                },
                                {
                                    "0": "Tal",
                                    "1": "4",
                                    "2": "4.950224550898204"
                                },
                                {
                                    "0": "Tal",
                                    "1": "5",
                                    "2": "5.81062874251497"
                                },
                                {
                                    "0": "Tal",
                                    "1": "6",
                                    "2": "5.945733532934132"
                                },
                                {
                                    "0": "Tal",
                                    "1": "7",
                                    "2": "6.345808383233533"
                                },
                                {
                                    "0": "Tal",
                                    "1": "8",
                                    "2": "6.7571107784431135"
                                },
                                {
                                    "0": "Tal",
                                    "1": "9",
                                    "2": "7.114146706586826"
                                },
                                {
                                    "0": "Tal",
                                    "1": "10",
                                    "2": "7.476047904191617"
                                },
                                {
                                    "0": "Tal",
                                    "1": "11",
                                    "2": "7.81062874251497"
                                },
                                {
                                    "0": "Tal",
                                    "1": "12",
                                    "2": "7.927769461077844"
                                },
                                {
                                    "0": "Tal",
                                    "1": "13",
                                    "2": "8.366392215568862"
                                },
                                {
                                    "0": "Tal",
                                    "1": "14",
                                    "2": "8.57559880239521"
                                },
                                {
                                    "0": "Tal",
                                    "1": "15",
                                    "2": "8.833021340321977"
                                },
                                {
                                    "0": "Tal",
                                    "1": "16",
                                    "2": "8.962921348314607"
                                },
                                {
                                    "0": "Tal",
                                    "1": "17",
                                    "2": "9.10828025477707"
                                },
                                {
                                    "0": "Tal",
                                    "1": "18",
                                    "2": "9.262387387387387"
                                },
                                {
                                    "0": "Tal",
                                    "1": "19",
                                    "2": "9.487612612612613"
                                },
                                {
                                    "0": "Tal",
                                    "1": "20",
                                    "2": "9.583301993230538"
                                },
                                {
                                    "0": "Tal",
                                    "1": "21",
                                    "2": "9.763643206624012"
                                },
                                {
                                    "0": "Tal",
                                    "1": "22",
                                    "2": "10"
                                },
                                {
                                    "0": "Tal",
                                    "1": "23",
                                    "2": "10.034782608695652"
                                },
                                {
                                    "0": "Tal",
                                    "1": "24",
                                    "2": "10.169639468690702"
                                },
                                {
                                    "0": "Tal",
                                    "1": "25",
                                    "2": "10.356405353728489"
                                },
                                {
                                    "0": "Tal",
                                    "1": "26",
                                    "2": "10.565317919075145"
                                },
                                {
                                    "0": "Tal",
                                    "1": "27",
                                    "2": "10.715224111282843"
                                },
                                {
                                    "0": "Tal",
                                    "1": "28",
                                    "2": "10.862324492979718"
                                },
                                {
                                    "0": "Tal",
                                    "1": "29",
                                    "2": "11.07601880877743"
                                },
                                {
                                    "0": "Tal",
                                    "1": "30",
                                    "2": "11.152380952380952"
                                },
                                {
                                    "0": "Tal",
                                    "1": "31",
                                    "2": "11.343737494997999"
                                },
                                {
                                    "0": "Tal",
                                    "1": "32",
                                    "2": "11.443227899432278"
                                },
                                {
                                    "0": "Tal",
                                    "1": "33",
                                    "2": "11.592003263973888"
                                },
                                {
                                    "0": "Tal",
                                    "1": "34",
                                    "2": "11.678246484698098"
                                },
                                {
                                    "0": "Tal",
                                    "1": "35",
                                    "2": "11.92195325542571"
                                },
                                {
                                    "0": "Tal",
                                    "1": "36",
                                    "2": "11.906026127265065"
                                },
                                {
                                    "0": "Tal",
                                    "1": "37",
                                    "2": "12.09199318568995"
                                },
                                {
                                    "0": "Tal",
                                    "1": "38",
                                    "2": "12.200258397932817"
                                },
                                {
                                    "0": "Tal",
                                    "1": "39",
                                    "2": "12.320664045434688"
                                },
                                {
                                    "0": "Tal",
                                    "1": "40",
                                    "2": "12.392477876106195"
                                },
                                {
                                    "0": "Tal",
                                    "1": "41",
                                    "2": "12.579723090665476"
                                },
                                {
                                    "0": "Tal",
                                    "1": "42",
                                    "2": "12.640979147778785"
                                },
                                {
                                    "0": "Tal",
                                    "1": "43",
                                    "2": "12.832261029411764"
                                },
                                {
                                    "0": "Tal",
                                    "1": "44",
                                    "2": "12.857808857808857"
                                },
                                {
                                    "0": "Tal",
                                    "1": "45",
                                    "2": "13.023540489642185"
                                },
                                {
                                    "0": "Tal",
                                    "1": "46",
                                    "2": "12.991877687529861"
                                },
                                {
                                    "0": "Tal",
                                    "1": "47",
                                    "2": "13.042089985486212"
                                },
                                {
                                    "0": "Tal",
                                    "1": "48",
                                    "2": "13.074839980305269"
                                },
                                {
                                    "0": "Tal",
                                    "1": "49",
                                    "2": "13.25870646766169"
                                },
                                {
                                    "0": "Tal",
                                    "1": "50",
                                    "2": "13.187468418393127"
                                },
                                {
                                    "0": "Tal",
                                    "1": "51",
                                    "2": "13.268067657611482"
                                },
                                {
                                    "0": "Tal",
                                    "1": "52",
                                    "2": "13.194603009859886"
                                },
                                {
                                    "0": "Tal",
                                    "1": "53",
                                    "2": "13.320378151260504"
                                },
                                {
                                    "0": "Tal",
                                    "1": "54",
                                    "2": "13.096133190118152"
                                },
                                {
                                    "0": "Tal",
                                    "1": "55",
                                    "2": "13.142309797482211"
                                },
                                {
                                    "0": "Tal",
                                    "1": "56",
                                    "2": "13.112912241475685"
                                },
                                {
                                    "0": "Tal",
                                    "1": "57",
                                    "2": "13.266893810335038"
                                },
                                {
                                    "0": "Tal",
                                    "1": "58",
                                    "2": "13.168899242865463"
                                },
                                {
                                    "0": "Tal",
                                    "1": "59",
                                    "2": "13.233904311872417"
                                }
                            ]
                        },
                        "text/html": [
                            "<table>",
                            "<tr><th>player</th><th>move_num</th><th>square_count</th></tr>",
                            "<tr><td>Alekhine</td><td>1</td><td>2.388540031397174</td></tr>",
                            "<tr><td>Alekhine</td><td>2</td><td>3.8540031397174253</td></tr>",
                            "<tr><td>Alekhine</td><td>3</td><td>4.97331240188383</td></tr>",
                            "<tr><td>Alekhine</td><td>4</td><td>5.63265306122449</td></tr>",
                            "<tr><td>Alekhine</td><td>5</td><td>6.450549450549451</td></tr>",
                            "<tr><td>Alekhine</td><td>6</td><td>6.827315541601256</td></tr>",
                            "<tr><td>Alekhine</td><td>7</td><td>7.2919937205651495</td></tr>",
                            "<tr><td>Alekhine</td><td>8</td><td>7.6051805337519625</td></tr>",
                            "<tr><td>Alekhine</td><td>9</td><td>7.978806907378336</td></tr>",
                            "<tr><td>Alekhine</td><td>10</td><td>8.167974882260596</td></tr>",
                            "<tr><td>Alekhine</td><td>11</td><td>8.599686028257457</td></tr>",
                            "<tr><td>Alekhine</td><td>12</td><td>8.846938775510203</td></tr>",
                            "<tr><td>Alekhine</td><td>13</td><td>9.112244897959183</td></tr>",
                            "<tr><td>Alekhine</td><td>14</td><td>9.179748822605966</td></tr>",
                            "<tr><td>Alekhine</td><td>15</td><td>9.58712715855573</td></tr>",
                            "<tr><td>Alekhine</td><td>16</td><td>9.596546310832025</td></tr>",
                            "<tr><td>Alekhine</td><td>17</td><td>9.84850863422292</td></tr>",
                            "<tr><td>Alekhine</td><td>18</td><td>9.902668759811617</td></tr>",
                            "<tr><td>Alekhine</td><td>19</td><td>10.276512175962294</td></tr>",
                            "<tr><td>Alekhine</td><td>20</td><td>10.225451688923801</td></tr>",
                            "<tr><td>Alekhine</td><td>21</td><td>10.476415094339623</td></tr>",
                            "<tr><td>Alekhine</td><td>22</td><td>10.52714398111723</td></tr>",
                            "<tr><td>Alekhine</td><td>23</td><td>10.688976377952756</td></tr>",
                            "<tr><td>Alekhine</td><td>24</td><td>10.736593059936908</td></tr>",
                            "<tr><td>Alekhine</td><td>25</td><td>10.915481832543444</td></tr>",
                            "<tr><td>Alekhine</td><td>26</td><td>10.966034755134281</td></tr>",
                            "<tr><td>Alekhine</td><td>27</td><td>11.260663507109005</td></tr>",
                            "<tr><td>Alekhine</td><td>28</td><td>11.25494853523357</td></tr>",
                            "<tr><td>Alekhine</td><td>29</td><td>11.665079365079364</td></tr>",
                            "<tr><td>Alekhine</td><td>30</td><td>11.652866242038217</td></tr>",
                            "<tr><td>Alekhine</td><td>31</td><td>11.9129392971246</td></tr>",
                            "<tr><td>Alekhine</td><td>32</td><td>11.949559647718175</td></tr>",
                            "<tr><td>Alekhine</td><td>33</td><td>12.113162118780096</td></tr>",
                            "<tr><td>Alekhine</td><td>34</td><td>12.077294685990339</td></tr>",
                            "<tr><td>Alekhine</td><td>35</td><td>12.43042071197411</td></tr>",
                            "<tr><td>Alekhine</td><td>36</td><td>12.354759967453214</td></tr>",
                            "<tr><td>Alekhine</td><td>37</td><td>12.578303425774878</td></tr>",
                            "<tr><td>Alekhine</td><td>38</td><td>12.528301886792454</td></tr>",
                            "<tr><td>Alekhine</td><td>39</td><td>12.791254125412541</td></tr>",
                            "<tr><td>Alekhine</td><td>40</td><td>12.742285237698082</td></tr>",
                            "<tr><td>Alekhine</td><td>41</td><td>13.005897219882055</td></tr>",
                            "<tr><td>Alekhine</td><td>42</td><td>12.968697123519458</td></tr>",
                            "<tr><td>Alekhine</td><td>43</td><td>13.095238095238095</td></tr>",
                            "<tr><td>Alekhine</td><td>44</td><td>13.102564102564102</td></tr>",
                            "<tr><td>Alekhine</td><td>45</td><td>13.263112639724849</td></tr>",
                            "<tr><td>Alekhine</td><td>46</td><td>13.131348511383537</td></tr>",
                            "<tr><td>Alekhine</td><td>47</td><td>13.253533568904594</td></tr>",
                            "<tr><td>Alekhine</td><td>48</td><td>13.180679785330948</td></tr>",
                            "<tr><td>Alekhine</td><td>49</td><td>13.28054298642534</td></tr>",
                            "<tr><td>Alekhine</td><td>50</td><td>13.1691042047532</td></tr>",
                            "<tr><td>Alekhine</td><td>51</td><td>13.189063948100094</td></tr>",
                            "<tr><td>Alekhine</td><td>52</td><td>13.087735849056603</td></tr>",
                            "<tr><td>Alekhine</td><td>53</td><td>13.250236966824644</td></tr>",
                            "<tr><td>Alekhine</td><td>54</td><td>13.1944177093359</td></tr>",
                            "<tr><td>Alekhine</td><td>55</td><td>13.331372549019608</td></tr>",
                            "<tr><td>Alekhine</td><td>56</td><td>13.317048853439681</td></tr>",
                            "<tr><td>Alekhine</td><td>57</td><td>13.279755849440487</td></tr>",
                            "<tr><td>Alekhine</td><td>58</td><td>13.098969072164948</td></tr>",
                            "<tr><td>Alekhine</td><td>59</td><td>13.332985386221294</td></tr>",
                            "<tr><td>Anand</td><td>1</td><td>2.3830392714854867</td></tr>",
                            "<tr><td>Anand</td><td>2</td><td>3.8269778030734205</td></tr>",
                            "<tr><td>Anand</td><td>3</td><td>4.663346613545817</td></tr>",
                            "<tr><td>Anand</td><td>4</td><td>5.4704040978941375</td></tr>",
                            "<tr><td>Anand</td><td>5</td><td>6.403813318155947</td></tr>",
                            "<tr><td>Anand</td><td>6</td><td>6.600455321570859</td></tr>",
                            "<tr><td>Anand</td><td>7</td><td>6.986340352874217</td></tr>",
                            "<tr><td>Anand</td><td>8</td><td>7.405805350028458</td></tr>",
                            "<tr><td>Anand</td><td>9</td><td>7.899544678429141</td></tr>",
                            "<tr><td>Anand</td><td>10</td><td>8.215993170176437</td></tr>",
                            "<tr><td>Anand</td><td>11</td><td>8.307057484348322</td></tr>",
                            "<tr><td>Anand</td><td>12</td><td>8.49501850270424</td></tr>",
                            "<tr><td>Anand</td><td>13</td><td>8.735269000853972</td></tr>",
                            "<tr><td>Anand</td><td>14</td><td>9.128664958724737</td></tr>",
                            "<tr><td>Anand</td><td>15</td><td>9.210076857386849</td></tr>",
                            "<tr><td>Anand</td><td>16</td><td>9.336560364464692</td></tr>",
                            "<tr><td>Anand</td><td>17</td><td>9.491457858769932</td></tr>",
                            "<tr><td>Anand</td><td>18</td><td>9.549544419134396</td></tr>",
                            "<tr><td>Anand</td><td>19</td><td>9.753776004559704</td></tr>",
                            "<tr><td>Anand</td><td>20</td><td>9.866020524515394</td></tr>",
                            "<tr><td>Anand</td><td>21</td><td>9.994582264043341</td></tr>",
                            "<tr><td>Anand</td><td>22</td><td>10.149871538681131</td></tr>",
                            "<tr><td>Anand</td><td>23</td><td>10.115175764504144</td></tr>",
                            "<tr><td>Anand</td><td>24</td><td>10.245418098510882</td></tr>",
                            "<tr><td>Anand</td><td>25</td><td>10.287883128043541</td></tr>",
                            "<tr><td>Anand</td><td>26</td><td>10.485205400746912</td></tr>",
                            "<tr><td>Anand</td><td>27</td><td>10.570730304772859</td></tr>",
                            "<tr><td>Anand</td><td>28</td><td>10.679538904899136</td></tr>",
                            "<tr><td>Anand</td><td>29</td><td>10.776752235361984</td></tr>",
                            "<tr><td>Anand</td><td>30</td><td>10.908591264101823</td></tr>",
                            "<tr><td>Anand</td><td>31</td><td>11.003473227206946</td></tr>",
                            "<tr><td>Anand</td><td>32</td><td>11.089374090247453</td></tr>",
                            "<tr><td>Anand</td><td>33</td><td>11.155575014594278</td></tr>",
                            "<tr><td>Anand</td><td>34</td><td>11.24639811820053</td></tr>",
                            "<tr><td>Anand</td><td>35</td><td>11.267393867924529</td></tr>",
                            "<tr><td>Anand</td><td>36</td><td>11.422037422037421</td></tr>",
                            "<tr><td>Anand</td><td>37</td><td>11.541008052490307</td></tr>",
                            "<tr><td>Anand</td><td>38</td><td>11.589210367691381</td></tr>",
                            "<tr><td>Anand</td><td>39</td><td>11.652660217654171</td></tr>",
                            "<tr><td>Anand</td><td>40</td><td>11.749160817821178</td></tr>",
                            "<tr><td>Anand</td><td>41</td><td>11.821000921093031</td></tr>",
                            "<tr><td>Anand</td><td>42</td><td>11.828642128054438</td></tr>",
                            "<tr><td>Anand</td><td>43</td><td>11.883742617345353</td></tr>",
                            "<tr><td>Anand</td><td>44</td><td>11.952770780856422</td></tr>",
                            "<tr><td>Anand</td><td>45</td><td>11.998733776511555</td></tr>",
                            "<tr><td>Anand</td><td>46</td><td>12.064123116383456</td></tr>",
                            "<tr><td>Anand</td><td>47</td><td>12.088529886914378</td></tr>",
                            "<tr><td>Anand</td><td>48</td><td>12.080851063829787</td></tr>",
                            "<tr><td>Anand</td><td>49</td><td>12.142195767195767</td></tr>",
                            "<tr><td>Anand</td><td>50</td><td>12.177441077441078</td></tr>",
                            "<tr><td>Anand</td><td>51</td><td>12.243188010899182</td></tr>",
                            "<tr><td>Anand</td><td>52</td><td>12.158203799654578</td></tr>",
                            "<tr><td>Anand</td><td>53</td><td>12.304878048780488</td></tr>",
                            "<tr><td>Anand</td><td>54</td><td>12.308807923593916</td></tr>",
                            "<tr><td>Anand</td><td>55</td><td>12.386379928315412</td></tr>",
                            "<tr><td>Anand</td><td>56</td><td>12.376230404666424</td></tr>",
                            "<tr><td>Anand</td><td>57</td><td>12.342909760589318</td></tr>",
                            "<tr><td>Anand</td><td>58</td><td>12.291729323308271</td></tr>",
                            "<tr><td>Anand</td><td>59</td><td>12.447920640976726</td></tr>",
                            "<tr><td>Botvinnik</td><td>1</td><td>1.6643700787401574</td></tr>",
                            "<tr><td>Botvinnik</td><td>2</td><td>2.7923228346456694</td></tr>",
                            "<tr><td>Botvinnik</td><td>3</td><td>3.840551181102362</td></tr>",
                            "<tr><td>Botvinnik</td><td>4</td><td>4.646653543307087</td></tr>",
                            "<tr><td>Botvinnik</td><td>5</td><td>5.469488188976378</td></tr>",
                            "<tr><td>Botvinnik</td><td>6</td><td>5.833661417322834</td></tr>",
                            "<tr><td>Botvinnik</td><td>7</td><td>6.1702755905511815</td></tr>",
                            "<tr><td>Botvinnik</td><td>8</td><td>6.623031496062992</td></tr>",
                            "<tr><td>Botvinnik</td><td>9</td><td>6.99015748031496</td></tr>",
                            "<tr><td>Botvinnik</td><td>10</td><td>7.371062992125984</td></tr>",
                            "<tr><td>Botvinnik</td><td>11</td><td>7.6013779527559056</td></tr>",
                            "<tr><td>Botvinnik</td><td>12</td><td>7.762795275590551</td></tr>",
                            "<tr><td>Botvinnik</td><td>13</td><td>8.084645669291339</td></tr>",
                            "<tr><td>Botvinnik</td><td>14</td><td>8.257874015748031</td></tr>",
                            "<tr><td>Botvinnik</td><td>15</td><td>8.446850393700787</td></tr>",
                            "<tr><td>Botvinnik</td><td>16</td><td>8.683070866141732</td></tr>",
                            "<tr><td>Botvinnik</td><td>17</td><td>8.763779527559056</td></tr>",
                            "<tr><td>Botvinnik</td><td>18</td><td>9.027559055118111</td></tr>",
                            "<tr><td>Botvinnik</td><td>19</td><td>9.292322834645669</td></tr>",
                            "<tr><td>Botvinnik</td><td>20</td><td>9.510344827586207</td></tr>",
                            "<tr><td>Botvinnik</td><td>21</td><td>9.610453648915188</td></tr>",
                            "<tr><td>Botvinnik</td><td>22</td><td>9.833168805528134</td></tr>",
                            "<tr><td>Botvinnik</td><td>23</td><td>9.879446640316205</td></tr>",
                            "<tr><td>Botvinnik</td><td>24</td><td>10.060515873015873</td></tr>",
                            "<tr><td>Botvinnik</td><td>25</td><td>10.167992047713717</td></tr>",
                            "<tr><td>Botvinnik</td><td>26</td><td>10.259701492537314</td></tr>",
                            "<tr><td>Botvinnik</td><td>27</td><td>10.296111665004984</td></tr>",
                            "<tr><td>Botvinnik</td><td>28</td><td>10.484031936127744</td></tr>",
                            "<tr><td>Botvinnik</td><td>29</td><td>10.736</td></tr>",
                            "<tr><td>Botvinnik</td><td>30</td><td>10.792964824120602</td></tr>",
                            "<tr><td>Botvinnik</td><td>31</td><td>10.949545913218971</td></tr>",
                            "<tr><td>Botvinnik</td><td>32</td><td>11.01418439716312</td></tr>",
                            "<tr><td>Botvinnik</td><td>33</td><td>11.21218274111675</td></tr>",
                            "<tr><td>Botvinnik</td><td>34</td><td>11.286585365853659</td></tr>",
                            "<tr><td>Botvinnik</td><td>35</td><td>11.448979591836734</td></tr>",
                            "<tr><td>Botvinnik</td><td>36</td><td>11.451481103166497</td></tr>",
                            "<tr><td>Botvinnik</td><td>37</td><td>11.618852459016393</td></tr>",
                            "<tr><td>Botvinnik</td><td>38</td><td>11.655670103092783</td></tr>",
                            "<tr><td>Botvinnik</td><td>39</td><td>11.818464730290456</td></tr>",
                            "<tr><td>Botvinnik</td><td>40</td><td>11.801670146137788</td></tr>",
                            "<tr><td>Botvinnik</td><td>41</td><td>12.061844863731656</td></tr>",
                            "<tr><td>Botvinnik</td><td>42</td><td>11.919491525423728</td></tr>",
                            "<tr><td>Botvinnik</td><td>43</td><td>12.1395101171459</td></tr>",
                            "<tr><td>Botvinnik</td><td>44</td><td>12.128342245989305</td></tr>",
                            "<tr><td>Botvinnik</td><td>45</td><td>12.251619870410368</td></tr>",
                            "<tr><td>Botvinnik</td><td>46</td><td>12.28322440087146</td></tr>",
                            "<tr><td>Botvinnik</td><td>47</td><td>12.419603524229075</td></tr>",
                            "<tr><td>Botvinnik</td><td>48</td><td>12.415367483296214</td></tr>",
                            "<tr><td>Botvinnik</td><td>49</td><td>12.602477477477477</td></tr>",
                            "<tr><td>Botvinnik</td><td>50</td><td>12.435868331441544</td></tr>",
                            "<tr><td>Botvinnik</td><td>51</td><td>12.547018348623853</td></tr>",
                            "<tr><td>Botvinnik</td><td>52</td><td>12.594907407407407</td></tr>",
                            "<tr><td>Botvinnik</td><td>53</td><td>12.86448598130841</td></tr>",
                            "<tr><td>Botvinnik</td><td>54</td><td>12.687648456057007</td></tr>",
                            "<tr><td>Botvinnik</td><td>55</td><td>12.711377245508983</td></tr>",
                            "<tr><td>Botvinnik</td><td>56</td><td>12.665454545454546</td></tr>",
                            "<tr><td>Botvinnik</td><td>57</td><td>12.77490774907749</td></tr>",
                            "<tr><td>Botvinnik</td><td>58</td><td>12.855541718555417</td></tr>",
                            "<tr><td>Botvinnik</td><td>59</td><td>12.952201257861635</td></tr>",
                            "<tr><td>Capablanca</td><td>1</td><td>2.3398692810457518</td></tr>",
                            "<tr><td>Capablanca</td><td>2</td><td>3.772549019607843</td></tr>",
                            "<tr><td>Capablanca</td><td>3</td><td>4.779084967320261</td></tr>",
                            "<tr><td>Capablanca</td><td>4</td><td>5.551633986928104</td></tr>",
                            "<tr><td>Capablanca</td><td>5</td><td>6.379084967320262</td></tr>",
                            "<tr><td>Capablanca</td><td>6</td><td>6.657516339869281</td></tr>",
                            "<tr><td>Capablanca</td><td>7</td><td>6.958169934640523</td></tr>",
                            "<tr><td>Capablanca</td><td>8</td><td>7.2405228758169935</td></tr>",
                            "<tr><td>Capablanca</td><td>9</td><td>7.662745098039216</td></tr>",
                            "<tr><td>Capablanca</td><td>10</td><td>7.766013071895425</td></tr>",
                            "<tr><td>Capablanca</td><td>11</td><td>8.261437908496733</td></tr>",
                            "<tr><td>Capablanca</td><td>12</td><td>8.529411764705882</td></tr>",
                            "<tr><td>Capablanca</td><td>13</td><td>8.722875816993463</td></tr>",
                            "<tr><td>Capablanca</td><td>14</td><td>8.69673202614379</td></tr>",
                            "<tr><td>Capablanca</td><td>15</td><td>8.912418300653595</td></tr>",
                            "<tr><td>Capablanca</td><td>16</td><td>9.066666666666666</td></tr>",
                            "<tr><td>Capablanca</td><td>17</td><td>9.234293193717278</td></tr>",
                            "<tr><td>Capablanca</td><td>18</td><td>9.289267015706807</td></tr>",
                            "<tr><td>Capablanca</td><td>19</td><td>9.55890052356021</td></tr>",
                            "<tr><td>Capablanca</td><td>20</td><td>9.53211009174312</td></tr>",
                            "<tr><td>Capablanca</td><td>21</td><td>9.84514435695538</td></tr>",
                            "<tr><td>Capablanca</td><td>22</td><td>9.892105263157895</td></tr>",
                            "<tr><td>Capablanca</td><td>23</td><td>10.079051383399209</td></tr>",
                            "<tr><td>Capablanca</td><td>24</td><td>10.208168642951252</td></tr>",
                            "<tr><td>Capablanca</td><td>25</td><td>10.187088274044795</td></tr>",
                            "<tr><td>Capablanca</td><td>26</td><td>10.204485488126648</td></tr>",
                            "<tr><td>Capablanca</td><td>27</td><td>10.500660501981505</td></tr>",
                            "<tr><td>Capablanca</td><td>28</td><td>10.424603174603174</td></tr>",
                            "<tr><td>Capablanca</td><td>29</td><td>10.756613756613756</td></tr>",
                            "<tr><td>Capablanca</td><td>30</td><td>10.628989361702128</td></tr>",
                            "<tr><td>Capablanca</td><td>31</td><td>10.984021304926765</td></tr>",
                            "<tr><td>Capablanca</td><td>32</td><td>10.935828877005347</td></tr>",
                            "<tr><td>Capablanca</td><td>33</td><td>11.299328859060402</td></tr>",
                            "<tr><td>Capablanca</td><td>34</td><td>11.24764468371467</td></tr>",
                            "<tr><td>Capablanca</td><td>35</td><td>11.376010781671159</td></tr>",
                            "<tr><td>Capablanca</td><td>36</td><td>11.296195652173912</td></tr>",
                            "<tr><td>Capablanca</td><td>37</td><td>11.509562841530055</td></tr>",
                            "<tr><td>Capablanca</td><td>38</td><td>11.514363885088919</td></tr>",
                            "<tr><td>Capablanca</td><td>39</td><td>11.594482758620689</td></tr>",
                            "<tr><td>Capablanca</td><td>40</td><td>11.544692737430168</td></tr>",
                            "<tr><td>Capablanca</td><td>41</td><td>11.84691011235955</td></tr>",
                            "<tr><td>Capablanca</td><td>42</td><td>11.772277227722773</td></tr>",
                            "<tr><td>Capablanca</td><td>43</td><td>11.991416309012875</td></tr>",
                            "<tr><td>Capablanca</td><td>44</td><td>11.739193083573488</td></tr>",
                            "<tr><td>Capablanca</td><td>45</td><td>12.026200873362445</td></tr>",
                            "<tr><td>Capablanca</td><td>46</td><td>11.838709677419354</td></tr>",
                            "<tr><td>Capablanca</td><td>47</td><td>11.91740412979351</td></tr>",
                            "<tr><td>Capablanca</td><td>48</td><td>11.918276374442794</td></tr>",
                            "<tr><td>Capablanca</td><td>49</td><td>12.230075187969925</td></tr>",
                            "<tr><td>Capablanca</td><td>50</td><td>12.232876712328768</td></tr>",
                            "<tr><td>Capablanca</td><td>51</td><td>12.261205564142195</td></tr>",
                            "<tr><td>Capablanca</td><td>52</td><td>12.188383045525903</td></tr>",
                            "<tr><td>Capablanca</td><td>53</td><td>12.413078149920254</td></tr>",
                            "<tr><td>Capablanca</td><td>54</td><td>12.219869706840392</td></tr>",
                            "<tr><td>Capablanca</td><td>55</td><td>12.351395730706075</td></tr>",
                            "<tr><td>Capablanca</td><td>56</td><td>12.238805970149254</td></tr>",
                            "<tr><td>Capablanca</td><td>57</td><td>12.508445945945946</td></tr>",
                            "<tr><td>Capablanca</td><td>58</td><td>12.324607329842932</td></tr>",
                            "<tr><td>Capablanca</td><td>59</td><td>12.680357142857142</td></tr>",
                            "<tr><td>Carlsen</td><td>1</td><td>2.07113654946852</td></tr>",
                            "<tr><td>Carlsen</td><td>2</td><td>3.4705641864268193</td></tr>",
                            "<tr><td>Carlsen</td><td>3</td><td>4.3454619787408015</td></tr>",
                            "<tr><td>Carlsen</td><td>4</td><td>5.192559280457891</td></tr>",
                            "<tr><td>Carlsen</td><td>5</td><td>6.034341782502044</td></tr>",
                            "<tr><td>Carlsen</td><td>6</td><td>6.381847914963205</td></tr>",
                            "<tr><td>Carlsen</td><td>7</td><td>6.819296811120196</td></tr>",
                            "<tr><td>Carlsen</td><td>8</td><td>7.226901062959935</td></tr>",
                            "<tr><td>Carlsen</td><td>9</td><td>7.615290269828291</td></tr>",
                            "<tr><td>Carlsen</td><td>10</td><td>7.892477514309076</td></tr>",
                            "<tr><td>Carlsen</td><td>11</td><td>8.073589533932951</td></tr>",
                            "<tr><td>Carlsen</td><td>12</td><td>8.273098937040066</td></tr>",
                            "<tr><td>Carlsen</td><td>13</td><td>8.549468520032706</td></tr>",
                            "<tr><td>Carlsen</td><td>14</td><td>8.836467702371218</td></tr>",
                            "<tr><td>Carlsen</td><td>15</td><td>9.006950122649224</td></tr>",
                            "<tr><td>Carlsen</td><td>16</td><td>9.10756646216769</td></tr>",
                            "<tr><td>Carlsen</td><td>17</td><td>9.341922290388547</td></tr>",
                            "<tr><td>Carlsen</td><td>18</td><td>9.35556464811784</td></tr>",
                            "<tr><td>Carlsen</td><td>19</td><td>9.528641571194763</td></tr>",
                            "<tr><td>Carlsen</td><td>20</td><td>9.6018821603928</td></tr>",
                            "<tr><td>Carlsen</td><td>21</td><td>9.755728314238953</td></tr>",
                            "<tr><td>Carlsen</td><td>22</td><td>9.841048750512085</td></tr>",
                            "<tr><td>Carlsen</td><td>23</td><td>9.93404342482589</td></tr>",
                            "<tr><td>Carlsen</td><td>24</td><td>10.035260352603526</td></tr>",
                            "<tr><td>Carlsen</td><td>25</td><td>10.19811320754717</td></tr>",
                            "<tr><td>Carlsen</td><td>26</td><td>10.283839212469237</td></tr>",
                            "<tr><td>Carlsen</td><td>27</td><td>10.465736561345917</td></tr>",
                            "<tr><td>Carlsen</td><td>28</td><td>10.519293924466337</td></tr>",
                            "<tr><td>Carlsen</td><td>29</td><td>10.604269293924466</td></tr>",
                            "<tr><td>Carlsen</td><td>30</td><td>10.695848746403616</td></tr>",
                            "<tr><td>Carlsen</td><td>31</td><td>10.800082270670506</td></tr>",
                            "<tr><td>Carlsen</td><td>32</td><td>10.899876390605685</td></tr>",
                            "<tr><td>Carlsen</td><td>33</td><td>11.058556701030929</td></tr>",
                            "<tr><td>Carlsen</td><td>34</td><td>11.16701116163704</td></tr>",
                            "<tr><td>Carlsen</td><td>35</td><td>11.318558409279204</td></tr>",
                            "<tr><td>Carlsen</td><td>36</td><td>11.428393524283935</td></tr>",
                            "<tr><td>Carlsen</td><td>37</td><td>11.5995841995842</td></tr>",
                            "<tr><td>Carlsen</td><td>38</td><td>11.640651085141902</td></tr>",
                            "<tr><td>Carlsen</td><td>39</td><td>11.706276150627614</td></tr>",
                            "<tr><td>Carlsen</td><td>40</td><td>11.803361344537816</td></tr>",
                            "<tr><td>Carlsen</td><td>41</td><td>11.882996632996633</td></tr>",
                            "<tr><td>Carlsen</td><td>42</td><td>11.853462837837839</td></tr>",
                            "<tr><td>Carlsen</td><td>43</td><td>11.971634208298052</td></tr>",
                            "<tr><td>Carlsen</td><td>44</td><td>11.992333901192504</td></tr>",
                            "<tr><td>Carlsen</td><td>45</td><td>12.073661670235547</td></tr>",
                            "<tr><td>Carlsen</td><td>46</td><td>12.15107296137339</td></tr>",
                            "<tr><td>Carlsen</td><td>47</td><td>12.259067357512953</td></tr>",
                            "<tr><td>Carlsen</td><td>48</td><td>12.18853171155517</td></tr>",
                            "<tr><td>Carlsen</td><td>49</td><td>12.237554585152838</td></tr>",
                            "<tr><td>Carlsen</td><td>50</td><td>12.313077939233818</td></tr>",
                            "<tr><td>Carlsen</td><td>51</td><td>12.343210968597965</td></tr>",
                            "<tr><td>Carlsen</td><td>52</td><td>12.392235609103079</td></tr>",
                            "<tr><td>Carlsen</td><td>53</td><td>12.491707754370237</td></tr>",
                            "<tr><td>Carlsen</td><td>54</td><td>12.496152105024898</td></tr>",
                            "<tr><td>Carlsen</td><td>55</td><td>12.550843593251255</td></tr>",
                            "<tr><td>Carlsen</td><td>56</td><td>12.695391705069124</td></tr>",
                            "<tr><td>Carlsen</td><td>57</td><td>12.6171802054155</td></tr>",
                            "<tr><td>Carlsen</td><td>58</td><td>12.605313092979127</td></tr>",
                            "<tr><td>Carlsen</td><td>59</td><td>12.616306954436451</td></tr>",
                            "<tr><td>Caruana</td><td>1</td><td>2.2358056265984656</td></tr>",
                            "<tr><td>Caruana</td><td>2</td><td>3.70230179028133</td></tr>",
                            "<tr><td>Caruana</td><td>3</td><td>4.549360613810742</td></tr>",
                            "<tr><td>Caruana</td><td>4</td><td>5.264450127877238</td></tr>",
                            "<tr><td>Caruana</td><td>5</td><td>5.957033248081841</td></tr>",
                            "<tr><td>Caruana</td><td>6</td><td>6.387212276214834</td></tr>",
                            "<tr><td>Caruana</td><td>7</td><td>6.718014329580348</td></tr>",
                            "<tr><td>Caruana</td><td>8</td><td>7.120266120777892</td></tr>",
                            "<tr><td>Caruana</td><td>9</td><td>7.553224155578301</td></tr>",
                            "<tr><td>Caruana</td><td>10</td><td>7.914022517911976</td></tr>",
                            "<tr><td>Caruana</td><td>11</td><td>8.059365404298875</td></tr>",
                            "<tr><td>Caruana</td><td>12</td><td>8.172466734902764</td></tr>",
                            "<tr><td>Caruana</td><td>13</td><td>8.489252814738997</td></tr>",
                            "<tr><td>Caruana</td><td>14</td><td>8.773797338792221</td></tr>",
                            "<tr><td>Caruana</td><td>15</td><td>9.034800409416581</td></tr>",
                            "<tr><td>Caruana</td><td>16</td><td>9.069600818833162</td></tr>",
                            "<tr><td>Caruana</td><td>17</td><td>9.22876151484135</td></tr>",
                            "<tr><td>Caruana</td><td>18</td><td>9.307062436028659</td></tr>",
                            "<tr><td>Caruana</td><td>19</td><td>9.434493346980553</td></tr>",
                            "<tr><td>Caruana</td><td>20</td><td>9.640736949846469</td></tr>",
                            "<tr><td>Caruana</td><td>21</td><td>9.739508700102354</td></tr>",
                            "<tr><td>Caruana</td><td>22</td><td>9.850409836065573</td></tr>",
                            "<tr><td>Caruana</td><td>23</td><td>10.026167265264238</td></tr>",
                            "<tr><td>Caruana</td><td>24</td><td>10.118009235505387</td></tr>",
                            "<tr><td>Caruana</td><td>25</td><td>10.2217659137577</td></tr>",
                            "<tr><td>Caruana</td><td>26</td><td>10.335901386748844</td></tr>",
                            "<tr><td>Caruana</td><td>27</td><td>10.464028776978417</td></tr>",
                            "<tr><td>Caruana</td><td>28</td><td>10.587448559670781</td></tr>",
                            "<tr><td>Caruana</td><td>29</td><td>10.719650205761317</td></tr>",
                            "<tr><td>Caruana</td><td>30</td><td>10.812564366632337</td></tr>",
                            "<tr><td>Caruana</td><td>31</td><td>10.952626158599383</td></tr>",
                            "<tr><td>Caruana</td><td>32</td><td>11.17465224111283</td></tr>",
                            "<tr><td>Caruana</td><td>33</td><td>11.223310985043836</td></tr>",
                            "<tr><td>Caruana</td><td>34</td><td>11.297004132231406</td></tr>",
                            "<tr><td>Caruana</td><td>35</td><td>11.420671834625322</td></tr>",
                            "<tr><td>Caruana</td><td>36</td><td>11.501554404145077</td></tr>",
                            "<tr><td>Caruana</td><td>37</td><td>11.654545454545454</td></tr>",
                            "<tr><td>Caruana</td><td>38</td><td>11.72679874869656</td></tr>",
                            "<tr><td>Caruana</td><td>39</td><td>11.810867293625915</td></tr>",
                            "<tr><td>Caruana</td><td>40</td><td>11.877294179339277</td></tr>",
                            "<tr><td>Caruana</td><td>41</td><td>11.977964323189926</td></tr>",
                            "<tr><td>Caruana</td><td>42</td><td>12.08048395581273</td></tr>",
                            "<tr><td>Caruana</td><td>43</td><td>12.071692145492884</td></tr>",
                            "<tr><td>Caruana</td><td>44</td><td>12.211364843335103</td></tr>",
                            "<tr><td>Caruana</td><td>45</td><td>12.327301756253327</td></tr>",
                            "<tr><td>Caruana</td><td>46</td><td>12.340288924558587</td></tr>",
                            "<tr><td>Caruana</td><td>47</td><td>12.368364611260054</td></tr>",
                            "<tr><td>Caruana</td><td>48</td><td>12.433799784714747</td></tr>",
                            "<tr><td>Caruana</td><td>49</td><td>12.617758527341635</td></tr>",
                            "<tr><td>Caruana</td><td>50</td><td>12.615930169121658</td></tr>",
                            "<tr><td>Caruana</td><td>51</td><td>12.671045429666119</td></tr>",
                            "<tr><td>Caruana</td><td>52</td><td>12.690358126721764</td></tr>",
                            "<tr><td>Caruana</td><td>53</td><td>12.743760399334443</td></tr>",
                            "<tr><td>Caruana</td><td>54</td><td>12.736607142857142</td></tr>",
                            "<tr><td>Caruana</td><td>55</td><td>12.74020156774916</td></tr>",
                            "<tr><td>Caruana</td><td>56</td><td>12.751271905031091</td></tr>",
                            "<tr><td>Caruana</td><td>57</td><td>12.8</td></tr>",
                            "<tr><td>Caruana</td><td>58</td><td>12.826735513482502</td></tr>",
                            "<tr><td>Caruana</td><td>59</td><td>12.827646038172354</td></tr>",
                            "<tr><td>Fischer</td><td>1</td><td>2.772004241781548</td></tr>",
                            "<tr><td>Fischer</td><td>2</td><td>3.6320254506892895</td></tr>",
                            "<tr><td>Fischer</td><td>3</td><td>4.559915164369035</td></tr>",
                            "<tr><td>Fischer</td><td>4</td><td>5.030752916224815</td></tr>",
                            "<tr><td>Fischer</td><td>5</td><td>6.112407211028632</td></tr>",
                            "<tr><td>Fischer</td><td>6</td><td>5.96288441145281</td></tr>",
                            "<tr><td>Fischer</td><td>7</td><td>6.5079533404029695</td></tr>",
                            "<tr><td>Fischer</td><td>8</td><td>6.779427359490986</td></tr>",
                            "<tr><td>Fischer</td><td>9</td><td>7.2841993637327676</td></tr>",
                            "<tr><td>Fischer</td><td>10</td><td>7.4994697773064685</td></tr>",
                            "<tr><td>Fischer</td><td>11</td><td>8.131495227995758</td></tr>",
                            "<tr><td>Fischer</td><td>12</td><td>8.047720042417815</td></tr>",
                            "<tr><td>Fischer</td><td>13</td><td>8.448568398727465</td></tr>",
                            "<tr><td>Fischer</td><td>14</td><td>8.587486744432661</td></tr>",
                            "<tr><td>Fischer</td><td>15</td><td>8.76458112407211</td></tr>",
                            "<tr><td>Fischer</td><td>16</td><td>8.763269639065818</td></tr>",
                            "<tr><td>Fischer</td><td>17</td><td>9.10828025477707</td></tr>",
                            "<tr><td>Fischer</td><td>18</td><td>9.194473963868225</td></tr>",
                            "<tr><td>Fischer</td><td>19</td><td>9.433581296493092</td></tr>",
                            "<tr><td>Fischer</td><td>20</td><td>9.43496801705757</td></tr>",
                            "<tr><td>Fischer</td><td>21</td><td>9.740661686232658</td></tr>",
                            "<tr><td>Fischer</td><td>22</td><td>9.819444444444445</td></tr>",
                            "<tr><td>Fischer</td><td>23</td><td>10.126068376068377</td></tr>",
                            "<tr><td>Fischer</td><td>24</td><td>10.141327623126339</td></tr>",
                            "<tr><td>Fischer</td><td>25</td><td>10.412647374062166</td></tr>",
                            "<tr><td>Fischer</td><td>26</td><td>10.479099678456592</td></tr>",
                            "<tr><td>Fischer</td><td>27</td><td>10.692390139335476</td></tr>",
                            "<tr><td>Fischer</td><td>28</td><td>10.759914255091104</td></tr>",
                            "<tr><td>Fischer</td><td>29</td><td>11.048387096774194</td></tr>",
                            "<tr><td>Fischer</td><td>30</td><td>11.135922330097088</td></tr>",
                            "<tr><td>Fischer</td><td>31</td><td>11.341252699784016</td></tr>",
                            "<tr><td>Fischer</td><td>32</td><td>11.25243770314193</td></tr>",
                            "<tr><td>Fischer</td><td>33</td><td>11.558089033659066</td></tr>",
                            "<tr><td>Fischer</td><td>34</td><td>11.549945115257959</td></tr>",
                            "<tr><td>Fischer</td><td>35</td><td>11.742574257425742</td></tr>",
                            "<tr><td>Fischer</td><td>36</td><td>11.640883977900552</td></tr>",
                            "<tr><td>Fischer</td><td>37</td><td>12.024336283185841</td></tr>",
                            "<tr><td>Fischer</td><td>38</td><td>11.920847268673356</td></tr>",
                            "<tr><td>Fischer</td><td>39</td><td>12.074944071588368</td></tr>",
                            "<tr><td>Fischer</td><td>40</td><td>12.04617117117117</td></tr>",
                            "<tr><td>Fischer</td><td>41</td><td>12.29105322763307</td></tr>",
                            "<tr><td>Fischer</td><td>42</td><td>12.179223744292237</td></tr>",
                            "<tr><td>Fischer</td><td>43</td><td>12.149597238204834</td></tr>",
                            "<tr><td>Fischer</td><td>44</td><td>12.063879210220673</td></tr>",
                            "<tr><td>Fischer</td><td>45</td><td>12.33411214953271</td></tr>",
                            "<tr><td>Fischer</td><td>46</td><td>12.288757396449704</td></tr>",
                            "<tr><td>Fischer</td><td>47</td><td>12.448809523809524</td></tr>",
                            "<tr><td>Fischer</td><td>48</td><td>12.234299516908212</td></tr>",
                            "<tr><td>Fischer</td><td>49</td><td>12.333740831295843</td></tr>",
                            "<tr><td>Fischer</td><td>50</td><td>12.200743494423792</td></tr>",
                            "<tr><td>Fischer</td><td>51</td><td>12.348866498740554</td></tr>",
                            "<tr><td>Fischer</td><td>52</td><td>12.225888324873097</td></tr>",
                            "<tr><td>Fischer</td><td>53</td><td>12.530089628681178</td></tr>",
                            "<tr><td>Fischer</td><td>54</td><td>12.543450064850843</td></tr>",
                            "<tr><td>Fischer</td><td>55</td><td>12.675392670157068</td></tr>",
                            "<tr><td>Fischer</td><td>56</td><td>12.658244680851064</td></tr>",
                            "<tr><td>Fischer</td><td>57</td><td>12.71832884097035</td></tr>",
                            "<tr><td>Fischer</td><td>58</td><td>12.684426229508198</td></tr>",
                            "<tr><td>Fischer</td><td>59</td><td>12.828016643550624</td></tr>",
                            "<tr><td>Kasparov</td><td>1</td><td>2.2215988779803646</td></tr>",
                            "<tr><td>Kasparov</td><td>2</td><td>3.205703599812997</td></tr>",
                            "<tr><td>Kasparov</td><td>3</td><td>4.205703599812996</td></tr>",
                            "<tr><td>Kasparov</td><td>4</td><td>4.7812061711079945</td></tr>",
                            "<tr><td>Kasparov</td><td>5</td><td>5.707807386629266</td></tr>",
                            "<tr><td>Kasparov</td><td>6</td><td>5.940158952781673</td></tr>",
                            "<tr><td>Kasparov</td><td>7</td><td>6.299205236091631</td></tr>",
                            "<tr><td>Kasparov</td><td>8</td><td>6.693314633006078</td></tr>",
                            "<tr><td>Kasparov</td><td>9</td><td>7.271622253389435</td></tr>",
                            "<tr><td>Kasparov</td><td>10</td><td>7.416082281439925</td></tr>",
                            "<tr><td>Kasparov</td><td>11</td><td>7.603085553997195</td></tr>",
                            "<tr><td>Kasparov</td><td>12</td><td>7.555867227676484</td></tr>",
                            "<tr><td>Kasparov</td><td>13</td><td>8.061243571762505</td></tr>",
                            "<tr><td>Kasparov</td><td>14</td><td>8.183263207106124</td></tr>",
                            "<tr><td>Kasparov</td><td>15</td><td>8.496493688639552</td></tr>",
                            "<tr><td>Kasparov</td><td>16</td><td>8.560074801309023</td></tr>",
                            "<tr><td>Kasparov</td><td>17</td><td>8.83216456287985</td></tr>",
                            "<tr><td>Kasparov</td><td>18</td><td>8.905563347358578</td></tr>",
                            "<tr><td>Kasparov</td><td>19</td><td>9.274427302477793</td></tr>",
                            "<tr><td>Kasparov</td><td>20</td><td>9.351566152407667</td></tr>",
                            "<tr><td>Kasparov</td><td>21</td><td>9.5890603085554</td></tr>",
                            "<tr><td>Kasparov</td><td>22</td><td>9.720767072029934</td></tr>",
                            "<tr><td>Kasparov</td><td>23</td><td>9.937295273748246</td></tr>",
                            "<tr><td>Kasparov</td><td>24</td><td>10.037019681349578</td></tr>",
                            "<tr><td>Kasparov</td><td>25</td><td>10.22467166979362</td></tr>",
                            "<tr><td>Kasparov</td><td>26</td><td>10.309534992954438</td></tr>",
                            "<tr><td>Kasparov</td><td>27</td><td>10.519774011299434</td></tr>",
                            "<tr><td>Kasparov</td><td>28</td><td>10.638508730533271</td></tr>",
                            "<tr><td>Kasparov</td><td>29</td><td>10.895508274231679</td></tr>",
                            "<tr><td>Kasparov</td><td>30</td><td>11.023211747986736</td></tr>",
                            "<tr><td>Kasparov</td><td>31</td><td>11.251545411317165</td></tr>",
                            "<tr><td>Kasparov</td><td>32</td><td>11.330787589498806</td></tr>",
                            "<tr><td>Kasparov</td><td>33</td><td>11.549019607843137</td></tr>",
                            "<tr><td>Kasparov</td><td>34</td><td>11.627469879518072</td></tr>",
                            "<tr><td>Kasparov</td><td>35</td><td>11.863086598935656</td></tr>",
                            "<tr><td>Kasparov</td><td>36</td><td>11.947982498784638</td></tr>",
                            "<tr><td>Kasparov</td><td>37</td><td>12.19112627986348</td></tr>",
                            "<tr><td>Kasparov</td><td>38</td><td>12.20568070519099</td></tr>",
                            "<tr><td>Kasparov</td><td>39</td><td>12.439468503937007</td></tr>",
                            "<tr><td>Kasparov</td><td>40</td><td>12.49034175334324</td></tr>",
                            "<tr><td>Kasparov</td><td>41</td><td>12.611582626060908</td></tr>",
                            "<tr><td>Kasparov</td><td>42</td><td>12.67405541561713</td></tr>",
                            "<tr><td>Kasparov</td><td>43</td><td>12.845528455284553</td></tr>",
                            "<tr><td>Kasparov</td><td>44</td><td>12.80974358974359</td></tr>",
                            "<tr><td>Kasparov</td><td>45</td><td>12.974146845915202</td></tr>",
                            "<tr><td>Kasparov</td><td>46</td><td>13.036050156739812</td></tr>",
                            "<tr><td>Kasparov</td><td>47</td><td>13.219473684210527</td></tr>",
                            "<tr><td>Kasparov</td><td>48</td><td>13.228632478632479</td></tr>",
                            "<tr><td>Kasparov</td><td>49</td><td>13.291036717062635</td></tr>",
                            "<tr><td>Kasparov</td><td>50</td><td>13.319474835886215</td></tr>",
                            "<tr><td>Kasparov</td><td>51</td><td>13.445803224013341</td></tr>",
                            "<tr><td>Kasparov</td><td>52</td><td>13.357627118644068</td></tr>",
                            "<tr><td>Kasparov</td><td>53</td><td>13.582046883933677</td></tr>",
                            "<tr><td>Kasparov</td><td>54</td><td>13.504373177842565</td></tr>",
                            "<tr><td>Kasparov</td><td>55</td><td>13.56534594914252</td></tr>",
                            "<tr><td>Kasparov</td><td>56</td><td>13.618413082980013</td></tr>",
                            "<tr><td>Kasparov</td><td>57</td><td>13.736519607843137</td></tr>",
                            "<tr><td>Kasparov</td><td>58</td><td>13.651875</td></tr>",
                            "<tr><td>Kasparov</td><td>59</td><td>13.827936507936508</td></tr>",
                            "<tr><td>Morphy</td><td>1</td><td>3.130081300813008</td></tr>",
                            "<tr><td>Morphy</td><td>2</td><td>4.90650406504065</td></tr>",
                            "<tr><td>Morphy</td><td>3</td><td>5.951219512195122</td></tr>",
                            "<tr><td>Morphy</td><td>4</td><td>6.2682926829268295</td></tr>",
                            "<tr><td>Morphy</td><td>5</td><td>7.548780487804878</td></tr>",
                            "<tr><td>Morphy</td><td>6</td><td>7.902439024390244</td></tr>",
                            "<tr><td>Morphy</td><td>7</td><td>8.947154471544716</td></tr>",
                            "<tr><td>Morphy</td><td>8</td><td>8.886178861788618</td></tr>",
                            "<tr><td>Morphy</td><td>9</td><td>9.33739837398374</td></tr>",
                            "<tr><td>Morphy</td><td>10</td><td>9.626016260162602</td></tr>",
                            "<tr><td>Morphy</td><td>11</td><td>10.142276422764228</td></tr>",
                            "<tr><td>Morphy</td><td>12</td><td>10.166666666666666</td></tr>",
                            "<tr><td>Morphy</td><td>13</td><td>11.113821138211382</td></tr>",
                            "<tr><td>Morphy</td><td>14</td><td>11.060975609756097</td></tr>",
                            "<tr><td>Morphy</td><td>15</td><td>11.58130081300813</td></tr>",
                            "<tr><td>Morphy</td><td>16</td><td>11.703252032520325</td></tr>",
                            "<tr><td>Morphy</td><td>17</td><td>11.776422764227643</td></tr>",
                            "<tr><td>Morphy</td><td>18</td><td>11.707317073170731</td></tr>",
                            "<tr><td>Morphy</td><td>19</td><td>11.939024390243903</td></tr>",
                            "<tr><td>Morphy</td><td>20</td><td>11.608163265306123</td></tr>",
                            "<tr><td>Morphy</td><td>21</td><td>12.212244897959184</td></tr>",
                            "<tr><td>Morphy</td><td>22</td><td>12.10204081632653</td></tr>",
                            "<tr><td>Morphy</td><td>23</td><td>12.598360655737705</td></tr>",
                            "<tr><td>Morphy</td><td>24</td><td>12.557851239669422</td></tr>",
                            "<tr><td>Morphy</td><td>25</td><td>13.074688796680498</td></tr>",
                            "<tr><td>Morphy</td><td>26</td><td>12.808333333333334</td></tr>",
                            "<tr><td>Morphy</td><td>27</td><td>13.229166666666666</td></tr>",
                            "<tr><td>Morphy</td><td>28</td><td>13.075</td></tr>",
                            "<tr><td>Morphy</td><td>29</td><td>13.733333333333333</td></tr>",
                            "<tr><td>Morphy</td><td>30</td><td>13.45</td></tr>",
                            "<tr><td>Morphy</td><td>31</td><td>13.941666666666666</td></tr>",
                            "<tr><td>Morphy</td><td>32</td><td>13.754166666666666</td></tr>",
                            "<tr><td>Morphy</td><td>33</td><td>13.970833333333333</td></tr>",
                            "<tr><td>Morphy</td><td>34</td><td>13.709401709401709</td></tr>",
                            "<tr><td>Morphy</td><td>35</td><td>13.965665236051501</td></tr>",
                            "<tr><td>Morphy</td><td>36</td><td>13.717391304347826</td></tr>",
                            "<tr><td>Morphy</td><td>37</td><td>14.34061135371179</td></tr>",
                            "<tr><td>Morphy</td><td>38</td><td>13.964601769911505</td></tr>",
                            "<tr><td>Morphy</td><td>39</td><td>14.19111111111111</td></tr>",
                            "<tr><td>Morphy</td><td>40</td><td>14.081818181818182</td></tr>",
                            "<tr><td>Morphy</td><td>41</td><td>14.50925925925926</td></tr>",
                            "<tr><td>Morphy</td><td>42</td><td>13.981220657276996</td></tr>",
                            "<tr><td>Morphy</td><td>43</td><td>14.5</td></tr>",
                            "<tr><td>Morphy</td><td>44</td><td>14.195121951219512</td></tr>",
                            "<tr><td>Morphy</td><td>45</td><td>14.51231527093596</td></tr>",
                            "<tr><td>Morphy</td><td>46</td><td>14.370558375634518</td></tr>",
                            "<tr><td>Morphy</td><td>47</td><td>14.51776649746193</td></tr>",
                            "<tr><td>Morphy</td><td>48</td><td>14.352631578947369</td></tr>",
                            "<tr><td>Morphy</td><td>49</td><td>14.797814207650273</td></tr>",
                            "<tr><td>Morphy</td><td>50</td><td>14.25</td></tr>",
                            "<tr><td>Morphy</td><td>51</td><td>14.331360946745562</td></tr>",
                            "<tr><td>Morphy</td><td>52</td><td>14.298136645962733</td></tr>",
                            "<tr><td>Morphy</td><td>53</td><td>14.433121019108281</td></tr>",
                            "<tr><td>Morphy</td><td>54</td><td>13.954248366013072</td></tr>",
                            "<tr><td>Morphy</td><td>55</td><td>14.153333333333334</td></tr>",
                            "<tr><td>Morphy</td><td>56</td><td>13.82876712328767</td></tr>",
                            "<tr><td>Morphy</td><td>57</td><td>13.907801418439716</td></tr>",
                            "<tr><td>Morphy</td><td>58</td><td>13.877862595419847</td></tr>",
                            "<tr><td>Morphy</td><td>59</td><td>13.503937007874017</td></tr>",
                            "<tr><td>Nakamura</td><td>1</td><td>1.7661134697028174</td></tr>",
                            "<tr><td>Nakamura</td><td>2</td><td>3.054033191817831</td></tr>",
                            "<tr><td>Nakamura</td><td>3</td><td>3.9336163643380933</td></tr>",
                            "<tr><td>Nakamura</td><td>4</td><td>4.734465457352374</td></tr>",
                            "<tr><td>Nakamura</td><td>5</td><td>5.673871092242377</td></tr>",
                            "<tr><td>Nakamura</td><td>6</td><td>5.974141258201467</td></tr>",
                            "<tr><td>Nakamura</td><td>7</td><td>6.442084942084942</td></tr>",
                            "<tr><td>Nakamura</td><td>8</td><td>6.824710424710425</td></tr>",
                            "<tr><td>Nakamura</td><td>9</td><td>7.276447876447876</td></tr>",
                            "<tr><td>Nakamura</td><td>10</td><td>7.403474903474904</td></tr>",
                            "<tr><td>Nakamura</td><td>11</td><td>7.688416988416988</td></tr>",
                            "<tr><td>Nakamura</td><td>12</td><td>7.823029366306028</td></tr>",
                            "<tr><td>Nakamura</td><td>13</td><td>8.04984544049459</td></tr>",
                            "<tr><td>Nakamura</td><td>14</td><td>8.370699652106687</td></tr>",
                            "<tr><td>Nakamura</td><td>15</td><td>8.561654425976034</td></tr>",
                            "<tr><td>Nakamura</td><td>16</td><td>8.675299574797062</td></tr>",
                            "<tr><td>Nakamura</td><td>17</td><td>8.852725164282953</td></tr>",
                            "<tr><td>Nakamura</td><td>18</td><td>8.995357833655707</td></tr>",
                            "<tr><td>Nakamura</td><td>19</td><td>9.123839009287925</td></tr>",
                            "<tr><td>Nakamura</td><td>20</td><td>9.233836624080526</td></tr>",
                            "<tr><td>Nakamura</td><td>21</td><td>9.406201550387596</td></tr>",
                            "<tr><td>Nakamura</td><td>22</td><td>9.490302560124126</td></tr>",
                            "<tr><td>Nakamura</td><td>23</td><td>9.645186335403727</td></tr>",
                            "<tr><td>Nakamura</td><td>24</td><td>9.79556937427128</td></tr>",
                            "<tr><td>Nakamura</td><td>25</td><td>9.921431349669389</td></tr>",
                            "<tr><td>Nakamura</td><td>26</td><td>10.100077881619939</td></tr>",
                            "<tr><td>Nakamura</td><td>27</td><td>10.166666666666666</td></tr>",
                            "<tr><td>Nakamura</td><td>28</td><td>10.283033620015637</td></tr>",
                            "<tr><td>Nakamura</td><td>29</td><td>10.448140900195694</td></tr>",
                            "<tr><td>Nakamura</td><td>30</td><td>10.55716523101018</td></tr>",
                            "<tr><td>Nakamura</td><td>31</td><td>10.627105366235801</td></tr>",
                            "<tr><td>Nakamura</td><td>32</td><td>10.742644174185955</td></tr>",
                            "<tr><td>Nakamura</td><td>33</td><td>10.83222003929273</td></tr>",
                            "<tr><td>Nakamura</td><td>34</td><td>10.918407567993693</td></tr>",
                            "<tr><td>Nakamura</td><td>35</td><td>11.001577909270218</td></tr>",
                            "<tr><td>Nakamura</td><td>36</td><td>11.06637692611616</td></tr>",
                            "<tr><td>Nakamura</td><td>37</td><td>11.168320762207225</td></tr>",
                            "<tr><td>Nakamura</td><td>38</td><td>11.200636942675159</td></tr>",
                            "<tr><td>Nakamura</td><td>39</td><td>11.256778309409889</td></tr>",
                            "<tr><td>Nakamura</td><td>40</td><td>11.376649340263894</td></tr>",
                            "<tr><td>Nakamura</td><td>41</td><td>11.387975951903808</td></tr>",
                            "<tr><td>Nakamura</td><td>42</td><td>11.424486508256141</td></tr>",
                            "<tr><td>Nakamura</td><td>43</td><td>11.485240598463404</td></tr>",
                            "<tr><td>Nakamura</td><td>44</td><td>11.509334415584416</td></tr>",
                            "<tr><td>Nakamura</td><td>45</td><td>11.57137030995106</td></tr>",
                            "<tr><td>Nakamura</td><td>46</td><td>11.652191724702991</td></tr>",
                            "<tr><td>Nakamura</td><td>47</td><td>11.739201974496092</td></tr>",
                            "<tr><td>Nakamura</td><td>48</td><td>11.808774834437086</td></tr>",
                            "<tr><td>Nakamura</td><td>49</td><td>11.921894474449521</td></tr>",
                            "<tr><td>Nakamura</td><td>50</td><td>11.899749373433584</td></tr>",
                            "<tr><td>Nakamura</td><td>51</td><td>11.90420168067227</td></tr>",
                            "<tr><td>Nakamura</td><td>52</td><td>11.960643250105798</td></tr>",
                            "<tr><td>Nakamura</td><td>53</td><td>12.09125636672326</td></tr>",
                            "<tr><td>Nakamura</td><td>54</td><td>12.14389721627409</td></tr>",
                            "<tr><td>Nakamura</td><td>55</td><td>12.054263565891473</td></tr>",
                            "<tr><td>Nakamura</td><td>56</td><td>12.01473136915078</td></tr>",
                            "<tr><td>Nakamura</td><td>57</td><td>12.032370953630796</td></tr>",
                            "<tr><td>Nakamura</td><td>58</td><td>12.136423841059603</td></tr>",
                            "<tr><td>Nakamura</td><td>59</td><td>12.12099644128114</td></tr>",
                            "<tr><td>Polgar</td><td>1</td><td>2.54396504642272</td></tr>",
                            "<tr><td>Polgar</td><td>2</td><td>3.5505188421627527</td></tr>",
                            "<tr><td>Polgar</td><td>3</td><td>4.476242490442381</td></tr>",
                            "<tr><td>Polgar</td><td>4</td><td>5.075914800655379</td></tr>",
                            "<tr><td>Polgar</td><td>5</td><td>6.089568541780448</td></tr>",
                            "<tr><td>Polgar</td><td>6</td><td>6.075914800655379</td></tr>",
                            "<tr><td>Polgar</td><td>7</td><td>6.429819770617149</td></tr>",
                            "<tr><td>Polgar</td><td>8</td><td>6.946477334789733</td></tr>",
                            "<tr><td>Polgar</td><td>9</td><td>7.47405789186237</td></tr>",
                            "<tr><td>Polgar</td><td>10</td><td>7.8474576271186445</td></tr>",
                            "<tr><td>Polgar</td><td>11</td><td>8.067286652078774</td></tr>",
                            "<tr><td>Polgar</td><td>12</td><td>8.171225382932166</td></tr>",
                            "<tr><td>Polgar</td><td>13</td><td>8.543216630196936</td></tr>",
                            "<tr><td>Polgar</td><td>14</td><td>8.75875273522976</td></tr>",
                            "<tr><td>Polgar</td><td>15</td><td>9.028993435448578</td></tr>",
                            "<tr><td>Polgar</td><td>16</td><td>9.002735229759299</td></tr>",
                            "<tr><td>Polgar</td><td>17</td><td>9.198577680525164</td></tr>",
                            "<tr><td>Polgar</td><td>18</td><td>9.23413566739606</td></tr>",
                            "<tr><td>Polgar</td><td>19</td><td>9.50328227571116</td></tr>",
                            "<tr><td>Polgar</td><td>20</td><td>9.580733442802408</td></tr>",
                            "<tr><td>Polgar</td><td>21</td><td>9.810958904109588</td></tr>",
                            "<tr><td>Polgar</td><td>22</td><td>9.921600877192983</td></tr>",
                            "<tr><td>Polgar</td><td>23</td><td>10.04939626783754</td></tr>",
                            "<tr><td>Polgar</td><td>24</td><td>10.173626373626373</td></tr>",
                            "<tr><td>Polgar</td><td>25</td><td>10.25453545904343</td></tr>",
                            "<tr><td>Polgar</td><td>26</td><td>10.444628099173555</td></tr>",
                            "<tr><td>Polgar</td><td>27</td><td>10.660970231532525</td></tr>",
                            "<tr><td>Polgar</td><td>28</td><td>10.841059602649006</td></tr>",
                            "<tr><td>Polgar</td><td>29</td><td>10.986195472114854</td></tr>",
                            "<tr><td>Polgar</td><td>30</td><td>11.017174515235457</td></tr>",
                            "<tr><td>Polgar</td><td>31</td><td>11.236827509706046</td></tr>",
                            "<tr><td>Polgar</td><td>32</td><td>11.372909698996656</td></tr>",
                            "<tr><td>Polgar</td><td>33</td><td>11.481295365717477</td></tr>",
                            "<tr><td>Polgar</td><td>34</td><td>11.557422969187675</td></tr>",
                            "<tr><td>Polgar</td><td>35</td><td>11.677727784026997</td></tr>",
                            "<tr><td>Polgar</td><td>36</td><td>11.774011299435028</td></tr>",
                            "<tr><td>Polgar</td><td>37</td><td>11.828701077708452</td></tr>",
                            "<tr><td>Polgar</td><td>38</td><td>11.917378917378917</td></tr>",
                            "<tr><td>Polgar</td><td>39</td><td>11.96573386636208</td></tr>",
                            "<tr><td>Polgar</td><td>40</td><td>12.018954623779438</td></tr>",
                            "<tr><td>Polgar</td><td>41</td><td>12.079930994824611</td></tr>",
                            "<tr><td>Polgar</td><td>42</td><td>12.191907514450866</td></tr>",
                            "<tr><td>Polgar</td><td>43</td><td>12.259710144927537</td></tr>",
                            "<tr><td>Polgar</td><td>44</td><td>12.33954571927781</td></tr>",
                            "<tr><td>Polgar</td><td>45</td><td>12.358479532163743</td></tr>",
                            "<tr><td>Polgar</td><td>46</td><td>12.462712859659424</td></tr>",
                            "<tr><td>Polgar</td><td>47</td><td>12.581065088757397</td></tr>",
                            "<tr><td>Polgar</td><td>48</td><td>12.717105263157896</td></tr>",
                            "<tr><td>Polgar</td><td>49</td><td>12.667867867867868</td></tr>",
                            "<tr><td>Polgar</td><td>50</td><td>12.571168988491824</td></tr>",
                            "<tr><td>Polgar</td><td>51</td><td>12.567419158023185</td></tr>",
                            "<tr><td>Polgar</td><td>52</td><td>12.60679012345679</td></tr>",
                            "<tr><td>Polgar</td><td>53</td><td>12.58659217877095</td></tr>",
                            "<tr><td>Polgar</td><td>54</td><td>12.611912225705328</td></tr>",
                            "<tr><td>Polgar</td><td>55</td><td>12.670468948035488</td></tr>",
                            "<tr><td>Polgar</td><td>56</td><td>12.840923669018602</td></tr>",
                            "<tr><td>Polgar</td><td>57</td><td>12.907503234152651</td></tr>",
                            "<tr><td>Polgar</td><td>58</td><td>12.921761998685076</td></tr>",
                            "<tr><td>Polgar</td><td>59</td><td>13.07906976744186</td></tr>",
                            "<tr><td>Tal</td><td>1</td><td>2.1126497005988023</td></tr>",
                            "<tr><td>Tal</td><td>2</td><td>3.2039670658682633</td></tr>",
                            "<tr><td>Tal</td><td>3</td><td>4.160553892215569</td></tr>",
                            "<tr><td>Tal</td><td>4</td><td>4.950224550898204</td></tr>",
                            "<tr><td>Tal</td><td>5</td><td>5.81062874251497</td></tr>",
                            "<tr><td>Tal</td><td>6</td><td>5.945733532934132</td></tr>",
                            "<tr><td>Tal</td><td>7</td><td>6.345808383233533</td></tr>",
                            "<tr><td>Tal</td><td>8</td><td>6.7571107784431135</td></tr>",
                            "<tr><td>Tal</td><td>9</td><td>7.114146706586826</td></tr>",
                            "<tr><td>Tal</td><td>10</td><td>7.476047904191617</td></tr>",
                            "<tr><td>Tal</td><td>11</td><td>7.81062874251497</td></tr>",
                            "<tr><td>Tal</td><td>12</td><td>7.927769461077844</td></tr>",
                            "<tr><td>Tal</td><td>13</td><td>8.366392215568862</td></tr>",
                            "<tr><td>Tal</td><td>14</td><td>8.57559880239521</td></tr>",
                            "<tr><td>Tal</td><td>15</td><td>8.833021340321977</td></tr>",
                            "<tr><td>Tal</td><td>16</td><td>8.962921348314607</td></tr>",
                            "<tr><td>Tal</td><td>17</td><td>9.10828025477707</td></tr>",
                            "<tr><td>Tal</td><td>18</td><td>9.262387387387387</td></tr>",
                            "<tr><td>Tal</td><td>19</td><td>9.487612612612613</td></tr>",
                            "<tr><td>Tal</td><td>20</td><td>9.583301993230538</td></tr>",
                            "<tr><td>Tal</td><td>21</td><td>9.763643206624012</td></tr>",
                            "<tr><td>Tal</td><td>22</td><td>10</td></tr>",
                            "<tr><td>Tal</td><td>23</td><td>10.034782608695652</td></tr>",
                            "<tr><td>Tal</td><td>24</td><td>10.169639468690702</td></tr>",
                            "<tr><td>Tal</td><td>25</td><td>10.356405353728489</td></tr>",
                            "<tr><td>Tal</td><td>26</td><td>10.565317919075145</td></tr>",
                            "<tr><td>Tal</td><td>27</td><td>10.715224111282843</td></tr>",
                            "<tr><td>Tal</td><td>28</td><td>10.862324492979718</td></tr>",
                            "<tr><td>Tal</td><td>29</td><td>11.07601880877743</td></tr>",
                            "<tr><td>Tal</td><td>30</td><td>11.152380952380952</td></tr>",
                            "<tr><td>Tal</td><td>31</td><td>11.343737494997999</td></tr>",
                            "<tr><td>Tal</td><td>32</td><td>11.443227899432278</td></tr>",
                            "<tr><td>Tal</td><td>33</td><td>11.592003263973888</td></tr>",
                            "<tr><td>Tal</td><td>34</td><td>11.678246484698098</td></tr>",
                            "<tr><td>Tal</td><td>35</td><td>11.92195325542571</td></tr>",
                            "<tr><td>Tal</td><td>36</td><td>11.906026127265065</td></tr>",
                            "<tr><td>Tal</td><td>37</td><td>12.09199318568995</td></tr>",
                            "<tr><td>Tal</td><td>38</td><td>12.200258397932817</td></tr>",
                            "<tr><td>Tal</td><td>39</td><td>12.320664045434688</td></tr>",
                            "<tr><td>Tal</td><td>40</td><td>12.392477876106195</td></tr>",
                            "<tr><td>Tal</td><td>41</td><td>12.579723090665476</td></tr>",
                            "<tr><td>Tal</td><td>42</td><td>12.640979147778785</td></tr>",
                            "<tr><td>Tal</td><td>43</td><td>12.832261029411764</td></tr>",
                            "<tr><td>Tal</td><td>44</td><td>12.857808857808857</td></tr>",
                            "<tr><td>Tal</td><td>45</td><td>13.023540489642185</td></tr>",
                            "<tr><td>Tal</td><td>46</td><td>12.991877687529861</td></tr>",
                            "<tr><td>Tal</td><td>47</td><td>13.042089985486212</td></tr>",
                            "<tr><td>Tal</td><td>48</td><td>13.074839980305269</td></tr>",
                            "<tr><td>Tal</td><td>49</td><td>13.25870646766169</td></tr>",
                            "<tr><td>Tal</td><td>50</td><td>13.187468418393127</td></tr>",
                            "<tr><td>Tal</td><td>51</td><td>13.268067657611482</td></tr>",
                            "<tr><td>Tal</td><td>52</td><td>13.194603009859886</td></tr>",
                            "<tr><td>Tal</td><td>53</td><td>13.320378151260504</td></tr>",
                            "<tr><td>Tal</td><td>54</td><td>13.096133190118152</td></tr>",
                            "<tr><td>Tal</td><td>55</td><td>13.142309797482211</td></tr>",
                            "<tr><td>Tal</td><td>56</td><td>13.112912241475685</td></tr>",
                            "<tr><td>Tal</td><td>57</td><td>13.266893810335038</td></tr>",
                            "<tr><td>Tal</td><td>58</td><td>13.168899242865463</td></tr>",
                            "<tr><td>Tal</td><td>59</td><td>13.233904311872417</td></tr>",
                            "</table>"
                        ]
                    }
                }
            ],
            "execution_count": 4
        },
        {
            "cell_type": "markdown",
            "source": [
                "# Which player likes to sacrifice his pieces?\n",
                "\n",
                "Chess pieces are assigned different values: queen worth 10 points, rook worth 5 points each, bishop and knight worth 3.5 points each and pawn worth 1 point each. Piece sacrifice means exchanging your high value piece for low value piece from enemy to gain a better position or tempo regardless of loss of materials. For example, you use your rook to capture enemy knight and your rook get captured in the next move, this sacrifice will be assigned a 5 - 3.5 = 1.5 points."
            ],
            "metadata": {
                "azdata_cell_guid": "7fecae1f-29e3-4ce1-bd50-5a48829ed9c8"
            },
            "attachments": {}
        },
        {
            "cell_type": "code",
            "source": [
                "-- Calculate the average points of material sacrificed by each player over all games\n",
                "SELECT \n",
                "    player,\n",
                "    CAST(CAST(SUM(total_sac) AS FLOAT) / CAST(COUNT(*) AS FLOAT) AS DECIMAL(5,2)) AS avg_sac_per_game\n",
                "FROM player_piece_sac_data\n",
                "GROUP BY player\n",
                "ORDER BY 1"
            ],
            "metadata": {
                "azdata_cell_guid": "2d37be3c-4e4c-4d6f-b5ca-99f60f3a08ae",
                "language": "sql"
            },
            "outputs": [
                {
                    "output_type": "display_data",
                    "data": {
                        "text/html": "Commands completed successfully."
                    },
                    "metadata": {}
                },
                {
                    "output_type": "display_data",
                    "data": {
                        "text/html": "(12 rows affected)"
                    },
                    "metadata": {}
                },
                {
                    "output_type": "display_data",
                    "data": {
                        "text/html": "Total execution time: 00:00:00.033"
                    },
                    "metadata": {}
                },
                {
                    "output_type": "execute_result",
                    "metadata": {},
                    "execution_count": 5,
                    "data": {
                        "application/vnd.dataresource+json": {
                            "schema": {
                                "fields": [
                                    {
                                        "name": "player"
                                    },
                                    {
                                        "name": "avg_sac_per_game"
                                    }
                                ]
                            },
                            "data": [
                                {
                                    "0": "Alekhine",
                                    "1": "5.66"
                                },
                                {
                                    "0": "Anand",
                                    "1": "5.35"
                                },
                                {
                                    "0": "Botvinnik",
                                    "1": "5.41"
                                },
                                {
                                    "0": "Capablanca",
                                    "1": "5.24"
                                },
                                {
                                    "0": "Carlsen",
                                    "1": "5.63"
                                },
                                {
                                    "0": "Caruana",
                                    "1": "5.51"
                                },
                                {
                                    "0": "Fischer",
                                    "1": "5.72"
                                },
                                {
                                    "0": "Kasparov",
                                    "1": "4.90"
                                },
                                {
                                    "0": "Morphy",
                                    "1": "5.78"
                                },
                                {
                                    "0": "Nakamura",
                                    "1": "5.80"
                                },
                                {
                                    "0": "Polgar",
                                    "1": "5.37"
                                },
                                {
                                    "0": "Tal",
                                    "1": "4.82"
                                }
                            ]
                        },
                        "text/html": [
                            "<table>",
                            "<tr><th>player</th><th>avg_sac_per_game</th></tr>",
                            "<tr><td>Alekhine</td><td>5.66</td></tr>",
                            "<tr><td>Anand</td><td>5.35</td></tr>",
                            "<tr><td>Botvinnik</td><td>5.41</td></tr>",
                            "<tr><td>Capablanca</td><td>5.24</td></tr>",
                            "<tr><td>Carlsen</td><td>5.63</td></tr>",
                            "<tr><td>Caruana</td><td>5.51</td></tr>",
                            "<tr><td>Fischer</td><td>5.72</td></tr>",
                            "<tr><td>Kasparov</td><td>4.90</td></tr>",
                            "<tr><td>Morphy</td><td>5.78</td></tr>",
                            "<tr><td>Nakamura</td><td>5.80</td></tr>",
                            "<tr><td>Polgar</td><td>5.37</td></tr>",
                            "<tr><td>Tal</td><td>4.82</td></tr>",
                            "</table>"
                        ]
                    }
                }
            ],
            "execution_count": 5
        },
        {
            "cell_type": "markdown",
            "source": [
                "# Average life span of chess pieces\n",
                "\n",
                "Chess players tend to value pieces differently and have a tendency to keep their favourite pieces on the board for as long as they could. The way to calculate life span for bishops works liek this: on one game, if the first bishop survives 20 moves before getting captured and another bishop surveves 30 moves before getting captured, then the average life span for bishops in this game is (20 + 30) /2 = 25. This number is then averaged over all that player's games. These tables show the average life span of pieces from each player."
            ],
            "metadata": {
                "azdata_cell_guid": "327b6102-8ec0-4413-be70-e9e7d8ace094"
            },
            "attachments": {}
        },
        {
            "cell_type": "code",
            "source": [
                "-- Average life span of queen\n",
                "SELECT\n",
                "    player,\n",
                "    AVG(life_span) AS average_life_span_queen\n",
                "FROM\n",
                "    (SELECT\n",
                "        player,\n",
                "        file_name,\n",
                "        COUNT(*) AS life_span\n",
                "    FROM\n",
                "        pivot_table\n",
                "    WHERE\n",
                "        piece = 'queen'\n",
                "    AND num_of_piece = 1\n",
                "    GROUP BY file_name, player) AS queen_life_span\n",
                "GROUP BY\n",
                "    player\n",
                "ORDER BY 2\n",
                "\n",
                "-- Average life span of knight\n",
                "SELECT\n",
                "    player,\n",
                "    AVG(first_knight_life_span + second_knight_life_span) / 2 AS average_life_span_knight\n",
                "FROM\n",
                "    (SELECT\n",
                "        player,\n",
                "        file_name,\n",
                "        COUNT(CASE WHEN num_of_piece = 2 THEN 2 END) AS first_knight_life_span,\n",
                "        SUM(CASE WHEN 1 <= num_of_piece AND num_of_piece <= 2 THEN 1 END) AS second_knight_life_span\n",
                "    FROM\n",
                "        pivot_table\n",
                "    WHERE\n",
                "        piece = 'knight'\n",
                "    GROUP BY player, file_name) AS knight_life_span\n",
                "GROUP BY player\n",
                "ORDER BY 2\n",
                "\n",
                "-- Average life span of bishop\n",
                "SELECT\n",
                "    player,\n",
                "    AVG(first_bishop_life_span + second_bishop_life_span) / 2 AS average_life_span_bishop\n",
                "FROM\n",
                "    (SELECT\n",
                "        player,\n",
                "        file_name,\n",
                "        COUNT(CASE WHEN num_of_piece = 2 THEN 2 END) AS first_bishop_life_span,\n",
                "        SUM(CASE WHEN 1 <= num_of_piece AND num_of_piece <= 2 THEN 1 END) AS second_bishop_life_span\n",
                "    FROM\n",
                "        pivot_table\n",
                "    WHERE\n",
                "        piece = 'bishop'\n",
                "    GROUP BY player, file_name) AS bishop_life_span\n",
                "GROUP BY player\n",
                "ORDER BY 2\n",
                "\n",
                "-- Average life span of rook\n",
                "SELECT\n",
                "    player,\n",
                "    AVG(first_rook_life_span + second_rook_life_span) / 2 AS average_life_span_rook\n",
                "FROM\n",
                "    (SELECT\n",
                "        player,\n",
                "        file_name,\n",
                "        COUNT(CASE WHEN num_of_piece = 2 THEN 2 END) AS first_rook_life_span,\n",
                "        SUM(CASE WHEN 1 <= num_of_piece AND num_of_piece <= 2 THEN 1 END) AS second_rook_life_span\n",
                "    FROM\n",
                "        pivot_table\n",
                "    WHERE\n",
                "        piece = 'rook'\n",
                "    GROUP BY player, file_name) AS rook_life_span\n",
                "GROUP BY player\n",
                "ORDER BY 2\n",
                "\n",
                "-- Average life span of pawn\n",
                "SELECT\n",
                "    player,\n",
                "    AVG(first_pawn_life_span + second_pawn_life_span + third_pawn_life_span + fourth_pawn_life_span +\n",
                "        fifth_pawn_life_span + sixth_pawn_life_span + seventh_pawn_life_span + eigth_pawn_life_span) / 8 AS average_life_span_pawn\n",
                "FROM\n",
                "    (SELECT\n",
                "        player,\n",
                "        file_name,\n",
                "        COUNT(CASE WHEN num_of_piece = 8 THEN 8 END) AS first_pawn_life_span,\n",
                "        COUNT(CASE WHEN 7 <= num_of_piece AND num_of_piece <= 8 THEN 2 END) AS second_pawn_life_span,\n",
                "        COUNT(CASE WHEN 6 <= num_of_piece AND num_of_piece <= 8 THEN 3 END) AS third_pawn_life_span,\n",
                "        COUNT(CASE WHEN 5 <= num_of_piece AND num_of_piece <= 8 THEN 4 END) AS fourth_pawn_life_span,\n",
                "        COUNT(CASE WHEN 4 <= num_of_piece AND num_of_piece <= 8 THEN 5 END) AS fifth_pawn_life_span,\n",
                "        COUNT(CASE WHEN 3 <= num_of_piece AND num_of_piece <= 8 THEN 6 END) AS sixth_pawn_life_span,\n",
                "        COUNT(CASE WHEN 2 <= num_of_piece AND num_of_piece <= 8 THEN 7 END) AS seventh_pawn_life_span,\n",
                "        COUNT(CASE WHEN 1 <= num_of_piece AND num_of_piece <= 8 THEN 8 END) AS eigth_pawn_life_span\n",
                "    FROM\n",
                "        pivot_table\n",
                "    WHERE\n",
                "        piece = 'pawn'\n",
                "    GROUP BY player, file_name) AS pawn_life_span\n",
                "GROUP BY player\n",
                "ORDER BY 2\n",
                "\n",
                "\n",
                ""
            ],
            "metadata": {
                "azdata_cell_guid": "931a89bf-fd2a-4125-b7b2-2c0587dcf57b",
                "language": "sql"
            },
            "outputs": [
                {
                    "output_type": "display_data",
                    "data": {
                        "text/html": "(12 rows affected)"
                    },
                    "metadata": {}
                },
                {
                    "output_type": "display_data",
                    "data": {
                        "text/html": "Warning: Null value is eliminated by an aggregate or other SET operation."
                    },
                    "metadata": {}
                },
                {
                    "output_type": "display_data",
                    "data": {
                        "text/html": "(12 rows affected)"
                    },
                    "metadata": {}
                },
                {
                    "output_type": "display_data",
                    "data": {
                        "text/html": "Warning: Null value is eliminated by an aggregate or other SET operation."
                    },
                    "metadata": {}
                },
                {
                    "output_type": "display_data",
                    "data": {
                        "text/html": "(12 rows affected)"
                    },
                    "metadata": {}
                },
                {
                    "output_type": "display_data",
                    "data": {
                        "text/html": "Warning: Null value is eliminated by an aggregate or other SET operation."
                    },
                    "metadata": {}
                },
                {
                    "output_type": "display_data",
                    "data": {
                        "text/html": "(12 rows affected)"
                    },
                    "metadata": {}
                },
                {
                    "output_type": "display_data",
                    "data": {
                        "text/html": "Warning: Null value is eliminated by an aggregate or other SET operation."
                    },
                    "metadata": {}
                },
                {
                    "output_type": "display_data",
                    "data": {
                        "text/html": "(12 rows affected)"
                    },
                    "metadata": {}
                },
                {
                    "output_type": "display_data",
                    "data": {
                        "text/html": "Total execution time: 00:00:06.824"
                    },
                    "metadata": {}
                },
                {
                    "output_type": "execute_result",
                    "metadata": {},
                    "execution_count": 3,
                    "data": {
                        "application/vnd.dataresource+json": {
                            "schema": {
                                "fields": [
                                    {
                                        "name": "player"
                                    },
                                    {
                                        "name": "average_life_span_queen"
                                    }
                                ]
                            },
                            "data": [
                                {
                                    "0": "Capablanca",
                                    "1": "52"
                                },
                                {
                                    "0": "Morphy",
                                    "1": "53"
                                },
                                {
                                    "0": "Tal",
                                    "1": "53"
                                },
                                {
                                    "0": "Fischer",
                                    "1": "54"
                                },
                                {
                                    "0": "Kasparov",
                                    "1": "57"
                                },
                                {
                                    "0": "Anand",
                                    "1": "57"
                                },
                                {
                                    "0": "Alekhine",
                                    "1": "58"
                                },
                                {
                                    "0": "Botvinnik",
                                    "1": "59"
                                },
                                {
                                    "0": "Carlsen",
                                    "1": "60"
                                },
                                {
                                    "0": "Nakamura",
                                    "1": "61"
                                },
                                {
                                    "0": "Polgar",
                                    "1": "62"
                                },
                                {
                                    "0": "Caruana",
                                    "1": "66"
                                }
                            ]
                        },
                        "text/html": [
                            "<table>",
                            "<tr><th>player</th><th>average_life_span_queen</th></tr>",
                            "<tr><td>Capablanca</td><td>52</td></tr>",
                            "<tr><td>Morphy</td><td>53</td></tr>",
                            "<tr><td>Tal</td><td>53</td></tr>",
                            "<tr><td>Fischer</td><td>54</td></tr>",
                            "<tr><td>Kasparov</td><td>57</td></tr>",
                            "<tr><td>Anand</td><td>57</td></tr>",
                            "<tr><td>Alekhine</td><td>58</td></tr>",
                            "<tr><td>Botvinnik</td><td>59</td></tr>",
                            "<tr><td>Carlsen</td><td>60</td></tr>",
                            "<tr><td>Nakamura</td><td>61</td></tr>",
                            "<tr><td>Polgar</td><td>62</td></tr>",
                            "<tr><td>Caruana</td><td>66</td></tr>",
                            "</table>"
                        ]
                    }
                },
                {
                    "output_type": "execute_result",
                    "metadata": {},
                    "execution_count": 3,
                    "data": {
                        "application/vnd.dataresource+json": {
                            "schema": {
                                "fields": [
                                    {
                                        "name": "player"
                                    },
                                    {
                                        "name": "average_life_span_knight"
                                    }
                                ]
                            },
                            "data": [
                                {
                                    "0": "Morphy",
                                    "1": "38"
                                },
                                {
                                    "0": "Alekhine",
                                    "1": "41"
                                },
                                {
                                    "0": "Capablanca",
                                    "1": "42"
                                },
                                {
                                    "0": "Fischer",
                                    "1": "42"
                                },
                                {
                                    "0": "Tal",
                                    "1": "42"
                                },
                                {
                                    "0": "Kasparov",
                                    "1": "44"
                                },
                                {
                                    "0": "Anand",
                                    "1": "45"
                                },
                                {
                                    "0": "Botvinnik",
                                    "1": "46"
                                },
                                {
                                    "0": "Carlsen",
                                    "1": "46"
                                },
                                {
                                    "0": "Polgar",
                                    "1": "48"
                                },
                                {
                                    "0": "Caruana",
                                    "1": "49"
                                },
                                {
                                    "0": "Nakamura",
                                    "1": "50"
                                }
                            ]
                        },
                        "text/html": [
                            "<table>",
                            "<tr><th>player</th><th>average_life_span_knight</th></tr>",
                            "<tr><td>Morphy</td><td>38</td></tr>",
                            "<tr><td>Alekhine</td><td>41</td></tr>",
                            "<tr><td>Capablanca</td><td>42</td></tr>",
                            "<tr><td>Fischer</td><td>42</td></tr>",
                            "<tr><td>Tal</td><td>42</td></tr>",
                            "<tr><td>Kasparov</td><td>44</td></tr>",
                            "<tr><td>Anand</td><td>45</td></tr>",
                            "<tr><td>Botvinnik</td><td>46</td></tr>",
                            "<tr><td>Carlsen</td><td>46</td></tr>",
                            "<tr><td>Polgar</td><td>48</td></tr>",
                            "<tr><td>Caruana</td><td>49</td></tr>",
                            "<tr><td>Nakamura</td><td>50</td></tr>",
                            "</table>"
                        ]
                    }
                },
                {
                    "output_type": "execute_result",
                    "metadata": {},
                    "execution_count": 3,
                    "data": {
                        "application/vnd.dataresource+json": {
                            "schema": {
                                "fields": [
                                    {
                                        "name": "player"
                                    },
                                    {
                                        "name": "average_life_span_bishop"
                                    }
                                ]
                            },
                            "data": [
                                {
                                    "0": "Capablanca",
                                    "1": "43"
                                },
                                {
                                    "0": "Morphy",
                                    "1": "43"
                                },
                                {
                                    "0": "Tal",
                                    "1": "46"
                                },
                                {
                                    "0": "Alekhine",
                                    "1": "47"
                                },
                                {
                                    "0": "Anand",
                                    "1": "48"
                                },
                                {
                                    "0": "Carlsen",
                                    "1": "51"
                                },
                                {
                                    "0": "Fischer",
                                    "1": "51"
                                },
                                {
                                    "0": "Kasparov",
                                    "1": "52"
                                },
                                {
                                    "0": "Botvinnik",
                                    "1": "52"
                                },
                                {
                                    "0": "Nakamura",
                                    "1": "53"
                                },
                                {
                                    "0": "Polgar",
                                    "1": "53"
                                },
                                {
                                    "0": "Caruana",
                                    "1": "55"
                                }
                            ]
                        },
                        "text/html": [
                            "<table>",
                            "<tr><th>player</th><th>average_life_span_bishop</th></tr>",
                            "<tr><td>Capablanca</td><td>43</td></tr>",
                            "<tr><td>Morphy</td><td>43</td></tr>",
                            "<tr><td>Tal</td><td>46</td></tr>",
                            "<tr><td>Alekhine</td><td>47</td></tr>",
                            "<tr><td>Anand</td><td>48</td></tr>",
                            "<tr><td>Carlsen</td><td>51</td></tr>",
                            "<tr><td>Fischer</td><td>51</td></tr>",
                            "<tr><td>Kasparov</td><td>52</td></tr>",
                            "<tr><td>Botvinnik</td><td>52</td></tr>",
                            "<tr><td>Nakamura</td><td>53</td></tr>",
                            "<tr><td>Polgar</td><td>53</td></tr>",
                            "<tr><td>Caruana</td><td>55</td></tr>",
                            "</table>"
                        ]
                    }
                },
                {
                    "output_type": "execute_result",
                    "metadata": {},
                    "execution_count": 3,
                    "data": {
                        "application/vnd.dataresource+json": {
                            "schema": {
                                "fields": [
                                    {
                                        "name": "player"
                                    },
                                    {
                                        "name": "average_life_span_rook"
                                    }
                                ]
                            },
                            "data": [
                                {
                                    "0": "Morphy",
                                    "1": "55"
                                },
                                {
                                    "0": "Tal",
                                    "1": "58"
                                },
                                {
                                    "0": "Capablanca",
                                    "1": "61"
                                },
                                {
                                    "0": "Anand",
                                    "1": "63"
                                },
                                {
                                    "0": "Kasparov",
                                    "1": "63"
                                },
                                {
                                    "0": "Alekhine",
                                    "1": "64"
                                },
                                {
                                    "0": "Fischer",
                                    "1": "64"
                                },
                                {
                                    "0": "Botvinnik",
                                    "1": "65"
                                },
                                {
                                    "0": "Carlsen",
                                    "1": "67"
                                },
                                {
                                    "0": "Polgar",
                                    "1": "69"
                                },
                                {
                                    "0": "Caruana",
                                    "1": "71"
                                },
                                {
                                    "0": "Nakamura",
                                    "1": "72"
                                }
                            ]
                        },
                        "text/html": [
                            "<table>",
                            "<tr><th>player</th><th>average_life_span_rook</th></tr>",
                            "<tr><td>Morphy</td><td>55</td></tr>",
                            "<tr><td>Tal</td><td>58</td></tr>",
                            "<tr><td>Capablanca</td><td>61</td></tr>",
                            "<tr><td>Anand</td><td>63</td></tr>",
                            "<tr><td>Kasparov</td><td>63</td></tr>",
                            "<tr><td>Alekhine</td><td>64</td></tr>",
                            "<tr><td>Fischer</td><td>64</td></tr>",
                            "<tr><td>Botvinnik</td><td>65</td></tr>",
                            "<tr><td>Carlsen</td><td>67</td></tr>",
                            "<tr><td>Polgar</td><td>69</td></tr>",
                            "<tr><td>Caruana</td><td>71</td></tr>",
                            "<tr><td>Nakamura</td><td>72</td></tr>",
                            "</table>"
                        ]
                    }
                },
                {
                    "output_type": "execute_result",
                    "metadata": {},
                    "execution_count": 3,
                    "data": {
                        "application/vnd.dataresource+json": {
                            "schema": {
                                "fields": [
                                    {
                                        "name": "player"
                                    },
                                    {
                                        "name": "average_life_span_pawn"
                                    }
                                ]
                            },
                            "data": [
                                {
                                    "0": "Morphy",
                                    "1": "49"
                                },
                                {
                                    "0": "Tal",
                                    "1": "53"
                                },
                                {
                                    "0": "Kasparov",
                                    "1": "57"
                                },
                                {
                                    "0": "Fischer",
                                    "1": "58"
                                },
                                {
                                    "0": "Alekhine",
                                    "1": "59"
                                },
                                {
                                    "0": "Anand",
                                    "1": "59"
                                },
                                {
                                    "0": "Capablanca",
                                    "1": "59"
                                },
                                {
                                    "0": "Polgar",
                                    "1": "61"
                                },
                                {
                                    "0": "Botvinnik",
                                    "1": "62"
                                },
                                {
                                    "0": "Carlsen",
                                    "1": "64"
                                },
                                {
                                    "0": "Nakamura",
                                    "1": "65"
                                },
                                {
                                    "0": "Caruana",
                                    "1": "66"
                                }
                            ]
                        },
                        "text/html": [
                            "<table>",
                            "<tr><th>player</th><th>average_life_span_pawn</th></tr>",
                            "<tr><td>Morphy</td><td>49</td></tr>",
                            "<tr><td>Tal</td><td>53</td></tr>",
                            "<tr><td>Kasparov</td><td>57</td></tr>",
                            "<tr><td>Fischer</td><td>58</td></tr>",
                            "<tr><td>Alekhine</td><td>59</td></tr>",
                            "<tr><td>Anand</td><td>59</td></tr>",
                            "<tr><td>Capablanca</td><td>59</td></tr>",
                            "<tr><td>Polgar</td><td>61</td></tr>",
                            "<tr><td>Botvinnik</td><td>62</td></tr>",
                            "<tr><td>Carlsen</td><td>64</td></tr>",
                            "<tr><td>Nakamura</td><td>65</td></tr>",
                            "<tr><td>Caruana</td><td>66</td></tr>",
                            "</table>"
                        ]
                    }
                }
            ],
            "execution_count": 3
        }
    ]
}